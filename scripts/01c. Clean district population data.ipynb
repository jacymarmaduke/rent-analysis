{
 "cells": [
  {
   "cell_type": "code",
   "execution_count": null,
   "id": "7e7a98d8",
   "metadata": {},
   "outputs": [],
   "source": [
    "This notebook contains:\n",
    "01. Import libraries and data\n",
    "02. Check data\n",
    "\n",
    "Note: The source of this data is a spreadsheet of my own design where I combined each district's\n",
    "population with its average annual rate of change between 2018 and 2020 (the years the rental data was collected).\n",
    "The data came from the Federal Statistical Office of Germany."
   ]
  },
  {
   "cell_type": "code",
   "execution_count": 1,
   "id": "fe27b604",
   "metadata": {},
   "outputs": [],
   "source": [
    "# import libraries\n",
    "import pandas as pd\n",
    "import numpy as np\n",
    "import os"
   ]
  },
  {
   "cell_type": "code",
   "execution_count": 2,
   "id": "5308e92b",
   "metadata": {},
   "outputs": [],
   "source": [
    "# create shortcut for data imports\n",
    "path = r'C:\\Users\\jacym\\Desktop\\Career Foundry projects\\german rent'"
   ]
  },
  {
   "cell_type": "code",
   "execution_count": 3,
   "id": "c788c2df",
   "metadata": {},
   "outputs": [],
   "source": [
    "# district population data\n",
    "df = pd.read_csv(os.path.join(path, '02 data', 'cleaned data', 'district_pop.csv'), index_col = False)"
   ]
  },
  {
   "cell_type": "markdown",
   "id": "aea2fdb5",
   "metadata": {},
   "source": [
    "# 02. Check data"
   ]
  },
  {
   "cell_type": "code",
   "execution_count": 4,
   "id": "ed93bc47",
   "metadata": {},
   "outputs": [
    {
     "data": {
      "text/html": [
       "<div>\n",
       "<style scoped>\n",
       "    .dataframe tbody tr th:only-of-type {\n",
       "        vertical-align: middle;\n",
       "    }\n",
       "\n",
       "    .dataframe tbody tr th {\n",
       "        vertical-align: top;\n",
       "    }\n",
       "\n",
       "    .dataframe thead th {\n",
       "        text-align: right;\n",
       "    }\n",
       "</style>\n",
       "<table border=\"1\" class=\"dataframe\">\n",
       "  <thead>\n",
       "    <tr style=\"text-align: right;\">\n",
       "      <th></th>\n",
       "      <th>regio2</th>\n",
       "      <th>districtPopTrend</th>\n",
       "      <th>districtPop</th>\n",
       "    </tr>\n",
       "  </thead>\n",
       "  <tbody>\n",
       "    <tr>\n",
       "      <th>0</th>\n",
       "      <td>Aachen</td>\n",
       "      <td>0.35</td>\n",
       "      <td>555465</td>\n",
       "    </tr>\n",
       "    <tr>\n",
       "      <th>1</th>\n",
       "      <td>Aachen_Kreis</td>\n",
       "      <td>0.35</td>\n",
       "      <td>555465</td>\n",
       "    </tr>\n",
       "    <tr>\n",
       "      <th>2</th>\n",
       "      <td>Ahrweiler_Kreis</td>\n",
       "      <td>0.18</td>\n",
       "      <td>129727</td>\n",
       "    </tr>\n",
       "    <tr>\n",
       "      <th>3</th>\n",
       "      <td>Aichach_Friedberg_Kreis</td>\n",
       "      <td>0.75</td>\n",
       "      <td>133596</td>\n",
       "    </tr>\n",
       "    <tr>\n",
       "      <th>4</th>\n",
       "      <td>Alb_Donau_Kreis</td>\n",
       "      <td>0.83</td>\n",
       "      <td>196047</td>\n",
       "    </tr>\n",
       "  </tbody>\n",
       "</table>\n",
       "</div>"
      ],
      "text/plain": [
       "                    regio2  districtPopTrend  districtPop\n",
       "0                   Aachen              0.35       555465\n",
       "1             Aachen_Kreis              0.35       555465\n",
       "2          Ahrweiler_Kreis              0.18       129727\n",
       "3  Aichach_Friedberg_Kreis              0.75       133596\n",
       "4          Alb_Donau_Kreis              0.83       196047"
      ]
     },
     "execution_count": 4,
     "metadata": {},
     "output_type": "execute_result"
    }
   ],
   "source": [
    "df.head()"
   ]
  },
  {
   "cell_type": "code",
   "execution_count": 5,
   "id": "f3e443dc",
   "metadata": {},
   "outputs": [
    {
     "data": {
      "text/plain": [
       "(400, 3)"
      ]
     },
     "execution_count": 5,
     "metadata": {},
     "output_type": "execute_result"
    }
   ],
   "source": [
    "df.shape"
   ]
  },
  {
   "cell_type": "code",
   "execution_count": 6,
   "id": "5db2234f",
   "metadata": {},
   "outputs": [
    {
     "data": {
      "text/plain": [
       "regio2               object\n",
       "districtPopTrend    float64\n",
       "districtPop           int64\n",
       "dtype: object"
      ]
     },
     "execution_count": 6,
     "metadata": {},
     "output_type": "execute_result"
    }
   ],
   "source": [
    "df.dtypes\n",
    "# make sure none of the number columns have \"object\" for data type"
   ]
  }
 ],
 "metadata": {
  "kernelspec": {
   "display_name": "Python 3 (ipykernel)",
   "language": "python",
   "name": "python3"
  },
  "language_info": {
   "codemirror_mode": {
    "name": "ipython",
    "version": 3
   },
   "file_extension": ".py",
   "mimetype": "text/x-python",
   "name": "python",
   "nbconvert_exporter": "python",
   "pygments_lexer": "ipython3",
   "version": "3.10.9"
  }
 },
 "nbformat": 4,
 "nbformat_minor": 5
}

{
 "cells": [
  {
   "cell_type": "markdown",
   "metadata": {},
   "source": [
    "## Regression analysis"
   ]
  },
  {
   "cell_type": "markdown",
   "metadata": {},
   "source": [
    "### This script contains the following:\n",
    "\n",
    "#### 01. Import libraries and data\n",
    "#### 02. Clean data\n",
    "#### 03. Data prep for regression analysis\n",
    "#### 04. Regression analysis\n",
    "#### 05. Evaluate performance after removing outliers \n",
    "\n",
    "#### Bonus tasks: Additional regression analyses with different variables\n",
    "\n",
    "About: I'm using linear regression to test four relationships that looked promising because of their correlations. None of the relationships were strong enough to assume linear relationships."
   ]
  },
  {
   "cell_type": "markdown",
   "metadata": {},
   "source": [
    "### 1. Import libraries and data"
   ]
  },
  {
   "cell_type": "code",
   "execution_count": 1,
   "metadata": {},
   "outputs": [],
   "source": [
    "import pandas as pd\n",
    "import numpy as np\n",
    "import seaborn as sns\n",
    "import matplotlib\n",
    "import matplotlib.pyplot as plt\n",
    "import os\n",
    "import sklearn\n",
    "from sklearn.model_selection import train_test_split \n",
    "from sklearn.linear_model import LinearRegression\n",
    "from sklearn.metrics import mean_squared_error, r2_score"
   ]
  },
  {
   "cell_type": "code",
   "execution_count": 2,
   "metadata": {},
   "outputs": [],
   "source": [
    "# This option ensures that the graphs you create are displayed within the notebook without the need to \"call\" them specifically.\n",
    "\n",
    "%matplotlib inline"
   ]
  },
  {
   "cell_type": "code",
   "execution_count": 3,
   "metadata": {},
   "outputs": [],
   "source": [
    "path = r'C:\\Users\\jacym\\Desktop\\Career Foundry projects\\german rent\\02 data'"
   ]
  },
  {
   "cell_type": "code",
   "execution_count": 4,
   "metadata": {},
   "outputs": [],
   "source": [
    "df = pd.read_csv(os.path.join(path, 'cleaned data', 'rent_district_pop_merged.csv'))"
   ]
  },
  {
   "cell_type": "markdown",
   "metadata": {},
   "source": [
    "### 2. Data cleaning"
   ]
  },
  {
   "cell_type": "code",
   "execution_count": 5,
   "metadata": {
    "scrolled": true
   },
   "outputs": [
    {
     "data": {
      "text/plain": [
       "Index(['scoutId', 'regio1', 'baseRent', 'totalRent', 'pricetrend',\n",
       "       'livingSpace', 'plz', 'picturecount', 'newlyConst', 'yearConstructed',\n",
       "       'firingTypes', 'heatingType', 'hasKitchen', 'cellar', 'condition',\n",
       "       'street', 'lift', 'typeOfFlat', 'noRooms', 'floor', 'balcony', 'garden',\n",
       "       'baseRentRange', 'noRoomsRange', 'livingSpaceRange',\n",
       "       'yearConstructedRange', 'regio2', 'regio3', 'description', 'date',\n",
       "       'population', 'populationTrend', 'popTrendCat', 'surfaceArea',\n",
       "       'populationDensity', 'space/person', 'people/apt', 'districtPopTrend',\n",
       "       'districtPop'],\n",
       "      dtype='object')"
      ]
     },
     "execution_count": 5,
     "metadata": {},
     "output_type": "execute_result"
    }
   ],
   "source": [
    "df.columns"
   ]
  },
  {
   "cell_type": "code",
   "execution_count": 6,
   "metadata": {
    "scrolled": true
   },
   "outputs": [
    {
     "data": {
      "text/html": [
       "<div>\n",
       "<style scoped>\n",
       "    .dataframe tbody tr th:only-of-type {\n",
       "        vertical-align: middle;\n",
       "    }\n",
       "\n",
       "    .dataframe tbody tr th {\n",
       "        vertical-align: top;\n",
       "    }\n",
       "\n",
       "    .dataframe thead th {\n",
       "        text-align: right;\n",
       "    }\n",
       "</style>\n",
       "<table border=\"1\" class=\"dataframe\">\n",
       "  <thead>\n",
       "    <tr style=\"text-align: right;\">\n",
       "      <th></th>\n",
       "      <th>scoutId</th>\n",
       "      <th>regio1</th>\n",
       "      <th>baseRent</th>\n",
       "      <th>totalRent</th>\n",
       "      <th>pricetrend</th>\n",
       "      <th>livingSpace</th>\n",
       "      <th>plz</th>\n",
       "      <th>picturecount</th>\n",
       "      <th>newlyConst</th>\n",
       "      <th>yearConstructed</th>\n",
       "      <th>...</th>\n",
       "      <th>date</th>\n",
       "      <th>population</th>\n",
       "      <th>populationTrend</th>\n",
       "      <th>popTrendCat</th>\n",
       "      <th>surfaceArea</th>\n",
       "      <th>populationDensity</th>\n",
       "      <th>space/person</th>\n",
       "      <th>people/apt</th>\n",
       "      <th>districtPopTrend</th>\n",
       "      <th>districtPop</th>\n",
       "    </tr>\n",
       "  </thead>\n",
       "  <tbody>\n",
       "    <tr>\n",
       "      <th>0</th>\n",
       "      <td>96107057</td>\n",
       "      <td>Nordrhein_Westfalen</td>\n",
       "      <td>595.00</td>\n",
       "      <td>840.00</td>\n",
       "      <td>4.62</td>\n",
       "      <td>86.00</td>\n",
       "      <td>44269</td>\n",
       "      <td>6</td>\n",
       "      <td>False</td>\n",
       "      <td>1965.0</td>\n",
       "      <td>...</td>\n",
       "      <td>2019-05-10</td>\n",
       "      <td>17935147</td>\n",
       "      <td>-0.02</td>\n",
       "      <td>stable</td>\n",
       "      <td>34098</td>\n",
       "      <td>526</td>\n",
       "      <td>41.41</td>\n",
       "      <td>2.12</td>\n",
       "      <td>0.33</td>\n",
       "      <td>587010</td>\n",
       "    </tr>\n",
       "    <tr>\n",
       "      <th>1</th>\n",
       "      <td>92798563</td>\n",
       "      <td>Nordrhein_Westfalen</td>\n",
       "      <td>972.60</td>\n",
       "      <td>1320.65</td>\n",
       "      <td>3.76</td>\n",
       "      <td>87.00</td>\n",
       "      <td>44229</td>\n",
       "      <td>12</td>\n",
       "      <td>True</td>\n",
       "      <td>2018.0</td>\n",
       "      <td>...</td>\n",
       "      <td>2019-05-10</td>\n",
       "      <td>17935147</td>\n",
       "      <td>-0.02</td>\n",
       "      <td>stable</td>\n",
       "      <td>34098</td>\n",
       "      <td>526</td>\n",
       "      <td>41.41</td>\n",
       "      <td>2.12</td>\n",
       "      <td>0.33</td>\n",
       "      <td>587010</td>\n",
       "    </tr>\n",
       "    <tr>\n",
       "      <th>2</th>\n",
       "      <td>114894763</td>\n",
       "      <td>Nordrhein_Westfalen</td>\n",
       "      <td>396.80</td>\n",
       "      <td>493.80</td>\n",
       "      <td>4.10</td>\n",
       "      <td>62.00</td>\n",
       "      <td>44137</td>\n",
       "      <td>0</td>\n",
       "      <td>False</td>\n",
       "      <td>1958.0</td>\n",
       "      <td>...</td>\n",
       "      <td>2020-02-01</td>\n",
       "      <td>17935147</td>\n",
       "      <td>-0.02</td>\n",
       "      <td>stable</td>\n",
       "      <td>34098</td>\n",
       "      <td>526</td>\n",
       "      <td>41.41</td>\n",
       "      <td>2.12</td>\n",
       "      <td>0.33</td>\n",
       "      <td>587010</td>\n",
       "    </tr>\n",
       "    <tr>\n",
       "      <th>3</th>\n",
       "      <td>90046012</td>\n",
       "      <td>Nordrhein_Westfalen</td>\n",
       "      <td>310.00</td>\n",
       "      <td>460.00</td>\n",
       "      <td>3.28</td>\n",
       "      <td>55.00</td>\n",
       "      <td>44329</td>\n",
       "      <td>14</td>\n",
       "      <td>False</td>\n",
       "      <td>1930.0</td>\n",
       "      <td>...</td>\n",
       "      <td>2019-05-10</td>\n",
       "      <td>17935147</td>\n",
       "      <td>-0.02</td>\n",
       "      <td>stable</td>\n",
       "      <td>34098</td>\n",
       "      <td>526</td>\n",
       "      <td>41.41</td>\n",
       "      <td>2.12</td>\n",
       "      <td>0.33</td>\n",
       "      <td>587010</td>\n",
       "    </tr>\n",
       "    <tr>\n",
       "      <th>4</th>\n",
       "      <td>87928570</td>\n",
       "      <td>Nordrhein_Westfalen</td>\n",
       "      <td>301.00</td>\n",
       "      <td>NaN</td>\n",
       "      <td>4.41</td>\n",
       "      <td>30.07</td>\n",
       "      <td>44137</td>\n",
       "      <td>31</td>\n",
       "      <td>False</td>\n",
       "      <td>1979.0</td>\n",
       "      <td>...</td>\n",
       "      <td>2018-09-22</td>\n",
       "      <td>17935147</td>\n",
       "      <td>-0.02</td>\n",
       "      <td>stable</td>\n",
       "      <td>34098</td>\n",
       "      <td>526</td>\n",
       "      <td>41.41</td>\n",
       "      <td>2.12</td>\n",
       "      <td>0.33</td>\n",
       "      <td>587010</td>\n",
       "    </tr>\n",
       "    <tr>\n",
       "      <th>5</th>\n",
       "      <td>79343710</td>\n",
       "      <td>Nordrhein_Westfalen</td>\n",
       "      <td>1550.00</td>\n",
       "      <td>2205.00</td>\n",
       "      <td>3.85</td>\n",
       "      <td>148.00</td>\n",
       "      <td>44229</td>\n",
       "      <td>32</td>\n",
       "      <td>False</td>\n",
       "      <td>2015.0</td>\n",
       "      <td>...</td>\n",
       "      <td>2019-05-10</td>\n",
       "      <td>17935147</td>\n",
       "      <td>-0.02</td>\n",
       "      <td>stable</td>\n",
       "      <td>34098</td>\n",
       "      <td>526</td>\n",
       "      <td>41.41</td>\n",
       "      <td>2.12</td>\n",
       "      <td>0.33</td>\n",
       "      <td>587010</td>\n",
       "    </tr>\n",
       "    <tr>\n",
       "      <th>6</th>\n",
       "      <td>62267211</td>\n",
       "      <td>Nordrhein_Westfalen</td>\n",
       "      <td>440.00</td>\n",
       "      <td>525.00</td>\n",
       "      <td>4.41</td>\n",
       "      <td>67.00</td>\n",
       "      <td>44137</td>\n",
       "      <td>6</td>\n",
       "      <td>False</td>\n",
       "      <td>1965.0</td>\n",
       "      <td>...</td>\n",
       "      <td>2019-05-10</td>\n",
       "      <td>17935147</td>\n",
       "      <td>-0.02</td>\n",
       "      <td>stable</td>\n",
       "      <td>34098</td>\n",
       "      <td>526</td>\n",
       "      <td>41.41</td>\n",
       "      <td>2.12</td>\n",
       "      <td>0.33</td>\n",
       "      <td>587010</td>\n",
       "    </tr>\n",
       "    <tr>\n",
       "      <th>7</th>\n",
       "      <td>93403649</td>\n",
       "      <td>Nordrhein_Westfalen</td>\n",
       "      <td>370.00</td>\n",
       "      <td>500.00</td>\n",
       "      <td>4.55</td>\n",
       "      <td>50.00</td>\n",
       "      <td>44287</td>\n",
       "      <td>13</td>\n",
       "      <td>False</td>\n",
       "      <td>NaN</td>\n",
       "      <td>...</td>\n",
       "      <td>2019-05-10</td>\n",
       "      <td>17935147</td>\n",
       "      <td>-0.02</td>\n",
       "      <td>stable</td>\n",
       "      <td>34098</td>\n",
       "      <td>526</td>\n",
       "      <td>41.41</td>\n",
       "      <td>2.12</td>\n",
       "      <td>0.33</td>\n",
       "      <td>587010</td>\n",
       "    </tr>\n",
       "    <tr>\n",
       "      <th>8</th>\n",
       "      <td>113557346</td>\n",
       "      <td>Nordrhein_Westfalen</td>\n",
       "      <td>403.75</td>\n",
       "      <td>653.75</td>\n",
       "      <td>3.71</td>\n",
       "      <td>85.00</td>\n",
       "      <td>44143</td>\n",
       "      <td>8</td>\n",
       "      <td>False</td>\n",
       "      <td>1981.0</td>\n",
       "      <td>...</td>\n",
       "      <td>2020-02-01</td>\n",
       "      <td>17935147</td>\n",
       "      <td>-0.02</td>\n",
       "      <td>stable</td>\n",
       "      <td>34098</td>\n",
       "      <td>526</td>\n",
       "      <td>41.41</td>\n",
       "      <td>2.12</td>\n",
       "      <td>0.33</td>\n",
       "      <td>587010</td>\n",
       "    </tr>\n",
       "    <tr>\n",
       "      <th>9</th>\n",
       "      <td>111370962</td>\n",
       "      <td>Nordrhein_Westfalen</td>\n",
       "      <td>512.00</td>\n",
       "      <td>672.00</td>\n",
       "      <td>4.44</td>\n",
       "      <td>64.00</td>\n",
       "      <td>44225</td>\n",
       "      <td>5</td>\n",
       "      <td>False</td>\n",
       "      <td>1964.0</td>\n",
       "      <td>...</td>\n",
       "      <td>2019-05-10</td>\n",
       "      <td>17935147</td>\n",
       "      <td>-0.02</td>\n",
       "      <td>stable</td>\n",
       "      <td>34098</td>\n",
       "      <td>526</td>\n",
       "      <td>41.41</td>\n",
       "      <td>2.12</td>\n",
       "      <td>0.33</td>\n",
       "      <td>587010</td>\n",
       "    </tr>\n",
       "    <tr>\n",
       "      <th>10</th>\n",
       "      <td>107358285</td>\n",
       "      <td>Nordrhein_Westfalen</td>\n",
       "      <td>372.09</td>\n",
       "      <td>522.09</td>\n",
       "      <td>4.69</td>\n",
       "      <td>42.80</td>\n",
       "      <td>44339</td>\n",
       "      <td>7</td>\n",
       "      <td>False</td>\n",
       "      <td>1954.0</td>\n",
       "      <td>...</td>\n",
       "      <td>2018-09-22</td>\n",
       "      <td>17935147</td>\n",
       "      <td>-0.02</td>\n",
       "      <td>stable</td>\n",
       "      <td>34098</td>\n",
       "      <td>526</td>\n",
       "      <td>41.41</td>\n",
       "      <td>2.12</td>\n",
       "      <td>0.33</td>\n",
       "      <td>587010</td>\n",
       "    </tr>\n",
       "    <tr>\n",
       "      <th>11</th>\n",
       "      <td>115284222</td>\n",
       "      <td>Nordrhein_Westfalen</td>\n",
       "      <td>419.00</td>\n",
       "      <td>580.00</td>\n",
       "      <td>4.74</td>\n",
       "      <td>53.03</td>\n",
       "      <td>44369</td>\n",
       "      <td>2</td>\n",
       "      <td>False</td>\n",
       "      <td>1951.0</td>\n",
       "      <td>...</td>\n",
       "      <td>2020-02-01</td>\n",
       "      <td>17935147</td>\n",
       "      <td>-0.02</td>\n",
       "      <td>stable</td>\n",
       "      <td>34098</td>\n",
       "      <td>526</td>\n",
       "      <td>41.41</td>\n",
       "      <td>2.12</td>\n",
       "      <td>0.33</td>\n",
       "      <td>587010</td>\n",
       "    </tr>\n",
       "    <tr>\n",
       "      <th>12</th>\n",
       "      <td>99644451</td>\n",
       "      <td>Nordrhein_Westfalen</td>\n",
       "      <td>999.00</td>\n",
       "      <td>1199.00</td>\n",
       "      <td>3.44</td>\n",
       "      <td>80.00</td>\n",
       "      <td>44141</td>\n",
       "      <td>14</td>\n",
       "      <td>False</td>\n",
       "      <td>NaN</td>\n",
       "      <td>...</td>\n",
       "      <td>2019-10-08</td>\n",
       "      <td>17935147</td>\n",
       "      <td>-0.02</td>\n",
       "      <td>stable</td>\n",
       "      <td>34098</td>\n",
       "      <td>526</td>\n",
       "      <td>41.41</td>\n",
       "      <td>2.12</td>\n",
       "      <td>0.33</td>\n",
       "      <td>587010</td>\n",
       "    </tr>\n",
       "    <tr>\n",
       "      <th>13</th>\n",
       "      <td>111401006</td>\n",
       "      <td>Nordrhein_Westfalen</td>\n",
       "      <td>625.00</td>\n",
       "      <td>775.00</td>\n",
       "      <td>2.64</td>\n",
       "      <td>97.00</td>\n",
       "      <td>44289</td>\n",
       "      <td>18</td>\n",
       "      <td>False</td>\n",
       "      <td>NaN</td>\n",
       "      <td>...</td>\n",
       "      <td>2019-05-10</td>\n",
       "      <td>17935147</td>\n",
       "      <td>-0.02</td>\n",
       "      <td>stable</td>\n",
       "      <td>34098</td>\n",
       "      <td>526</td>\n",
       "      <td>41.41</td>\n",
       "      <td>2.12</td>\n",
       "      <td>0.33</td>\n",
       "      <td>587010</td>\n",
       "    </tr>\n",
       "    <tr>\n",
       "      <th>14</th>\n",
       "      <td>104869322</td>\n",
       "      <td>Nordrhein_Westfalen</td>\n",
       "      <td>397.93</td>\n",
       "      <td>NaN</td>\n",
       "      <td>4.62</td>\n",
       "      <td>81.56</td>\n",
       "      <td>44227</td>\n",
       "      <td>8</td>\n",
       "      <td>False</td>\n",
       "      <td>1983.0</td>\n",
       "      <td>...</td>\n",
       "      <td>2018-09-22</td>\n",
       "      <td>17935147</td>\n",
       "      <td>-0.02</td>\n",
       "      <td>stable</td>\n",
       "      <td>34098</td>\n",
       "      <td>526</td>\n",
       "      <td>41.41</td>\n",
       "      <td>2.12</td>\n",
       "      <td>0.33</td>\n",
       "      <td>587010</td>\n",
       "    </tr>\n",
       "    <tr>\n",
       "      <th>15</th>\n",
       "      <td>115087406</td>\n",
       "      <td>Nordrhein_Westfalen</td>\n",
       "      <td>519.00</td>\n",
       "      <td>735.00</td>\n",
       "      <td>3.30</td>\n",
       "      <td>81.00</td>\n",
       "      <td>44319</td>\n",
       "      <td>4</td>\n",
       "      <td>False</td>\n",
       "      <td>1978.0</td>\n",
       "      <td>...</td>\n",
       "      <td>2020-02-01</td>\n",
       "      <td>17935147</td>\n",
       "      <td>-0.02</td>\n",
       "      <td>stable</td>\n",
       "      <td>34098</td>\n",
       "      <td>526</td>\n",
       "      <td>41.41</td>\n",
       "      <td>2.12</td>\n",
       "      <td>0.33</td>\n",
       "      <td>587010</td>\n",
       "    </tr>\n",
       "    <tr>\n",
       "      <th>16</th>\n",
       "      <td>88504105</td>\n",
       "      <td>Nordrhein_Westfalen</td>\n",
       "      <td>1040.00</td>\n",
       "      <td>1330.00</td>\n",
       "      <td>NaN</td>\n",
       "      <td>130.00</td>\n",
       "      <td>44139</td>\n",
       "      <td>12</td>\n",
       "      <td>False</td>\n",
       "      <td>NaN</td>\n",
       "      <td>...</td>\n",
       "      <td>2019-10-08</td>\n",
       "      <td>17935147</td>\n",
       "      <td>-0.02</td>\n",
       "      <td>stable</td>\n",
       "      <td>34098</td>\n",
       "      <td>526</td>\n",
       "      <td>41.41</td>\n",
       "      <td>2.12</td>\n",
       "      <td>0.33</td>\n",
       "      <td>587010</td>\n",
       "    </tr>\n",
       "    <tr>\n",
       "      <th>17</th>\n",
       "      <td>113861119</td>\n",
       "      <td>Nordrhein_Westfalen</td>\n",
       "      <td>497.00</td>\n",
       "      <td>640.00</td>\n",
       "      <td>3.28</td>\n",
       "      <td>74.17</td>\n",
       "      <td>44149</td>\n",
       "      <td>4</td>\n",
       "      <td>False</td>\n",
       "      <td>1960.0</td>\n",
       "      <td>...</td>\n",
       "      <td>2019-10-08</td>\n",
       "      <td>17935147</td>\n",
       "      <td>-0.02</td>\n",
       "      <td>stable</td>\n",
       "      <td>34098</td>\n",
       "      <td>526</td>\n",
       "      <td>41.41</td>\n",
       "      <td>2.12</td>\n",
       "      <td>0.33</td>\n",
       "      <td>587010</td>\n",
       "    </tr>\n",
       "    <tr>\n",
       "      <th>18</th>\n",
       "      <td>113497310</td>\n",
       "      <td>Nordrhein_Westfalen</td>\n",
       "      <td>320.00</td>\n",
       "      <td>480.00</td>\n",
       "      <td>3.85</td>\n",
       "      <td>46.15</td>\n",
       "      <td>44147</td>\n",
       "      <td>6</td>\n",
       "      <td>False</td>\n",
       "      <td>1937.0</td>\n",
       "      <td>...</td>\n",
       "      <td>2019-10-08</td>\n",
       "      <td>17935147</td>\n",
       "      <td>-0.02</td>\n",
       "      <td>stable</td>\n",
       "      <td>34098</td>\n",
       "      <td>526</td>\n",
       "      <td>41.41</td>\n",
       "      <td>2.12</td>\n",
       "      <td>0.33</td>\n",
       "      <td>587010</td>\n",
       "    </tr>\n",
       "    <tr>\n",
       "      <th>19</th>\n",
       "      <td>113554321</td>\n",
       "      <td>Nordrhein_Westfalen</td>\n",
       "      <td>298.00</td>\n",
       "      <td>502.00</td>\n",
       "      <td>4.66</td>\n",
       "      <td>48.42</td>\n",
       "      <td>44369</td>\n",
       "      <td>9</td>\n",
       "      <td>False</td>\n",
       "      <td>1938.0</td>\n",
       "      <td>...</td>\n",
       "      <td>2019-10-08</td>\n",
       "      <td>17935147</td>\n",
       "      <td>-0.02</td>\n",
       "      <td>stable</td>\n",
       "      <td>34098</td>\n",
       "      <td>526</td>\n",
       "      <td>41.41</td>\n",
       "      <td>2.12</td>\n",
       "      <td>0.33</td>\n",
       "      <td>587010</td>\n",
       "    </tr>\n",
       "  </tbody>\n",
       "</table>\n",
       "<p>20 rows × 39 columns</p>\n",
       "</div>"
      ],
      "text/plain": [
       "      scoutId               regio1  baseRent  totalRent  pricetrend  \\\n",
       "0    96107057  Nordrhein_Westfalen    595.00     840.00        4.62   \n",
       "1    92798563  Nordrhein_Westfalen    972.60    1320.65        3.76   \n",
       "2   114894763  Nordrhein_Westfalen    396.80     493.80        4.10   \n",
       "3    90046012  Nordrhein_Westfalen    310.00     460.00        3.28   \n",
       "4    87928570  Nordrhein_Westfalen    301.00        NaN        4.41   \n",
       "5    79343710  Nordrhein_Westfalen   1550.00    2205.00        3.85   \n",
       "6    62267211  Nordrhein_Westfalen    440.00     525.00        4.41   \n",
       "7    93403649  Nordrhein_Westfalen    370.00     500.00        4.55   \n",
       "8   113557346  Nordrhein_Westfalen    403.75     653.75        3.71   \n",
       "9   111370962  Nordrhein_Westfalen    512.00     672.00        4.44   \n",
       "10  107358285  Nordrhein_Westfalen    372.09     522.09        4.69   \n",
       "11  115284222  Nordrhein_Westfalen    419.00     580.00        4.74   \n",
       "12   99644451  Nordrhein_Westfalen    999.00    1199.00        3.44   \n",
       "13  111401006  Nordrhein_Westfalen    625.00     775.00        2.64   \n",
       "14  104869322  Nordrhein_Westfalen    397.93        NaN        4.62   \n",
       "15  115087406  Nordrhein_Westfalen    519.00     735.00        3.30   \n",
       "16   88504105  Nordrhein_Westfalen   1040.00    1330.00         NaN   \n",
       "17  113861119  Nordrhein_Westfalen    497.00     640.00        3.28   \n",
       "18  113497310  Nordrhein_Westfalen    320.00     480.00        3.85   \n",
       "19  113554321  Nordrhein_Westfalen    298.00     502.00        4.66   \n",
       "\n",
       "    livingSpace    plz  picturecount  newlyConst  yearConstructed  ...  \\\n",
       "0         86.00  44269             6       False           1965.0  ...   \n",
       "1         87.00  44229            12        True           2018.0  ...   \n",
       "2         62.00  44137             0       False           1958.0  ...   \n",
       "3         55.00  44329            14       False           1930.0  ...   \n",
       "4         30.07  44137            31       False           1979.0  ...   \n",
       "5        148.00  44229            32       False           2015.0  ...   \n",
       "6         67.00  44137             6       False           1965.0  ...   \n",
       "7         50.00  44287            13       False              NaN  ...   \n",
       "8         85.00  44143             8       False           1981.0  ...   \n",
       "9         64.00  44225             5       False           1964.0  ...   \n",
       "10        42.80  44339             7       False           1954.0  ...   \n",
       "11        53.03  44369             2       False           1951.0  ...   \n",
       "12        80.00  44141            14       False              NaN  ...   \n",
       "13        97.00  44289            18       False              NaN  ...   \n",
       "14        81.56  44227             8       False           1983.0  ...   \n",
       "15        81.00  44319             4       False           1978.0  ...   \n",
       "16       130.00  44139            12       False              NaN  ...   \n",
       "17        74.17  44149             4       False           1960.0  ...   \n",
       "18        46.15  44147             6       False           1937.0  ...   \n",
       "19        48.42  44369             9       False           1938.0  ...   \n",
       "\n",
       "          date population  populationTrend  popTrendCat surfaceArea  \\\n",
       "0   2019-05-10   17935147            -0.02       stable       34098   \n",
       "1   2019-05-10   17935147            -0.02       stable       34098   \n",
       "2   2020-02-01   17935147            -0.02       stable       34098   \n",
       "3   2019-05-10   17935147            -0.02       stable       34098   \n",
       "4   2018-09-22   17935147            -0.02       stable       34098   \n",
       "5   2019-05-10   17935147            -0.02       stable       34098   \n",
       "6   2019-05-10   17935147            -0.02       stable       34098   \n",
       "7   2019-05-10   17935147            -0.02       stable       34098   \n",
       "8   2020-02-01   17935147            -0.02       stable       34098   \n",
       "9   2019-05-10   17935147            -0.02       stable       34098   \n",
       "10  2018-09-22   17935147            -0.02       stable       34098   \n",
       "11  2020-02-01   17935147            -0.02       stable       34098   \n",
       "12  2019-10-08   17935147            -0.02       stable       34098   \n",
       "13  2019-05-10   17935147            -0.02       stable       34098   \n",
       "14  2018-09-22   17935147            -0.02       stable       34098   \n",
       "15  2020-02-01   17935147            -0.02       stable       34098   \n",
       "16  2019-10-08   17935147            -0.02       stable       34098   \n",
       "17  2019-10-08   17935147            -0.02       stable       34098   \n",
       "18  2019-10-08   17935147            -0.02       stable       34098   \n",
       "19  2019-10-08   17935147            -0.02       stable       34098   \n",
       "\n",
       "   populationDensity  space/person people/apt  districtPopTrend  districtPop  \n",
       "0                526         41.41       2.12              0.33       587010  \n",
       "1                526         41.41       2.12              0.33       587010  \n",
       "2                526         41.41       2.12              0.33       587010  \n",
       "3                526         41.41       2.12              0.33       587010  \n",
       "4                526         41.41       2.12              0.33       587010  \n",
       "5                526         41.41       2.12              0.33       587010  \n",
       "6                526         41.41       2.12              0.33       587010  \n",
       "7                526         41.41       2.12              0.33       587010  \n",
       "8                526         41.41       2.12              0.33       587010  \n",
       "9                526         41.41       2.12              0.33       587010  \n",
       "10               526         41.41       2.12              0.33       587010  \n",
       "11               526         41.41       2.12              0.33       587010  \n",
       "12               526         41.41       2.12              0.33       587010  \n",
       "13               526         41.41       2.12              0.33       587010  \n",
       "14               526         41.41       2.12              0.33       587010  \n",
       "15               526         41.41       2.12              0.33       587010  \n",
       "16               526         41.41       2.12              0.33       587010  \n",
       "17               526         41.41       2.12              0.33       587010  \n",
       "18               526         41.41       2.12              0.33       587010  \n",
       "19               526         41.41       2.12              0.33       587010  \n",
       "\n",
       "[20 rows x 39 columns]"
      ]
     },
     "execution_count": 6,
     "metadata": {},
     "output_type": "execute_result"
    }
   ],
   "source": [
    "df.head(20)"
   ]
  },
  {
   "cell_type": "code",
   "execution_count": 7,
   "metadata": {
    "scrolled": true
   },
   "outputs": [
    {
     "data": {
      "text/plain": [
       "(257607, 39)"
      ]
     },
     "execution_count": 7,
     "metadata": {},
     "output_type": "execute_result"
    }
   ],
   "source": [
    "df.shape"
   ]
  },
  {
   "cell_type": "code",
   "execution_count": 38,
   "metadata": {},
   "outputs": [],
   "source": [
    "# create price/unit variable\n",
    "df['price/unit'] = df['totalRent']/df['livingSpace']"
   ]
  },
  {
   "cell_type": "code",
   "execution_count": 8,
   "metadata": {},
   "outputs": [],
   "source": [
    "# Create subset with just space and rent\n",
    "rent_space = df[['livingSpace', 'totalRent']]"
   ]
  },
  {
   "cell_type": "markdown",
   "metadata": {},
   "source": [
    "##### Missing values"
   ]
  },
  {
   "cell_type": "code",
   "execution_count": 9,
   "metadata": {},
   "outputs": [
    {
     "data": {
      "text/plain": [
       "livingSpace       70\n",
       "totalRent      39303\n",
       "dtype: int64"
      ]
     },
     "execution_count": 9,
     "metadata": {},
     "output_type": "execute_result"
    }
   ],
   "source": [
    "# Check for missing values\n",
    "\n",
    "rent_space.isnull().sum()\n"
   ]
  },
  {
   "cell_type": "code",
   "execution_count": 10,
   "metadata": {},
   "outputs": [],
   "source": [
    "# drop blank values \n",
    "rent_space_trim = rent_space.dropna(inplace=False)"
   ]
  },
  {
   "cell_type": "code",
   "execution_count": 11,
   "metadata": {},
   "outputs": [
    {
     "data": {
      "text/plain": [
       "livingSpace    0\n",
       "totalRent      0\n",
       "dtype: int64"
      ]
     },
     "execution_count": 11,
     "metadata": {},
     "output_type": "execute_result"
    }
   ],
   "source": [
    "rent_space_trim.isnull().sum()"
   ]
  },
  {
   "cell_type": "markdown",
   "metadata": {},
   "source": [
    "##### Duplicates check"
   ]
  },
  {
   "cell_type": "code",
   "execution_count": 12,
   "metadata": {},
   "outputs": [],
   "source": [
    "dups = rent_space_trim.duplicated()"
   ]
  },
  {
   "cell_type": "code",
   "execution_count": 13,
   "metadata": {},
   "outputs": [
    {
     "data": {
      "text/plain": [
       "(218251,)"
      ]
     },
     "execution_count": 13,
     "metadata": {},
     "output_type": "execute_result"
    }
   ],
   "source": [
    "dups.shape # No dups"
   ]
  },
  {
   "cell_type": "markdown",
   "metadata": {},
   "source": [
    "##### Extreme values checks"
   ]
  },
  {
   "cell_type": "code",
   "execution_count": 14,
   "metadata": {
    "scrolled": false
   },
   "outputs": [
    {
     "name": "stderr",
     "output_type": "stream",
     "text": [
      "C:\\Users\\jacym\\AppData\\Local\\Temp\\ipykernel_31844\\4015888678.py:1: UserWarning: \n",
      "\n",
      "`distplot` is a deprecated function and will be removed in seaborn v0.14.0.\n",
      "\n",
      "Please adapt your code to use either `displot` (a figure-level function with\n",
      "similar flexibility) or `histplot` (an axes-level function for histograms).\n",
      "\n",
      "For a guide to updating your code to use the new functions, please see\n",
      "https://gist.github.com/mwaskom/de44147ed2974457ad6372750bbe5751\n",
      "\n",
      "  sns.distplot(rent_space_trim['totalRent'], bins=25) # Shows extreme values\n"
     ]
    },
    {
     "data": {
      "text/plain": [
       "<Axes: xlabel='totalRent', ylabel='Density'>"
      ]
     },
     "execution_count": 14,
     "metadata": {},
     "output_type": "execute_result"
    },
    {
     "data": {
      "image/png": "[encoded data removed]",
      "text/plain": [
       "<Figure size 640x480 with 1 Axes>"
      ]
     },
     "metadata": {},
     "output_type": "display_data"
    }
   ],
   "source": [
    "sns.distplot(rent_space_trim['totalRent'], bins=25) # Shows extreme values\n",
    "\n",
    "# Some of the outliers in the high values may need to be removed, but let's try without doing so first."
   ]
  },
  {
   "cell_type": "code",
   "execution_count": 15,
   "metadata": {},
   "outputs": [
    {
     "data": {
      "text/plain": [
       "827.2154532167091"
      ]
     },
     "execution_count": 15,
     "metadata": {},
     "output_type": "execute_result"
    }
   ],
   "source": [
    "rent_space_trim['totalRent'].mean() # Check the mean"
   ]
  },
  {
   "cell_type": "code",
   "execution_count": 16,
   "metadata": {},
   "outputs": [
    {
     "data": {
      "text/plain": [
       "660.0"
      ]
     },
     "execution_count": 16,
     "metadata": {},
     "output_type": "execute_result"
    }
   ],
   "source": [
    "rent_space_trim['totalRent'].median() # Check the median"
   ]
  },
  {
   "cell_type": "code",
   "execution_count": 17,
   "metadata": {},
   "outputs": [
    {
     "data": {
      "text/plain": [
       "26500.0"
      ]
     },
     "execution_count": 17,
     "metadata": {},
     "output_type": "execute_result"
    }
   ],
   "source": [
    "rent_space_trim['totalRent'].max() # Check the max"
   ]
  },
  {
   "cell_type": "markdown",
   "metadata": {},
   "source": [
    "### 3. Data prep for regression analysis "
   ]
  },
  {
   "cell_type": "code",
   "execution_count": 18,
   "metadata": {
    "scrolled": true
   },
   "outputs": [
    {
     "data": {
      "image/png": "[encoded data removed]",
      "text/plain": [
       "<Figure size 640x480 with 1 Axes>"
      ]
     },
     "metadata": {},
     "output_type": "display_data"
    }
   ],
   "source": [
    "# Create a scatterplot using matplotlib for another look at how the chosen variables plot against each other.\n",
    "\n",
    "rent_space_trim.plot(x = 'livingSpace', y='totalRent',style='o') # The style option creates a scatterplot; without it, we only have lines.\n",
    "plt.title('Living Space vs Total Rent')  \n",
    "plt.xlabel('livingSpace')  \n",
    "plt.ylabel('totalRent')  \n",
    "plt.show()"
   ]
  },
  {
   "cell_type": "markdown",
   "metadata": {},
   "source": [
    "Hypothesis: I predict a moderate, positive relationship between living space and total rent, i.e. that rent will tend to increase when the living space increases."
   ]
  },
  {
   "cell_type": "code",
   "execution_count": 19,
   "metadata": {},
   "outputs": [],
   "source": [
    "# Reshape the variables into NumPy arrays and put them into separate objects.\n",
    "\n",
    "X = rent_space_trim['livingSpace'].values.reshape(-1,1)\n",
    "y = rent_space_trim['totalRent'].values.reshape(-1,1)"
   ]
  },
  {
   "cell_type": "code",
   "execution_count": 20,
   "metadata": {},
   "outputs": [
    {
     "data": {
      "text/plain": [
       "array([[ 86.  ],\n",
       "       [ 87.  ],\n",
       "       [ 62.  ],\n",
       "       ...,\n",
       "       [100.  ],\n",
       "       [ 20.  ],\n",
       "       [ 77.87]])"
      ]
     },
     "execution_count": 20,
     "metadata": {},
     "output_type": "execute_result"
    }
   ],
   "source": [
    "X"
   ]
  },
  {
   "cell_type": "code",
   "execution_count": 21,
   "metadata": {},
   "outputs": [
    {
     "data": {
      "text/plain": [
       "array([[ 840.  ],\n",
       "       [1320.65],\n",
       "       [ 493.8 ],\n",
       "       ...,\n",
       "       [ 700.  ],\n",
       "       [ 300.  ],\n",
       "       [ 840.  ]])"
      ]
     },
     "execution_count": 21,
     "metadata": {},
     "output_type": "execute_result"
    }
   ],
   "source": [
    "y"
   ]
  },
  {
   "cell_type": "code",
   "execution_count": 22,
   "metadata": {
    "scrolled": true
   },
   "outputs": [],
   "source": [
    "# Split data into a training set and a test set.\n",
    "\n",
    "X_train, X_test, y_train, y_test = train_test_split(X, y, test_size=0.3, random_state=0)"
   ]
  },
  {
   "cell_type": "markdown",
   "metadata": {},
   "source": [
    "### 4. Regression analysis"
   ]
  },
  {
   "cell_type": "code",
   "execution_count": 23,
   "metadata": {},
   "outputs": [],
   "source": [
    "# Create a regression object.\n",
    "\n",
    "regression = LinearRegression()  # This is the regression object, which will be fit onto the training set."
   ]
  },
  {
   "cell_type": "code",
   "execution_count": 24,
   "metadata": {},
   "outputs": [
    {
     "data": {
      "text/html": [
       "<style>#sk-container-id-1 {color: black;background-color: white;}#sk-container-id-1 pre{padding: 0;}#sk-container-id-1 div.sk-toggleable {background-color: white;}#sk-container-id-1 label.sk-toggleable__label {cursor: pointer;display: block;width: 100%;margin-bottom: 0;padding: 0.3em;box-sizing: border-box;text-align: center;}#sk-container-id-1 label.sk-toggleable__label-arrow:before {content: \"▸\";float: left;margin-right: 0.25em;color: #696969;}#sk-container-id-1 label.sk-toggleable__label-arrow:hover:before {color: black;}#sk-container-id-1 div.sk-estimator:hover label.sk-toggleable__label-arrow:before {color: black;}#sk-container-id-1 div.sk-toggleable__content {max-height: 0;max-width: 0;overflow: hidden;text-align: left;background-color: #f0f8ff;}#sk-container-id-1 div.sk-toggleable__content pre {margin: 0.2em;color: black;border-radius: 0.25em;background-color: #f0f8ff;}#sk-container-id-1 input.sk-toggleable__control:checked~div.sk-toggleable__content {max-height: 200px;max-width: 100%;overflow: auto;}#sk-container-id-1 input.sk-toggleable__control:checked~label.sk-toggleable__label-arrow:before {content: \"▾\";}#sk-container-id-1 div.sk-estimator input.sk-toggleable__control:checked~label.sk-toggleable__label {background-color: #d4ebff;}#sk-container-id-1 div.sk-label input.sk-toggleable__control:checked~label.sk-toggleable__label {background-color: #d4ebff;}#sk-container-id-1 input.sk-hidden--visually {border: 0;clip: rect(1px 1px 1px 1px);clip: rect(1px, 1px, 1px, 1px);height: 1px;margin: -1px;overflow: hidden;padding: 0;position: absolute;width: 1px;}#sk-container-id-1 div.sk-estimator {font-family: monospace;background-color: #f0f8ff;border: 1px dotted black;border-radius: 0.25em;box-sizing: border-box;margin-bottom: 0.5em;}#sk-container-id-1 div.sk-estimator:hover {background-color: #d4ebff;}#sk-container-id-1 div.sk-parallel-item::after {content: \"\";width: 100%;border-bottom: 1px solid gray;flex-grow: 1;}#sk-container-id-1 div.sk-label:hover label.sk-toggleable__label {background-color: #d4ebff;}#sk-container-id-1 div.sk-serial::before {content: \"\";position: absolute;border-left: 1px solid gray;box-sizing: border-box;top: 0;bottom: 0;left: 50%;z-index: 0;}#sk-container-id-1 div.sk-serial {display: flex;flex-direction: column;align-items: center;background-color: white;padding-right: 0.2em;padding-left: 0.2em;position: relative;}#sk-container-id-1 div.sk-item {position: relative;z-index: 1;}#sk-container-id-1 div.sk-parallel {display: flex;align-items: stretch;justify-content: center;background-color: white;position: relative;}#sk-container-id-1 div.sk-item::before, #sk-container-id-1 div.sk-parallel-item::before {content: \"\";position: absolute;border-left: 1px solid gray;box-sizing: border-box;top: 0;bottom: 0;left: 50%;z-index: -1;}#sk-container-id-1 div.sk-parallel-item {display: flex;flex-direction: column;z-index: 1;position: relative;background-color: white;}#sk-container-id-1 div.sk-parallel-item:first-child::after {align-self: flex-end;width: 50%;}#sk-container-id-1 div.sk-parallel-item:last-child::after {align-self: flex-start;width: 50%;}#sk-container-id-1 div.sk-parallel-item:only-child::after {width: 0;}#sk-container-id-1 div.sk-dashed-wrapped {border: 1px dashed gray;margin: 0 0.4em 0.5em 0.4em;box-sizing: border-box;padding-bottom: 0.4em;background-color: white;}#sk-container-id-1 div.sk-label label {font-family: monospace;font-weight: bold;display: inline-block;line-height: 1.2em;}#sk-container-id-1 div.sk-label-container {text-align: center;}#sk-container-id-1 div.sk-container {/* jupyter's `normalize.less` sets `[hidden] { display: none; }` but bootstrap.min.css set `[hidden] { display: none !important; }` so we also need the `!important` here to be able to override the default hidden behavior on the sphinx rendered scikit-learn.org. See: https://github.com/scikit-learn/scikit-learn/issues/21755 */display: inline-block !important;position: relative;}#sk-container-id-1 div.sk-text-repr-fallback {display: none;}</style><div id=\"sk-container-id-1\" class=\"sk-top-container\"><div class=\"sk-text-repr-fallback\"><pre>LinearRegression()</pre><b>In a Jupyter environment, please rerun this cell to show the HTML representation or trust the notebook. <br />On GitHub, the HTML representation is unable to render, please try loading this page with nbviewer.org.</b></div><div class=\"sk-container\" hidden><div class=\"sk-item\"><div class=\"sk-estimator sk-toggleable\"><input class=\"sk-toggleable__control sk-hidden--visually\" id=\"sk-estimator-id-1\" type=\"checkbox\" checked><label for=\"sk-estimator-id-1\" class=\"sk-toggleable__label sk-toggleable__label-arrow\">LinearRegression</label><div class=\"sk-toggleable__content\"><pre>LinearRegression()</pre></div></div></div></div></div>"
      ],
      "text/plain": [
       "LinearRegression()"
      ]
     },
     "execution_count": 24,
     "metadata": {},
     "output_type": "execute_result"
    }
   ],
   "source": [
    "# Fit the regression object onto the training set.\n",
    "\n",
    "regression.fit(X_train, y_train)"
   ]
  },
  {
   "cell_type": "code",
   "execution_count": 25,
   "metadata": {},
   "outputs": [],
   "source": [
    "# Predict the values of y using X.\n",
    "\n",
    "y_predicted = regression.predict(X_test)"
   ]
  },
  {
   "cell_type": "code",
   "execution_count": 26,
   "metadata": {},
   "outputs": [
    {
     "data": {
      "image/png": "[encoded data removed]",
      "text/plain": [
       "<Figure size 640x480 with 1 Axes>"
      ]
     },
     "metadata": {},
     "output_type": "display_data"
    }
   ],
   "source": [
    "# Create a plot that shows the regression line from the model on the test set.\n",
    "\n",
    "plot_test = plt\n",
    "plot_test.scatter(X_test, y_test, color='gray', s = 15)\n",
    "plot_test.plot(X_test, y_predicted, color='red', linewidth =3)\n",
    "plot_test.title('Living Space vs Total Rent (Test set)')\n",
    "plot_test.xlabel('livingSpace')\n",
    "plot_test.ylabel('totalRent')\n",
    "plot_test.show()"
   ]
  },
  {
   "cell_type": "markdown",
   "metadata": {},
   "source": [
    "Observations: The points are generally clustered around the line, but there's so much variability that I don't expect the relationship to be especially strong. There are a lot of factors that influence rent other than apartment size."
   ]
  },
  {
   "cell_type": "code",
   "execution_count": 27,
   "metadata": {},
   "outputs": [],
   "source": [
    "# Create objects that contain the model summary statistics.\n",
    "\n",
    "rmse = mean_squared_error(y_test, y_predicted) # This is the mean squared error\n",
    "r2 = r2_score(y_test, y_predicted) # This is the R2 score. "
   ]
  },
  {
   "cell_type": "code",
   "execution_count": 28,
   "metadata": {},
   "outputs": [
    {
     "name": "stdout",
     "output_type": "stream",
     "text": [
      "Slope: [[13.12936811]]\n",
      "Mean squared error:  158384.62823801933\n",
      "R2 score:  0.5415929535805595\n"
     ]
    }
   ],
   "source": [
    "# Print the model summary statistics. This is where you evaluate the performance of the model.\n",
    "\n",
    "print('Slope:' ,regression.coef_)\n",
    "print('Mean squared error: ', rmse)\n",
    "print('R2 score: ', r2)"
   ]
  },
  {
   "cell_type": "code",
   "execution_count": 29,
   "metadata": {},
   "outputs": [
    {
     "data": {
      "text/plain": [
       "array([[1705.69254653],\n",
       "       [ 648.77841408],\n",
       "       [ 786.63677918],\n",
       "       ...,\n",
       "       [ 917.93046023],\n",
       "       [1022.96540507],\n",
       "       [ 829.96369393]])"
      ]
     },
     "execution_count": 29,
     "metadata": {},
     "output_type": "execute_result"
    }
   ],
   "source": [
    "y_predicted"
   ]
  },
  {
   "cell_type": "code",
   "execution_count": 30,
   "metadata": {
    "scrolled": true
   },
   "outputs": [
    {
     "data": {
      "text/html": [
       "<div>\n",
       "<style scoped>\n",
       "    .dataframe tbody tr th:only-of-type {\n",
       "        vertical-align: middle;\n",
       "    }\n",
       "\n",
       "    .dataframe tbody tr th {\n",
       "        vertical-align: top;\n",
       "    }\n",
       "\n",
       "    .dataframe thead th {\n",
       "        text-align: right;\n",
       "    }\n",
       "</style>\n",
       "<table border=\"1\" class=\"dataframe\">\n",
       "  <thead>\n",
       "    <tr style=\"text-align: right;\">\n",
       "      <th></th>\n",
       "      <th>Actual</th>\n",
       "      <th>Predicted</th>\n",
       "    </tr>\n",
       "  </thead>\n",
       "  <tbody>\n",
       "    <tr>\n",
       "      <th>0</th>\n",
       "      <td>984.00</td>\n",
       "      <td>1705.692547</td>\n",
       "    </tr>\n",
       "    <tr>\n",
       "      <th>1</th>\n",
       "      <td>420.00</td>\n",
       "      <td>648.778414</td>\n",
       "    </tr>\n",
       "    <tr>\n",
       "      <th>2</th>\n",
       "      <td>700.00</td>\n",
       "      <td>786.636779</td>\n",
       "    </tr>\n",
       "    <tr>\n",
       "      <th>3</th>\n",
       "      <td>370.00</td>\n",
       "      <td>595.341886</td>\n",
       "    </tr>\n",
       "    <tr>\n",
       "      <th>4</th>\n",
       "      <td>1290.00</td>\n",
       "      <td>497.790681</td>\n",
       "    </tr>\n",
       "    <tr>\n",
       "      <th>5</th>\n",
       "      <td>527.00</td>\n",
       "      <td>504.092778</td>\n",
       "    </tr>\n",
       "    <tr>\n",
       "      <th>6</th>\n",
       "      <td>360.00</td>\n",
       "      <td>610.703247</td>\n",
       "    </tr>\n",
       "    <tr>\n",
       "      <th>7</th>\n",
       "      <td>1340.00</td>\n",
       "      <td>1154.259086</td>\n",
       "    </tr>\n",
       "    <tr>\n",
       "      <th>8</th>\n",
       "      <td>956.00</td>\n",
       "      <td>1009.836037</td>\n",
       "    </tr>\n",
       "    <tr>\n",
       "      <th>9</th>\n",
       "      <td>1145.00</td>\n",
       "      <td>917.930460</td>\n",
       "    </tr>\n",
       "    <tr>\n",
       "      <th>10</th>\n",
       "      <td>475.00</td>\n",
       "      <td>327.108896</td>\n",
       "    </tr>\n",
       "    <tr>\n",
       "      <th>11</th>\n",
       "      <td>770.88</td>\n",
       "      <td>956.662096</td>\n",
       "    </tr>\n",
       "    <tr>\n",
       "      <th>12</th>\n",
       "      <td>805.01</td>\n",
       "      <td>611.884890</td>\n",
       "    </tr>\n",
       "    <tr>\n",
       "      <th>13</th>\n",
       "      <td>930.00</td>\n",
       "      <td>1022.965405</td>\n",
       "    </tr>\n",
       "    <tr>\n",
       "      <th>14</th>\n",
       "      <td>490.00</td>\n",
       "      <td>655.343098</td>\n",
       "    </tr>\n",
       "    <tr>\n",
       "      <th>15</th>\n",
       "      <td>1220.00</td>\n",
       "      <td>1508.752025</td>\n",
       "    </tr>\n",
       "    <tr>\n",
       "      <th>16</th>\n",
       "      <td>438.04</td>\n",
       "      <td>644.839604</td>\n",
       "    </tr>\n",
       "    <tr>\n",
       "      <th>17</th>\n",
       "      <td>255.00</td>\n",
       "      <td>25.133429</td>\n",
       "    </tr>\n",
       "    <tr>\n",
       "      <th>18</th>\n",
       "      <td>599.82</td>\n",
       "      <td>609.127722</td>\n",
       "    </tr>\n",
       "    <tr>\n",
       "      <th>19</th>\n",
       "      <td>635.00</td>\n",
       "      <td>665.977886</td>\n",
       "    </tr>\n",
       "    <tr>\n",
       "      <th>20</th>\n",
       "      <td>2175.00</td>\n",
       "      <td>1199.424112</td>\n",
       "    </tr>\n",
       "    <tr>\n",
       "      <th>21</th>\n",
       "      <td>399.00</td>\n",
       "      <td>629.084362</td>\n",
       "    </tr>\n",
       "    <tr>\n",
       "      <th>22</th>\n",
       "      <td>723.00</td>\n",
       "      <td>866.594631</td>\n",
       "    </tr>\n",
       "    <tr>\n",
       "      <th>23</th>\n",
       "      <td>371.50</td>\n",
       "      <td>517.484733</td>\n",
       "    </tr>\n",
       "    <tr>\n",
       "      <th>24</th>\n",
       "      <td>1412.00</td>\n",
       "      <td>1013.512260</td>\n",
       "    </tr>\n",
       "    <tr>\n",
       "      <th>25</th>\n",
       "      <td>481.00</td>\n",
       "      <td>561.861997</td>\n",
       "    </tr>\n",
       "    <tr>\n",
       "      <th>26</th>\n",
       "      <td>1050.00</td>\n",
       "      <td>1259.294031</td>\n",
       "    </tr>\n",
       "    <tr>\n",
       "      <th>27</th>\n",
       "      <td>747.65</td>\n",
       "      <td>788.343597</td>\n",
       "    </tr>\n",
       "    <tr>\n",
       "      <th>28</th>\n",
       "      <td>663.00</td>\n",
       "      <td>854.778200</td>\n",
       "    </tr>\n",
       "    <tr>\n",
       "      <th>29</th>\n",
       "      <td>370.00</td>\n",
       "      <td>615.954994</td>\n",
       "    </tr>\n",
       "  </tbody>\n",
       "</table>\n",
       "</div>"
      ],
      "text/plain": [
       "     Actual    Predicted\n",
       "0    984.00  1705.692547\n",
       "1    420.00   648.778414\n",
       "2    700.00   786.636779\n",
       "3    370.00   595.341886\n",
       "4   1290.00   497.790681\n",
       "5    527.00   504.092778\n",
       "6    360.00   610.703247\n",
       "7   1340.00  1154.259086\n",
       "8    956.00  1009.836037\n",
       "9   1145.00   917.930460\n",
       "10   475.00   327.108896\n",
       "11   770.88   956.662096\n",
       "12   805.01   611.884890\n",
       "13   930.00  1022.965405\n",
       "14   490.00   655.343098\n",
       "15  1220.00  1508.752025\n",
       "16   438.04   644.839604\n",
       "17   255.00    25.133429\n",
       "18   599.82   609.127722\n",
       "19   635.00   665.977886\n",
       "20  2175.00  1199.424112\n",
       "21   399.00   629.084362\n",
       "22   723.00   866.594631\n",
       "23   371.50   517.484733\n",
       "24  1412.00  1013.512260\n",
       "25   481.00   561.861997\n",
       "26  1050.00  1259.294031\n",
       "27   747.65   788.343597\n",
       "28   663.00   854.778200\n",
       "29   370.00   615.954994"
      ]
     },
     "execution_count": 30,
     "metadata": {},
     "output_type": "execute_result"
    }
   ],
   "source": [
    "# Create a dataframe comparing the actual and predicted values of y.\n",
    "\n",
    "data = pd.DataFrame({'Actual': y_test.flatten(), 'Predicted': y_predicted.flatten()})\n",
    "data.head(30)"
   ]
  },
  {
   "cell_type": "markdown",
   "metadata": {},
   "source": [
    "##### Compare how the regression fits the training set"
   ]
  },
  {
   "cell_type": "code",
   "execution_count": 31,
   "metadata": {},
   "outputs": [],
   "source": [
    "y_predicted_train = regression.predict(X_train) # This is predicting X_train!"
   ]
  },
  {
   "cell_type": "code",
   "execution_count": 32,
   "metadata": {},
   "outputs": [],
   "source": [
    "rmse = mean_squared_error(y_train, y_predicted_train)\n",
    "r2 = r2_score(y_train, y_predicted_train)"
   ]
  },
  {
   "cell_type": "code",
   "execution_count": 33,
   "metadata": {},
   "outputs": [
    {
     "name": "stdout",
     "output_type": "stream",
     "text": [
      "Slope: [[13.12936811]]\n",
      "Mean squared error:  143092.79913884462\n",
      "R2 score:  0.544209507741936\n"
     ]
    }
   ],
   "source": [
    "print('Slope:' ,regression.coef_)\n",
    "print('Mean squared error: ', rmse)\n",
    "print('R2 score: ', r2)"
   ]
  },
  {
   "cell_type": "code",
   "execution_count": 34,
   "metadata": {
    "scrolled": true
   },
   "outputs": [
    {
     "data": {
      "image/png": "[encoded data removed]",
      "text/plain": [
       "<Figure size 640x480 with 1 Axes>"
      ]
     },
     "metadata": {},
     "output_type": "display_data"
    }
   ],
   "source": [
    "# Visualizing the training set results.\n",
    "\n",
    "plot_test = plt\n",
    "plot_test.scatter(X_train, y_train, color='green', s = 15)\n",
    "plot_test.plot(X_train, y_predicted_train, color='red', linewidth =3)\n",
    "plot_test.title('Living Space vs Total Rent (Train set)')\n",
    "plot_test.xlabel('livingSpace')\n",
    "plot_test.ylabel('totalRent')\n",
    "plot_test.show()"
   ]
  },
  {
   "cell_type": "markdown",
   "metadata": {},
   "source": [
    "# Overall thoughts\n",
    "While apartment size doesn't influence rent unilaterally, there is a relatively strong linear relationship here compared to other variables that might influence rent. That such a logical factor would still not reach an R-squared in the \"passing\" range is a testament to the sheer complexity of factors influencing the cost of housing. These findings suggest that although larger units do tend to be more expensive, there's a lot of variability in the market."
   ]
  },
  {
   "cell_type": "markdown",
   "metadata": {},
   "source": [
    "### Bonus: performance improvement after removing outliers"
   ]
  },
  {
   "cell_type": "code",
   "execution_count": 36,
   "metadata": {},
   "outputs": [
    {
     "ename": "SyntaxError",
     "evalue": "incomplete input (458656954.py, line 3)",
     "output_type": "error",
     "traceback": [
      "\u001b[1;36m  Cell \u001b[1;32mIn[36], line 3\u001b[1;36m\u001b[0m\n\u001b[1;33m    rent_space2 = rent_space_trim[[rent_space_trim['totalRent'] <=10000]\u001b[0m\n\u001b[1;37m                                                                        ^\u001b[0m\n\u001b[1;31mSyntaxError\u001b[0m\u001b[1;31m:\u001b[0m incomplete input\n"
     ]
    }
   ],
   "source": [
    "# Clean the extreme values from the \"Price per Unit\" variable observed during the consistency checks.\n",
    "\n",
    "rent_space2 = rent_space_trim[[rent_space_trim['totalRent'] <=10000]"
   ]
  },
  {
   "cell_type": "code",
   "execution_count": null,
   "metadata": {},
   "outputs": [],
   "source": [
    "# See how the scatterplot looks without outliers.\n",
    "\n",
    "rent_space2.plot(x = 'livingSpace', y='totalRent',style='o') # The style option creates a scatterplot; without it, we only have lines.\n",
    "plt.title('Living Space vs Total Rent')  \n",
    "plt.xlabel('livingSpace')  \n",
    "plt.ylabel('totalRent')  \n",
    "plt.show()"
   ]
  },
  {
   "cell_type": "code",
   "execution_count": null,
   "metadata": {},
   "outputs": [],
   "source": [
    "# Reshape again.\n",
    "\n",
    "X_2 = rent_space2['livingSpace'].values.reshape(-1,1)\n",
    "y_2 = rent_space2['totalRent'].values.reshape(-1,1)"
   ]
  },
  {
   "cell_type": "code",
   "execution_count": null,
   "metadata": {
    "scrolled": true
   },
   "outputs": [],
   "source": [
    "X_train_2, X_test_2, y_train_2, y_test_2 = train_test_split(X_2, y_2, test_size=0.3, random_state=0)"
   ]
  },
  {
   "cell_type": "code",
   "execution_count": null,
   "metadata": {},
   "outputs": [],
   "source": [
    "# Run and fit the regression.\n",
    "\n",
    "regression = LinearRegression()  \n",
    "regression.fit(X_train_2, y_train_2)"
   ]
  },
  {
   "cell_type": "code",
   "execution_count": null,
   "metadata": {},
   "outputs": [],
   "source": [
    "# Predict.\n",
    "\n",
    "y_predicted_2 = regression.predict(X_test_2)"
   ]
  },
  {
   "cell_type": "code",
   "execution_count": null,
   "metadata": {},
   "outputs": [],
   "source": [
    "rmse = mean_squared_error(y_test_2, y_predicted_2)\n",
    "r2 = r2_score(y_test_2, y_predicted_2)"
   ]
  },
  {
   "cell_type": "code",
   "execution_count": null,
   "metadata": {},
   "outputs": [],
   "source": [
    "print('Slope:' ,regression.coef_)\n",
    "print('Mean squared error: ', rmse)\n",
    "print('R2 score: ', r2)"
   ]
  },
  {
   "cell_type": "markdown",
   "metadata": {},
   "source": [
    "Observations: Eliminating outliers had a minimal but positive effect on the accuracy of the regression model."
   ]
  },
  {
   "cell_type": "code",
   "execution_count": null,
   "metadata": {
    "scrolled": true
   },
   "outputs": [],
   "source": [
    "# Visualizing the test set results.\n",
    "plot_test = plt\n",
    "plot_test.scatter(X_test_2, y_test_2, color='gray', s = 15)\n",
    "plot_test.plot(X_test_2, y_predicted_2, color='red', linewidth =3)\n",
    "plot_test.title('Living Space vs Total Rent (Test set)')\n",
    "plot_test.xlabel('livingSpace')\n",
    "plot_test.ylabel('totalRent')\n",
    "plot_test.show()"
   ]
  },
  {
   "cell_type": "code",
   "execution_count": null,
   "metadata": {
    "scrolled": true
   },
   "outputs": [],
   "source": [
    "data = pd.DataFrame({'Actual': y_test_2.flatten(), 'Predicted': y_predicted_2.flatten()})\n",
    "data.head(30)"
   ]
  },
  {
   "cell_type": "markdown",
   "metadata": {},
   "source": [
    "## Linear regression, take 2: price per unit and population trend"
   ]
  },
  {
   "cell_type": "markdown",
   "metadata": {},
   "source": [
    "Here I use linear regression to assess the relationship between price per unit (moderating the known relationship between rent and unit size) and the general population trend of the state in which the unit is located."
   ]
  },
  {
   "cell_type": "code",
   "execution_count": 39,
   "metadata": {},
   "outputs": [],
   "source": [
    "# Create subset with just price/unit and population trend\n",
    "price_pop = df[['populationTrend', 'price/unit']]"
   ]
  },
  {
   "cell_type": "code",
   "execution_count": 40,
   "metadata": {},
   "outputs": [
    {
     "data": {
      "text/plain": [
       "populationTrend        0\n",
       "price/unit         39356\n",
       "dtype: int64"
      ]
     },
     "execution_count": 40,
     "metadata": {},
     "output_type": "execute_result"
    }
   ],
   "source": [
    "# Check for missing values\n",
    "price_pop.isnull().sum()"
   ]
  },
  {
   "cell_type": "code",
   "execution_count": 41,
   "metadata": {},
   "outputs": [],
   "source": [
    "# drop blank values \n",
    "price_pop_trim = price_pop.dropna(inplace=False)"
   ]
  },
  {
   "cell_type": "code",
   "execution_count": 42,
   "metadata": {},
   "outputs": [
    {
     "data": {
      "text/plain": [
       "populationTrend    0\n",
       "price/unit         0\n",
       "dtype: int64"
      ]
     },
     "execution_count": 42,
     "metadata": {},
     "output_type": "execute_result"
    }
   ],
   "source": [
    "price_pop_trim.isnull().sum()"
   ]
  },
  {
   "cell_type": "code",
   "execution_count": 43,
   "metadata": {},
   "outputs": [
    {
     "name": "stderr",
     "output_type": "stream",
     "text": [
      "C:\\Users\\jacym\\AppData\\Local\\Temp\\ipykernel_31844\\3498814368.py:1: UserWarning: \n",
      "\n",
      "`distplot` is a deprecated function and will be removed in seaborn v0.14.0.\n",
      "\n",
      "Please adapt your code to use either `displot` (a figure-level function with\n",
      "similar flexibility) or `histplot` (an axes-level function for histograms).\n",
      "\n",
      "For a guide to updating your code to use the new functions, please see\n",
      "https://gist.github.com/mwaskom/de44147ed2974457ad6372750bbe5751\n",
      "\n",
      "  sns.distplot(price_pop_trim['price/unit'], bins=25) # Shows extreme values\n"
     ]
    },
    {
     "data": {
      "text/plain": [
       "<Axes: xlabel='price/unit', ylabel='Density'>"
      ]
     },
     "execution_count": 43,
     "metadata": {},
     "output_type": "execute_result"
    },
    {
     "data": {
      "image/png": "[encoded data removed]",
      "text/plain": [
       "<Figure size 640x480 with 1 Axes>"
      ]
     },
     "metadata": {},
     "output_type": "display_data"
    }
   ],
   "source": [
    "sns.distplot(price_pop_trim['price/unit'], bins=25) # Shows extreme values\n",
    "\n",
    "# Some of the outliers in the high values may need to be removed, but let's try without doing so first."
   ]
  },
  {
   "cell_type": "code",
   "execution_count": 44,
   "metadata": {},
   "outputs": [
    {
     "data": {
      "image/png": "[encoded data removed]",
      "text/plain": [
       "<Figure size 640x480 with 1 Axes>"
      ]
     },
     "metadata": {},
     "output_type": "display_data"
    }
   ],
   "source": [
    "# Create a scatterplot using matplotlib for another look at how the chosen variables plot against each other.\n",
    "\n",
    "price_pop_trim.plot(x = 'populationTrend', y='price/unit',style='o') # The style option creates a scatterplot; without it, we only have lines.\n",
    "plt.title('Population Growth vs. Price per Unit')  \n",
    "plt.xlabel('populationTrend')  \n",
    "plt.ylabel('price/unit')  \n",
    "plt.show()"
   ]
  },
  {
   "cell_type": "code",
   "execution_count": 45,
   "metadata": {},
   "outputs": [],
   "source": [
    "# Reshape the variables into NumPy arrays and put them into separate objects.\n",
    "\n",
    "X_pop = price_pop_trim['populationTrend'].values.reshape(-1,1)\n",
    "y_pop = price_pop_trim['price/unit'].values.reshape(-1,1)"
   ]
  },
  {
   "cell_type": "code",
   "execution_count": 46,
   "metadata": {},
   "outputs": [
    {
     "data": {
      "text/plain": [
       "array([[-0.02],\n",
       "       [-0.02],\n",
       "       [-0.02],\n",
       "       ...,\n",
       "       [-0.4 ],\n",
       "       [-0.4 ],\n",
       "       [-0.4 ]])"
      ]
     },
     "execution_count": 46,
     "metadata": {},
     "output_type": "execute_result"
    }
   ],
   "source": [
    "X_pop"
   ]
  },
  {
   "cell_type": "code",
   "execution_count": 47,
   "metadata": {},
   "outputs": [
    {
     "data": {
      "text/plain": [
       "array([[ 9.76744186],\n",
       "       [15.17988506],\n",
       "       [ 7.96451613],\n",
       "       ...,\n",
       "       [ 7.        ],\n",
       "       [15.        ],\n",
       "       [10.78720945]])"
      ]
     },
     "execution_count": 47,
     "metadata": {},
     "output_type": "execute_result"
    }
   ],
   "source": [
    "y_pop"
   ]
  },
  {
   "cell_type": "code",
   "execution_count": 48,
   "metadata": {
    "scrolled": true
   },
   "outputs": [],
   "source": [
    "# Split data into a training set and a test set.\n",
    "\n",
    "X_train, X_test, y_train, y_test = train_test_split(X_pop, y_pop, test_size=0.3, random_state=0)"
   ]
  },
  {
   "cell_type": "markdown",
   "metadata": {},
   "source": [
    "### 4. Regression analysis"
   ]
  },
  {
   "cell_type": "code",
   "execution_count": 49,
   "metadata": {},
   "outputs": [],
   "source": [
    "# Create a regression object.\n",
    "\n",
    "regression_pop = LinearRegression()  # This is the regression object, which will be fit onto the training set."
   ]
  },
  {
   "cell_type": "code",
   "execution_count": 50,
   "metadata": {},
   "outputs": [
    {
     "data": {
      "text/html": [
       "<style>#sk-container-id-2 {color: black;background-color: white;}#sk-container-id-2 pre{padding: 0;}#sk-container-id-2 div.sk-toggleable {background-color: white;}#sk-container-id-2 label.sk-toggleable__label {cursor: pointer;display: block;width: 100%;margin-bottom: 0;padding: 0.3em;box-sizing: border-box;text-align: center;}#sk-container-id-2 label.sk-toggleable__label-arrow:before {content: \"▸\";float: left;margin-right: 0.25em;color: #696969;}#sk-container-id-2 label.sk-toggleable__label-arrow:hover:before {color: black;}#sk-container-id-2 div.sk-estimator:hover label.sk-toggleable__label-arrow:before {color: black;}#sk-container-id-2 div.sk-toggleable__content {max-height: 0;max-width: 0;overflow: hidden;text-align: left;background-color: #f0f8ff;}#sk-container-id-2 div.sk-toggleable__content pre {margin: 0.2em;color: black;border-radius: 0.25em;background-color: #f0f8ff;}#sk-container-id-2 input.sk-toggleable__control:checked~div.sk-toggleable__content {max-height: 200px;max-width: 100%;overflow: auto;}#sk-container-id-2 input.sk-toggleable__control:checked~label.sk-toggleable__label-arrow:before {content: \"▾\";}#sk-container-id-2 div.sk-estimator input.sk-toggleable__control:checked~label.sk-toggleable__label {background-color: #d4ebff;}#sk-container-id-2 div.sk-label input.sk-toggleable__control:checked~label.sk-toggleable__label {background-color: #d4ebff;}#sk-container-id-2 input.sk-hidden--visually {border: 0;clip: rect(1px 1px 1px 1px);clip: rect(1px, 1px, 1px, 1px);height: 1px;margin: -1px;overflow: hidden;padding: 0;position: absolute;width: 1px;}#sk-container-id-2 div.sk-estimator {font-family: monospace;background-color: #f0f8ff;border: 1px dotted black;border-radius: 0.25em;box-sizing: border-box;margin-bottom: 0.5em;}#sk-container-id-2 div.sk-estimator:hover {background-color: #d4ebff;}#sk-container-id-2 div.sk-parallel-item::after {content: \"\";width: 100%;border-bottom: 1px solid gray;flex-grow: 1;}#sk-container-id-2 div.sk-label:hover label.sk-toggleable__label {background-color: #d4ebff;}#sk-container-id-2 div.sk-serial::before {content: \"\";position: absolute;border-left: 1px solid gray;box-sizing: border-box;top: 0;bottom: 0;left: 50%;z-index: 0;}#sk-container-id-2 div.sk-serial {display: flex;flex-direction: column;align-items: center;background-color: white;padding-right: 0.2em;padding-left: 0.2em;position: relative;}#sk-container-id-2 div.sk-item {position: relative;z-index: 1;}#sk-container-id-2 div.sk-parallel {display: flex;align-items: stretch;justify-content: center;background-color: white;position: relative;}#sk-container-id-2 div.sk-item::before, #sk-container-id-2 div.sk-parallel-item::before {content: \"\";position: absolute;border-left: 1px solid gray;box-sizing: border-box;top: 0;bottom: 0;left: 50%;z-index: -1;}#sk-container-id-2 div.sk-parallel-item {display: flex;flex-direction: column;z-index: 1;position: relative;background-color: white;}#sk-container-id-2 div.sk-parallel-item:first-child::after {align-self: flex-end;width: 50%;}#sk-container-id-2 div.sk-parallel-item:last-child::after {align-self: flex-start;width: 50%;}#sk-container-id-2 div.sk-parallel-item:only-child::after {width: 0;}#sk-container-id-2 div.sk-dashed-wrapped {border: 1px dashed gray;margin: 0 0.4em 0.5em 0.4em;box-sizing: border-box;padding-bottom: 0.4em;background-color: white;}#sk-container-id-2 div.sk-label label {font-family: monospace;font-weight: bold;display: inline-block;line-height: 1.2em;}#sk-container-id-2 div.sk-label-container {text-align: center;}#sk-container-id-2 div.sk-container {/* jupyter's `normalize.less` sets `[hidden] { display: none; }` but bootstrap.min.css set `[hidden] { display: none !important; }` so we also need the `!important` here to be able to override the default hidden behavior on the sphinx rendered scikit-learn.org. See: https://github.com/scikit-learn/scikit-learn/issues/21755 */display: inline-block !important;position: relative;}#sk-container-id-2 div.sk-text-repr-fallback {display: none;}</style><div id=\"sk-container-id-2\" class=\"sk-top-container\"><div class=\"sk-text-repr-fallback\"><pre>LinearRegression()</pre><b>In a Jupyter environment, please rerun this cell to show the HTML representation or trust the notebook. <br />On GitHub, the HTML representation is unable to render, please try loading this page with nbviewer.org.</b></div><div class=\"sk-container\" hidden><div class=\"sk-item\"><div class=\"sk-estimator sk-toggleable\"><input class=\"sk-toggleable__control sk-hidden--visually\" id=\"sk-estimator-id-2\" type=\"checkbox\" checked><label for=\"sk-estimator-id-2\" class=\"sk-toggleable__label sk-toggleable__label-arrow\">LinearRegression</label><div class=\"sk-toggleable__content\"><pre>LinearRegression()</pre></div></div></div></div></div>"
      ],
      "text/plain": [
       "LinearRegression()"
      ]
     },
     "execution_count": 50,
     "metadata": {},
     "output_type": "execute_result"
    }
   ],
   "source": [
    "# Fit the regression object onto the training set.\n",
    "\n",
    "regression_pop.fit(X_train, y_train)"
   ]
  },
  {
   "cell_type": "code",
   "execution_count": 51,
   "metadata": {},
   "outputs": [],
   "source": [
    "# Predict the values of y using X.\n",
    "\n",
    "y_predicted = regression_pop.predict(X_test)"
   ]
  },
  {
   "cell_type": "code",
   "execution_count": 52,
   "metadata": {},
   "outputs": [
    {
     "data": {
      "image/png": "[encoded data removed]",
      "text/plain": [
       "<Figure size 640x480 with 1 Axes>"
      ]
     },
     "metadata": {},
     "output_type": "display_data"
    }
   ],
   "source": [
    "# Create a plot that shows the regression line from the model on the test set.\n",
    "\n",
    "plot_test = plt\n",
    "plot_test.scatter(X_test, y_test, color='gray', s = 15)\n",
    "plot_test.plot(X_test, y_predicted, color='red', linewidth =3)\n",
    "plot_test.title('Population Growth vs. Price per Unit (Test set)')\n",
    "plot_test.xlabel('populationTrend')\n",
    "plot_test.ylabel('price/unit')\n",
    "plot_test.show()"
   ]
  },
  {
   "cell_type": "code",
   "execution_count": 53,
   "metadata": {},
   "outputs": [],
   "source": [
    "# Create objects that contain the model summary statistics.\n",
    "\n",
    "rmse = mean_squared_error(y_test, y_predicted) # This is the mean squared error\n",
    "r2 = r2_score(y_test, y_predicted) # This is the R2 score. "
   ]
  },
  {
   "cell_type": "code",
   "execution_count": 54,
   "metadata": {},
   "outputs": [
    {
     "name": "stdout",
     "output_type": "stream",
     "text": [
      "Slope: [[13.12936811]]\n",
      "Mean squared error:  23.327494547007515\n",
      "R2 score:  0.21128966712499664\n"
     ]
    }
   ],
   "source": [
    "# Print the model summary statistics. This is where you evaluate the performance of the model.\n",
    "\n",
    "print('Slope:' ,regression.coef_)\n",
    "print('Mean squared error: ', rmse)\n",
    "print('R2 score: ', r2)"
   ]
  },
  {
   "cell_type": "markdown",
   "metadata": {},
   "source": [
    "There is a modest relationship between population growth trend and price per unit, with price per unit sometimes tending to be higher if population is growing faster in the area. The population growth trend only accounts for a small portion of the variability in price per unit. A caveat is the small pool of data points for population growth, since there are just 16 federal states in Germany."
   ]
  },
  {
   "cell_type": "code",
   "execution_count": 55,
   "metadata": {},
   "outputs": [
    {
     "data": {
      "text/plain": [
       "array([[13.27451197],\n",
       "       [ 9.23779754],\n",
       "       [11.99621907],\n",
       "       ...,\n",
       "       [ 9.23779754],\n",
       "       [13.88001914],\n",
       "       [14.7546406 ]])"
      ]
     },
     "execution_count": 55,
     "metadata": {},
     "output_type": "execute_result"
    }
   ],
   "source": [
    "y_predicted"
   ]
  },
  {
   "cell_type": "code",
   "execution_count": 56,
   "metadata": {
    "scrolled": true
   },
   "outputs": [
    {
     "data": {
      "text/html": [
       "<div>\n",
       "<style scoped>\n",
       "    .dataframe tbody tr th:only-of-type {\n",
       "        vertical-align: middle;\n",
       "    }\n",
       "\n",
       "    .dataframe tbody tr th {\n",
       "        vertical-align: top;\n",
       "    }\n",
       "\n",
       "    .dataframe thead th {\n",
       "        text-align: right;\n",
       "    }\n",
       "</style>\n",
       "<table border=\"1\" class=\"dataframe\">\n",
       "  <thead>\n",
       "    <tr style=\"text-align: right;\">\n",
       "      <th></th>\n",
       "      <th>Actual</th>\n",
       "      <th>Predicted</th>\n",
       "    </tr>\n",
       "  </thead>\n",
       "  <tbody>\n",
       "    <tr>\n",
       "      <th>0</th>\n",
       "      <td>7.028571</td>\n",
       "      <td>13.274512</td>\n",
       "    </tr>\n",
       "    <tr>\n",
       "      <th>1</th>\n",
       "      <td>7.058824</td>\n",
       "      <td>9.237798</td>\n",
       "    </tr>\n",
       "    <tr>\n",
       "      <th>2</th>\n",
       "      <td>10.000000</td>\n",
       "      <td>11.996219</td>\n",
       "    </tr>\n",
       "    <tr>\n",
       "      <th>3</th>\n",
       "      <td>6.675086</td>\n",
       "      <td>9.237798</td>\n",
       "    </tr>\n",
       "    <tr>\n",
       "      <th>4</th>\n",
       "      <td>26.875000</td>\n",
       "      <td>13.880019</td>\n",
       "    </tr>\n",
       "    <tr>\n",
       "      <th>5</th>\n",
       "      <td>10.870462</td>\n",
       "      <td>9.237798</td>\n",
       "    </tr>\n",
       "    <tr>\n",
       "      <th>6</th>\n",
       "      <td>6.360424</td>\n",
       "      <td>12.534448</td>\n",
       "    </tr>\n",
       "    <tr>\n",
       "      <th>7</th>\n",
       "      <td>13.673469</td>\n",
       "      <td>13.274512</td>\n",
       "    </tr>\n",
       "    <tr>\n",
       "      <th>8</th>\n",
       "      <td>10.988506</td>\n",
       "      <td>14.485526</td>\n",
       "    </tr>\n",
       "    <tr>\n",
       "      <th>9</th>\n",
       "      <td>14.312500</td>\n",
       "      <td>13.610905</td>\n",
       "    </tr>\n",
       "    <tr>\n",
       "      <th>10</th>\n",
       "      <td>13.571429</td>\n",
       "      <td>12.669005</td>\n",
       "    </tr>\n",
       "    <tr>\n",
       "      <th>11</th>\n",
       "      <td>9.293309</td>\n",
       "      <td>11.996219</td>\n",
       "    </tr>\n",
       "    <tr>\n",
       "      <th>12</th>\n",
       "      <td>14.200212</td>\n",
       "      <td>8.968683</td>\n",
       "    </tr>\n",
       "    <tr>\n",
       "      <th>13</th>\n",
       "      <td>10.568182</td>\n",
       "      <td>13.880019</td>\n",
       "    </tr>\n",
       "    <tr>\n",
       "      <th>14</th>\n",
       "      <td>8.166667</td>\n",
       "      <td>9.439633</td>\n",
       "    </tr>\n",
       "    <tr>\n",
       "      <th>15</th>\n",
       "      <td>9.760000</td>\n",
       "      <td>11.996219</td>\n",
       "    </tr>\n",
       "    <tr>\n",
       "      <th>16</th>\n",
       "      <td>7.399324</td>\n",
       "      <td>6.075705</td>\n",
       "    </tr>\n",
       "    <tr>\n",
       "      <th>17</th>\n",
       "      <td>21.250000</td>\n",
       "      <td>13.274512</td>\n",
       "    </tr>\n",
       "    <tr>\n",
       "      <th>18</th>\n",
       "      <td>10.620042</td>\n",
       "      <td>9.237798</td>\n",
       "    </tr>\n",
       "    <tr>\n",
       "      <th>19</th>\n",
       "      <td>10.442361</td>\n",
       "      <td>14.485526</td>\n",
       "    </tr>\n",
       "    <tr>\n",
       "      <th>20</th>\n",
       "      <td>21.441246</td>\n",
       "      <td>14.485526</td>\n",
       "    </tr>\n",
       "    <tr>\n",
       "      <th>21</th>\n",
       "      <td>6.879310</td>\n",
       "      <td>6.075705</td>\n",
       "    </tr>\n",
       "    <tr>\n",
       "      <th>22</th>\n",
       "      <td>9.501906</td>\n",
       "      <td>9.237798</td>\n",
       "    </tr>\n",
       "    <tr>\n",
       "      <th>23</th>\n",
       "      <td>7.505051</td>\n",
       "      <td>9.237798</td>\n",
       "    </tr>\n",
       "    <tr>\n",
       "      <th>24</th>\n",
       "      <td>16.177819</td>\n",
       "      <td>14.552805</td>\n",
       "    </tr>\n",
       "    <tr>\n",
       "      <th>25</th>\n",
       "      <td>9.096067</td>\n",
       "      <td>9.237798</td>\n",
       "    </tr>\n",
       "    <tr>\n",
       "      <th>26</th>\n",
       "      <td>9.905660</td>\n",
       "      <td>14.485526</td>\n",
       "    </tr>\n",
       "    <tr>\n",
       "      <th>27</th>\n",
       "      <td>10.660915</td>\n",
       "      <td>11.323433</td>\n",
       "    </tr>\n",
       "    <tr>\n",
       "      <th>28</th>\n",
       "      <td>8.817662</td>\n",
       "      <td>11.996219</td>\n",
       "    </tr>\n",
       "    <tr>\n",
       "      <th>29</th>\n",
       "      <td>6.491228</td>\n",
       "      <td>9.237798</td>\n",
       "    </tr>\n",
       "  </tbody>\n",
       "</table>\n",
       "</div>"
      ],
      "text/plain": [
       "       Actual  Predicted\n",
       "0    7.028571  13.274512\n",
       "1    7.058824   9.237798\n",
       "2   10.000000  11.996219\n",
       "3    6.675086   9.237798\n",
       "4   26.875000  13.880019\n",
       "5   10.870462   9.237798\n",
       "6    6.360424  12.534448\n",
       "7   13.673469  13.274512\n",
       "8   10.988506  14.485526\n",
       "9   14.312500  13.610905\n",
       "10  13.571429  12.669005\n",
       "11   9.293309  11.996219\n",
       "12  14.200212   8.968683\n",
       "13  10.568182  13.880019\n",
       "14   8.166667   9.439633\n",
       "15   9.760000  11.996219\n",
       "16   7.399324   6.075705\n",
       "17  21.250000  13.274512\n",
       "18  10.620042   9.237798\n",
       "19  10.442361  14.485526\n",
       "20  21.441246  14.485526\n",
       "21   6.879310   6.075705\n",
       "22   9.501906   9.237798\n",
       "23   7.505051   9.237798\n",
       "24  16.177819  14.552805\n",
       "25   9.096067   9.237798\n",
       "26   9.905660  14.485526\n",
       "27  10.660915  11.323433\n",
       "28   8.817662  11.996219\n",
       "29   6.491228   9.237798"
      ]
     },
     "execution_count": 56,
     "metadata": {},
     "output_type": "execute_result"
    }
   ],
   "source": [
    "# Create a dataframe comparing the actual and predicted values of y.\n",
    "\n",
    "data = pd.DataFrame({'Actual': y_test.flatten(), 'Predicted': y_predicted.flatten()})\n",
    "data.head(30)"
   ]
  },
  {
   "cell_type": "markdown",
   "metadata": {},
   "source": [
    "## Linear regression, take 3: price per unit and *district* population trend"
   ]
  },
  {
   "cell_type": "markdown",
   "metadata": {},
   "source": [
    "Here, I assess the relationship between district-level population growth and price per unit."
   ]
  },
  {
   "cell_type": "code",
   "execution_count": 59,
   "metadata": {},
   "outputs": [],
   "source": [
    "# Create subset with just price/unit and population trend\n",
    "price_dist_pop = df[['districtPopTrend', 'price/unit']]"
   ]
  },
  {
   "cell_type": "code",
   "execution_count": 60,
   "metadata": {},
   "outputs": [
    {
     "data": {
      "text/plain": [
       "districtPopTrend        0\n",
       "price/unit          39356\n",
       "dtype: int64"
      ]
     },
     "execution_count": 60,
     "metadata": {},
     "output_type": "execute_result"
    }
   ],
   "source": [
    "# Check for missing values\n",
    "price_dist_pop.isnull().sum()"
   ]
  },
  {
   "cell_type": "code",
   "execution_count": 61,
   "metadata": {},
   "outputs": [],
   "source": [
    "# drop blank values \n",
    "price_dist_trim = price_dist_pop.dropna(inplace=False)"
   ]
  },
  {
   "cell_type": "code",
   "execution_count": 62,
   "metadata": {},
   "outputs": [
    {
     "data": {
      "text/plain": [
       "districtPopTrend    0\n",
       "price/unit          0\n",
       "dtype: int64"
      ]
     },
     "execution_count": 62,
     "metadata": {},
     "output_type": "execute_result"
    }
   ],
   "source": [
    "price_dist_trim.isnull().sum()"
   ]
  },
  {
   "cell_type": "code",
   "execution_count": 63,
   "metadata": {},
   "outputs": [
    {
     "data": {
      "image/png": "[encoded data removed]",
      "text/plain": [
       "<Figure size 640x480 with 1 Axes>"
      ]
     },
     "metadata": {},
     "output_type": "display_data"
    }
   ],
   "source": [
    "# Create a scatterplot using matplotlib for another look at how the chosen variables plot against each other.\n",
    "\n",
    "price_dist_trim.plot(x = 'districtPopTrend', y='price/unit',style='o') # The style option creates a scatterplot; without it, we only have lines.\n",
    "plt.title('District Population Growth vs. Price per Unit')  \n",
    "plt.xlabel('districtPopTrend')  \n",
    "plt.ylabel('price/unit')  \n",
    "plt.show()"
   ]
  },
  {
   "cell_type": "code",
   "execution_count": 64,
   "metadata": {},
   "outputs": [],
   "source": [
    "# Reshape the variables into NumPy arrays and put them into separate objects.\n",
    "\n",
    "X_dist = price_dist_trim['districtPopTrend'].values.reshape(-1,1)\n",
    "y_dist = price_dist_trim['price/unit'].values.reshape(-1,1)"
   ]
  },
  {
   "cell_type": "code",
   "execution_count": 65,
   "metadata": {},
   "outputs": [
    {
     "data": {
      "text/plain": [
       "array([[ 0.33],\n",
       "       [ 0.33],\n",
       "       [ 0.33],\n",
       "       ...,\n",
       "       [-0.2 ],\n",
       "       [-0.2 ],\n",
       "       [-0.2 ]])"
      ]
     },
     "execution_count": 65,
     "metadata": {},
     "output_type": "execute_result"
    }
   ],
   "source": [
    "X_dist"
   ]
  },
  {
   "cell_type": "code",
   "execution_count": 66,
   "metadata": {},
   "outputs": [
    {
     "data": {
      "text/plain": [
       "array([[ 9.76744186],\n",
       "       [15.17988506],\n",
       "       [ 7.96451613],\n",
       "       ...,\n",
       "       [ 7.        ],\n",
       "       [15.        ],\n",
       "       [10.78720945]])"
      ]
     },
     "execution_count": 66,
     "metadata": {},
     "output_type": "execute_result"
    }
   ],
   "source": [
    "y_dist"
   ]
  },
  {
   "cell_type": "code",
   "execution_count": 67,
   "metadata": {
    "scrolled": true
   },
   "outputs": [],
   "source": [
    "# Split data into a training set and a test set.\n",
    "\n",
    "X_train, X_test, y_train, y_test = train_test_split(X_dist, y_dist, test_size=0.3, random_state=0)"
   ]
  },
  {
   "cell_type": "markdown",
   "metadata": {},
   "source": [
    "### 4. Regression analysis"
   ]
  },
  {
   "cell_type": "code",
   "execution_count": 68,
   "metadata": {},
   "outputs": [],
   "source": [
    "# Create a regression object.\n",
    "\n",
    "regression_dist = LinearRegression()  # This is the regression object, which will be fit onto the training set."
   ]
  },
  {
   "cell_type": "code",
   "execution_count": 69,
   "metadata": {},
   "outputs": [
    {
     "data": {
      "text/html": [
       "<style>#sk-container-id-3 {color: black;background-color: white;}#sk-container-id-3 pre{padding: 0;}#sk-container-id-3 div.sk-toggleable {background-color: white;}#sk-container-id-3 label.sk-toggleable__label {cursor: pointer;display: block;width: 100%;margin-bottom: 0;padding: 0.3em;box-sizing: border-box;text-align: center;}#sk-container-id-3 label.sk-toggleable__label-arrow:before {content: \"▸\";float: left;margin-right: 0.25em;color: #696969;}#sk-container-id-3 label.sk-toggleable__label-arrow:hover:before {color: black;}#sk-container-id-3 div.sk-estimator:hover label.sk-toggleable__label-arrow:before {color: black;}#sk-container-id-3 div.sk-toggleable__content {max-height: 0;max-width: 0;overflow: hidden;text-align: left;background-color: #f0f8ff;}#sk-container-id-3 div.sk-toggleable__content pre {margin: 0.2em;color: black;border-radius: 0.25em;background-color: #f0f8ff;}#sk-container-id-3 input.sk-toggleable__control:checked~div.sk-toggleable__content {max-height: 200px;max-width: 100%;overflow: auto;}#sk-container-id-3 input.sk-toggleable__control:checked~label.sk-toggleable__label-arrow:before {content: \"▾\";}#sk-container-id-3 div.sk-estimator input.sk-toggleable__control:checked~label.sk-toggleable__label {background-color: #d4ebff;}#sk-container-id-3 div.sk-label input.sk-toggleable__control:checked~label.sk-toggleable__label {background-color: #d4ebff;}#sk-container-id-3 input.sk-hidden--visually {border: 0;clip: rect(1px 1px 1px 1px);clip: rect(1px, 1px, 1px, 1px);height: 1px;margin: -1px;overflow: hidden;padding: 0;position: absolute;width: 1px;}#sk-container-id-3 div.sk-estimator {font-family: monospace;background-color: #f0f8ff;border: 1px dotted black;border-radius: 0.25em;box-sizing: border-box;margin-bottom: 0.5em;}#sk-container-id-3 div.sk-estimator:hover {background-color: #d4ebff;}#sk-container-id-3 div.sk-parallel-item::after {content: \"\";width: 100%;border-bottom: 1px solid gray;flex-grow: 1;}#sk-container-id-3 div.sk-label:hover label.sk-toggleable__label {background-color: #d4ebff;}#sk-container-id-3 div.sk-serial::before {content: \"\";position: absolute;border-left: 1px solid gray;box-sizing: border-box;top: 0;bottom: 0;left: 50%;z-index: 0;}#sk-container-id-3 div.sk-serial {display: flex;flex-direction: column;align-items: center;background-color: white;padding-right: 0.2em;padding-left: 0.2em;position: relative;}#sk-container-id-3 div.sk-item {position: relative;z-index: 1;}#sk-container-id-3 div.sk-parallel {display: flex;align-items: stretch;justify-content: center;background-color: white;position: relative;}#sk-container-id-3 div.sk-item::before, #sk-container-id-3 div.sk-parallel-item::before {content: \"\";position: absolute;border-left: 1px solid gray;box-sizing: border-box;top: 0;bottom: 0;left: 50%;z-index: -1;}#sk-container-id-3 div.sk-parallel-item {display: flex;flex-direction: column;z-index: 1;position: relative;background-color: white;}#sk-container-id-3 div.sk-parallel-item:first-child::after {align-self: flex-end;width: 50%;}#sk-container-id-3 div.sk-parallel-item:last-child::after {align-self: flex-start;width: 50%;}#sk-container-id-3 div.sk-parallel-item:only-child::after {width: 0;}#sk-container-id-3 div.sk-dashed-wrapped {border: 1px dashed gray;margin: 0 0.4em 0.5em 0.4em;box-sizing: border-box;padding-bottom: 0.4em;background-color: white;}#sk-container-id-3 div.sk-label label {font-family: monospace;font-weight: bold;display: inline-block;line-height: 1.2em;}#sk-container-id-3 div.sk-label-container {text-align: center;}#sk-container-id-3 div.sk-container {/* jupyter's `normalize.less` sets `[hidden] { display: none; }` but bootstrap.min.css set `[hidden] { display: none !important; }` so we also need the `!important` here to be able to override the default hidden behavior on the sphinx rendered scikit-learn.org. See: https://github.com/scikit-learn/scikit-learn/issues/21755 */display: inline-block !important;position: relative;}#sk-container-id-3 div.sk-text-repr-fallback {display: none;}</style><div id=\"sk-container-id-3\" class=\"sk-top-container\"><div class=\"sk-text-repr-fallback\"><pre>LinearRegression()</pre><b>In a Jupyter environment, please rerun this cell to show the HTML representation or trust the notebook. <br />On GitHub, the HTML representation is unable to render, please try loading this page with nbviewer.org.</b></div><div class=\"sk-container\" hidden><div class=\"sk-item\"><div class=\"sk-estimator sk-toggleable\"><input class=\"sk-toggleable__control sk-hidden--visually\" id=\"sk-estimator-id-3\" type=\"checkbox\" checked><label for=\"sk-estimator-id-3\" class=\"sk-toggleable__label sk-toggleable__label-arrow\">LinearRegression</label><div class=\"sk-toggleable__content\"><pre>LinearRegression()</pre></div></div></div></div></div>"
      ],
      "text/plain": [
       "LinearRegression()"
      ]
     },
     "execution_count": 69,
     "metadata": {},
     "output_type": "execute_result"
    }
   ],
   "source": [
    "# Fit the regression object onto the training set.\n",
    "\n",
    "regression_dist.fit(X_train, y_train)"
   ]
  },
  {
   "cell_type": "code",
   "execution_count": 70,
   "metadata": {},
   "outputs": [],
   "source": [
    "# Predict the values of y using X.\n",
    "\n",
    "y_predicted = regression_dist.predict(X_test)"
   ]
  },
  {
   "cell_type": "code",
   "execution_count": 71,
   "metadata": {},
   "outputs": [
    {
     "data": {
      "image/png": "[encoded data removed]",
      "text/plain": [
       "<Figure size 640x480 with 1 Axes>"
      ]
     },
     "metadata": {},
     "output_type": "display_data"
    }
   ],
   "source": [
    "# Create a plot that shows the regression line from the model on the test set.\n",
    "\n",
    "plot_test = plt\n",
    "plot_test.scatter(X_test, y_test, color='gray', s = 15)\n",
    "plot_test.plot(X_test, y_predicted, color='red', linewidth =3)\n",
    "plot_test.title('District Population Growth vs. Price per Unit (Test set)')\n",
    "plot_test.xlabel('districtPopTrend')\n",
    "plot_test.ylabel('price/unit')\n",
    "plot_test.show()"
   ]
  },
  {
   "cell_type": "code",
   "execution_count": 72,
   "metadata": {},
   "outputs": [],
   "source": [
    "# Create objects that contain the model summary statistics.\n",
    "\n",
    "rmse = mean_squared_error(y_test, y_predicted) # This is the mean squared error\n",
    "r2 = r2_score(y_test, y_predicted) # This is the R2 score. "
   ]
  },
  {
   "cell_type": "code",
   "execution_count": 73,
   "metadata": {},
   "outputs": [
    {
     "name": "stdout",
     "output_type": "stream",
     "text": [
      "Slope: [[13.12936811]]\n",
      "Mean squared error:  25.664955352664222\n",
      "R2 score:  0.13225934149800933\n"
     ]
    }
   ],
   "source": [
    "# Print the model summary statistics. This is where you evaluate the performance of the model.\n",
    "\n",
    "print('Slope:' ,regression.coef_)\n",
    "print('Mean squared error: ', rmse)\n",
    "print('R2 score: ', r2)"
   ]
  },
  {
   "cell_type": "markdown",
   "metadata": {},
   "source": [
    "Observations: There is no clear linear relationship between district population growth and price per unit. Units in areas where the population is growing at a higher rate tend to have a higher cost per unit, but the effect is small. I think there was too much variability in the data to draw an accurate regression line."
   ]
  },
  {
   "cell_type": "code",
   "execution_count": 74,
   "metadata": {},
   "outputs": [
    {
     "data": {
      "text/plain": [
       "array([[10.98919857],\n",
       "       [10.7257788 ],\n",
       "       [10.04841369],\n",
       "       ...,\n",
       "       [10.7257788 ],\n",
       "       [11.62893228],\n",
       "       [13.51050205]])"
      ]
     },
     "execution_count": 74,
     "metadata": {},
     "output_type": "execute_result"
    }
   ],
   "source": [
    "y_predicted"
   ]
  },
  {
   "cell_type": "code",
   "execution_count": 75,
   "metadata": {
    "scrolled": true
   },
   "outputs": [
    {
     "data": {
      "text/html": [
       "<div>\n",
       "<style scoped>\n",
       "    .dataframe tbody tr th:only-of-type {\n",
       "        vertical-align: middle;\n",
       "    }\n",
       "\n",
       "    .dataframe tbody tr th {\n",
       "        vertical-align: top;\n",
       "    }\n",
       "\n",
       "    .dataframe thead th {\n",
       "        text-align: right;\n",
       "    }\n",
       "</style>\n",
       "<table border=\"1\" class=\"dataframe\">\n",
       "  <thead>\n",
       "    <tr style=\"text-align: right;\">\n",
       "      <th></th>\n",
       "      <th>Actual</th>\n",
       "      <th>Predicted</th>\n",
       "    </tr>\n",
       "  </thead>\n",
       "  <tbody>\n",
       "    <tr>\n",
       "      <th>0</th>\n",
       "      <td>7.028571</td>\n",
       "      <td>10.989199</td>\n",
       "    </tr>\n",
       "    <tr>\n",
       "      <th>1</th>\n",
       "      <td>7.058824</td>\n",
       "      <td>10.725779</td>\n",
       "    </tr>\n",
       "    <tr>\n",
       "      <th>2</th>\n",
       "      <td>10.000000</td>\n",
       "      <td>10.048414</td>\n",
       "    </tr>\n",
       "    <tr>\n",
       "      <th>3</th>\n",
       "      <td>6.675086</td>\n",
       "      <td>10.725779</td>\n",
       "    </tr>\n",
       "    <tr>\n",
       "      <th>4</th>\n",
       "      <td>26.875000</td>\n",
       "      <td>11.553669</td>\n",
       "    </tr>\n",
       "    <tr>\n",
       "      <th>5</th>\n",
       "      <td>10.870462</td>\n",
       "      <td>12.118140</td>\n",
       "    </tr>\n",
       "    <tr>\n",
       "      <th>6</th>\n",
       "      <td>6.360424</td>\n",
       "      <td>9.822625</td>\n",
       "    </tr>\n",
       "    <tr>\n",
       "      <th>7</th>\n",
       "      <td>13.673469</td>\n",
       "      <td>13.698659</td>\n",
       "    </tr>\n",
       "    <tr>\n",
       "      <th>8</th>\n",
       "      <td>10.988506</td>\n",
       "      <td>14.526550</td>\n",
       "    </tr>\n",
       "    <tr>\n",
       "      <th>9</th>\n",
       "      <td>14.312500</td>\n",
       "      <td>11.403144</td>\n",
       "    </tr>\n",
       "    <tr>\n",
       "      <th>10</th>\n",
       "      <td>13.571429</td>\n",
       "      <td>11.929983</td>\n",
       "    </tr>\n",
       "    <tr>\n",
       "      <th>11</th>\n",
       "      <td>9.293309</td>\n",
       "      <td>10.010782</td>\n",
       "    </tr>\n",
       "    <tr>\n",
       "      <th>12</th>\n",
       "      <td>14.200212</td>\n",
       "      <td>10.913936</td>\n",
       "    </tr>\n",
       "    <tr>\n",
       "      <th>13</th>\n",
       "      <td>10.568182</td>\n",
       "      <td>12.682611</td>\n",
       "    </tr>\n",
       "    <tr>\n",
       "      <th>14</th>\n",
       "      <td>8.166667</td>\n",
       "      <td>9.559206</td>\n",
       "    </tr>\n",
       "    <tr>\n",
       "      <th>15</th>\n",
       "      <td>9.760000</td>\n",
       "      <td>11.516038</td>\n",
       "    </tr>\n",
       "    <tr>\n",
       "      <th>16</th>\n",
       "      <td>7.399324</td>\n",
       "      <td>6.925008</td>\n",
       "    </tr>\n",
       "    <tr>\n",
       "      <th>17</th>\n",
       "      <td>21.250000</td>\n",
       "      <td>13.548133</td>\n",
       "    </tr>\n",
       "    <tr>\n",
       "      <th>18</th>\n",
       "      <td>10.620042</td>\n",
       "      <td>12.118140</td>\n",
       "    </tr>\n",
       "    <tr>\n",
       "      <th>19</th>\n",
       "      <td>10.442361</td>\n",
       "      <td>11.967615</td>\n",
       "    </tr>\n",
       "    <tr>\n",
       "      <th>20</th>\n",
       "      <td>21.441246</td>\n",
       "      <td>12.607349</td>\n",
       "    </tr>\n",
       "    <tr>\n",
       "      <th>21</th>\n",
       "      <td>6.879310</td>\n",
       "      <td>7.527110</td>\n",
       "    </tr>\n",
       "    <tr>\n",
       "      <th>22</th>\n",
       "      <td>9.501906</td>\n",
       "      <td>15.843649</td>\n",
       "    </tr>\n",
       "    <tr>\n",
       "      <th>23</th>\n",
       "      <td>7.505051</td>\n",
       "      <td>6.849745</td>\n",
       "    </tr>\n",
       "    <tr>\n",
       "      <th>24</th>\n",
       "      <td>16.177819</td>\n",
       "      <td>12.983663</td>\n",
       "    </tr>\n",
       "    <tr>\n",
       "      <th>25</th>\n",
       "      <td>9.096067</td>\n",
       "      <td>15.843649</td>\n",
       "    </tr>\n",
       "    <tr>\n",
       "      <th>26</th>\n",
       "      <td>9.905660</td>\n",
       "      <td>13.247082</td>\n",
       "    </tr>\n",
       "    <tr>\n",
       "      <th>27</th>\n",
       "      <td>10.660915</td>\n",
       "      <td>10.913936</td>\n",
       "    </tr>\n",
       "    <tr>\n",
       "      <th>28</th>\n",
       "      <td>8.817662</td>\n",
       "      <td>11.854721</td>\n",
       "    </tr>\n",
       "    <tr>\n",
       "      <th>29</th>\n",
       "      <td>6.491228</td>\n",
       "      <td>9.634468</td>\n",
       "    </tr>\n",
       "  </tbody>\n",
       "</table>\n",
       "</div>"
      ],
      "text/plain": [
       "       Actual  Predicted\n",
       "0    7.028571  10.989199\n",
       "1    7.058824  10.725779\n",
       "2   10.000000  10.048414\n",
       "3    6.675086  10.725779\n",
       "4   26.875000  11.553669\n",
       "5   10.870462  12.118140\n",
       "6    6.360424   9.822625\n",
       "7   13.673469  13.698659\n",
       "8   10.988506  14.526550\n",
       "9   14.312500  11.403144\n",
       "10  13.571429  11.929983\n",
       "11   9.293309  10.010782\n",
       "12  14.200212  10.913936\n",
       "13  10.568182  12.682611\n",
       "14   8.166667   9.559206\n",
       "15   9.760000  11.516038\n",
       "16   7.399324   6.925008\n",
       "17  21.250000  13.548133\n",
       "18  10.620042  12.118140\n",
       "19  10.442361  11.967615\n",
       "20  21.441246  12.607349\n",
       "21   6.879310   7.527110\n",
       "22   9.501906  15.843649\n",
       "23   7.505051   6.849745\n",
       "24  16.177819  12.983663\n",
       "25   9.096067  15.843649\n",
       "26   9.905660  13.247082\n",
       "27  10.660915  10.913936\n",
       "28   8.817662  11.854721\n",
       "29   6.491228   9.634468"
      ]
     },
     "execution_count": 75,
     "metadata": {},
     "output_type": "execute_result"
    }
   ],
   "source": [
    "# Create a dataframe comparing the actual and predicted values of y.\n",
    "\n",
    "data = pd.DataFrame({'Actual': y_test.flatten(), 'Predicted': y_predicted.flatten()})\n",
    "data.head(30)"
   ]
  },
  {
   "cell_type": "markdown",
   "metadata": {},
   "source": [
    "### Bonus: performance improvement after removing outliers"
   ]
  },
  {
   "cell_type": "markdown",
   "metadata": {},
   "source": [
    "I will again assess the relationship between district population and unit price after removing some outliers in both categories."
   ]
  },
  {
   "cell_type": "code",
   "execution_count": 76,
   "metadata": {},
   "outputs": [],
   "source": [
    "# Clean extreme values from the df\n",
    "\n",
    "price_dist_2 = price_dist_pop[(price_dist_pop['districtPopTrend'] <=2) & (price_dist_pop['price/unit'] < 250)]\n"
   ]
  },
  {
   "cell_type": "code",
   "execution_count": 77,
   "metadata": {},
   "outputs": [
    {
     "data": {
      "image/png": "[encoded data removed]",
      "text/plain": [
       "<Figure size 640x480 with 1 Axes>"
      ]
     },
     "metadata": {},
     "output_type": "display_data"
    }
   ],
   "source": [
    "# See how the scatterplot looks without outliers.\n",
    "\n",
    "price_dist_2.plot(x = 'districtPopTrend', y='price/unit',style='o') # The style option creates a scatterplot; without it, we only have lines.\n",
    "plt.title('District Population vs. Unit Price, without outliers')  \n",
    "plt.xlabel('districtPopTrend')  \n",
    "plt.ylabel('price/unit')  \n",
    "plt.show()"
   ]
  },
  {
   "cell_type": "code",
   "execution_count": 78,
   "metadata": {},
   "outputs": [],
   "source": [
    "# Reshape again.\n",
    "\n",
    "X_4 = price_dist_2['districtPopTrend'].values.reshape(-1,1)\n",
    "y_4 = price_dist_2['price/unit'].values.reshape(-1,1)"
   ]
  },
  {
   "cell_type": "code",
   "execution_count": 79,
   "metadata": {
    "scrolled": true
   },
   "outputs": [],
   "source": [
    "X_train_4, X_test_4, y_train_4, y_test_4 = train_test_split(X_4, y_4, test_size=0.3, random_state=0)"
   ]
  },
  {
   "cell_type": "code",
   "execution_count": 80,
   "metadata": {},
   "outputs": [
    {
     "data": {
      "text/html": [
       "<style>#sk-container-id-4 {color: black;background-color: white;}#sk-container-id-4 pre{padding: 0;}#sk-container-id-4 div.sk-toggleable {background-color: white;}#sk-container-id-4 label.sk-toggleable__label {cursor: pointer;display: block;width: 100%;margin-bottom: 0;padding: 0.3em;box-sizing: border-box;text-align: center;}#sk-container-id-4 label.sk-toggleable__label-arrow:before {content: \"▸\";float: left;margin-right: 0.25em;color: #696969;}#sk-container-id-4 label.sk-toggleable__label-arrow:hover:before {color: black;}#sk-container-id-4 div.sk-estimator:hover label.sk-toggleable__label-arrow:before {color: black;}#sk-container-id-4 div.sk-toggleable__content {max-height: 0;max-width: 0;overflow: hidden;text-align: left;background-color: #f0f8ff;}#sk-container-id-4 div.sk-toggleable__content pre {margin: 0.2em;color: black;border-radius: 0.25em;background-color: #f0f8ff;}#sk-container-id-4 input.sk-toggleable__control:checked~div.sk-toggleable__content {max-height: 200px;max-width: 100%;overflow: auto;}#sk-container-id-4 input.sk-toggleable__control:checked~label.sk-toggleable__label-arrow:before {content: \"▾\";}#sk-container-id-4 div.sk-estimator input.sk-toggleable__control:checked~label.sk-toggleable__label {background-color: #d4ebff;}#sk-container-id-4 div.sk-label input.sk-toggleable__control:checked~label.sk-toggleable__label {background-color: #d4ebff;}#sk-container-id-4 input.sk-hidden--visually {border: 0;clip: rect(1px 1px 1px 1px);clip: rect(1px, 1px, 1px, 1px);height: 1px;margin: -1px;overflow: hidden;padding: 0;position: absolute;width: 1px;}#sk-container-id-4 div.sk-estimator {font-family: monospace;background-color: #f0f8ff;border: 1px dotted black;border-radius: 0.25em;box-sizing: border-box;margin-bottom: 0.5em;}#sk-container-id-4 div.sk-estimator:hover {background-color: #d4ebff;}#sk-container-id-4 div.sk-parallel-item::after {content: \"\";width: 100%;border-bottom: 1px solid gray;flex-grow: 1;}#sk-container-id-4 div.sk-label:hover label.sk-toggleable__label {background-color: #d4ebff;}#sk-container-id-4 div.sk-serial::before {content: \"\";position: absolute;border-left: 1px solid gray;box-sizing: border-box;top: 0;bottom: 0;left: 50%;z-index: 0;}#sk-container-id-4 div.sk-serial {display: flex;flex-direction: column;align-items: center;background-color: white;padding-right: 0.2em;padding-left: 0.2em;position: relative;}#sk-container-id-4 div.sk-item {position: relative;z-index: 1;}#sk-container-id-4 div.sk-parallel {display: flex;align-items: stretch;justify-content: center;background-color: white;position: relative;}#sk-container-id-4 div.sk-item::before, #sk-container-id-4 div.sk-parallel-item::before {content: \"\";position: absolute;border-left: 1px solid gray;box-sizing: border-box;top: 0;bottom: 0;left: 50%;z-index: -1;}#sk-container-id-4 div.sk-parallel-item {display: flex;flex-direction: column;z-index: 1;position: relative;background-color: white;}#sk-container-id-4 div.sk-parallel-item:first-child::after {align-self: flex-end;width: 50%;}#sk-container-id-4 div.sk-parallel-item:last-child::after {align-self: flex-start;width: 50%;}#sk-container-id-4 div.sk-parallel-item:only-child::after {width: 0;}#sk-container-id-4 div.sk-dashed-wrapped {border: 1px dashed gray;margin: 0 0.4em 0.5em 0.4em;box-sizing: border-box;padding-bottom: 0.4em;background-color: white;}#sk-container-id-4 div.sk-label label {font-family: monospace;font-weight: bold;display: inline-block;line-height: 1.2em;}#sk-container-id-4 div.sk-label-container {text-align: center;}#sk-container-id-4 div.sk-container {/* jupyter's `normalize.less` sets `[hidden] { display: none; }` but bootstrap.min.css set `[hidden] { display: none !important; }` so we also need the `!important` here to be able to override the default hidden behavior on the sphinx rendered scikit-learn.org. See: https://github.com/scikit-learn/scikit-learn/issues/21755 */display: inline-block !important;position: relative;}#sk-container-id-4 div.sk-text-repr-fallback {display: none;}</style><div id=\"sk-container-id-4\" class=\"sk-top-container\"><div class=\"sk-text-repr-fallback\"><pre>LinearRegression()</pre><b>In a Jupyter environment, please rerun this cell to show the HTML representation or trust the notebook. <br />On GitHub, the HTML representation is unable to render, please try loading this page with nbviewer.org.</b></div><div class=\"sk-container\" hidden><div class=\"sk-item\"><div class=\"sk-estimator sk-toggleable\"><input class=\"sk-toggleable__control sk-hidden--visually\" id=\"sk-estimator-id-4\" type=\"checkbox\" checked><label for=\"sk-estimator-id-4\" class=\"sk-toggleable__label sk-toggleable__label-arrow\">LinearRegression</label><div class=\"sk-toggleable__content\"><pre>LinearRegression()</pre></div></div></div></div></div>"
      ],
      "text/plain": [
       "LinearRegression()"
      ]
     },
     "execution_count": 80,
     "metadata": {},
     "output_type": "execute_result"
    }
   ],
   "source": [
    "# Run and fit the regression.\n",
    "\n",
    "regression_dist = LinearRegression()  \n",
    "regression_dist.fit(X_train_4, y_train_4)"
   ]
  },
  {
   "cell_type": "code",
   "execution_count": 81,
   "metadata": {},
   "outputs": [],
   "source": [
    "# Predict.\n",
    "\n",
    "y_predicted_4 = regression_dist.predict(X_test_4)"
   ]
  },
  {
   "cell_type": "code",
   "execution_count": 82,
   "metadata": {},
   "outputs": [],
   "source": [
    "rmse = mean_squared_error(y_test_4, y_predicted_4)\n",
    "r2 = r2_score(y_test_4, y_predicted_4)"
   ]
  },
  {
   "cell_type": "code",
   "execution_count": 83,
   "metadata": {},
   "outputs": [
    {
     "name": "stdout",
     "output_type": "stream",
     "text": [
      "Slope: [[3.86773522]]\n",
      "Mean squared error:  24.284434992713354\n",
      "R2 score:  0.14284694998658087\n"
     ]
    }
   ],
   "source": [
    "print('Slope:' ,regression_dist.coef_)\n",
    "print('Mean squared error: ', rmse)\n",
    "print('R2 score: ', r2)"
   ]
  },
  {
   "cell_type": "code",
   "execution_count": 84,
   "metadata": {
    "scrolled": true
   },
   "outputs": [
    {
     "data": {
      "image/png": "[encoded data removed]",
      "text/plain": [
       "<Figure size 640x480 with 1 Axes>"
      ]
     },
     "metadata": {},
     "output_type": "display_data"
    }
   ],
   "source": [
    "# Visualizing the test set results.\n",
    "plot_test = plt\n",
    "plot_test.scatter(X_test_4, y_test_4, color='gray', s = 15)\n",
    "plot_test.plot(X_test_4, y_predicted_4, color='red', linewidth =3)\n",
    "plot_test.title('District Population Growth and Unit Price (Test set)')\n",
    "plot_test.xlabel('districtPopTrend')\n",
    "plot_test.ylabel('price/unit')\n",
    "plot_test.show()"
   ]
  },
  {
   "cell_type": "markdown",
   "metadata": {},
   "source": [
    "Observations: The regression line is minimally more accurate after removing outliers, but not enough to suggest a linear relationship between the two variables."
   ]
  }
 ],
 "metadata": {
  "kernelspec": {
   "display_name": "Python 3 (ipykernel)",
   "language": "python",
   "name": "python3"
  },
  "language_info": {
   "codemirror_mode": {
    "name": "ipython",
    "version": 3
   },
   "file_extension": ".py",
   "mimetype": "text/x-python",
   "name": "python",
   "nbconvert_exporter": "python",
   "pygments_lexer": "ipython3",
   "version": "3.10.9"
  }
 },
 "nbformat": 4,
 "nbformat_minor": 4
}

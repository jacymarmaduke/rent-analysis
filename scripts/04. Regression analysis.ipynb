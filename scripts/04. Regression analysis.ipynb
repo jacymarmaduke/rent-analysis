{
 "cells": [
  {
   "cell_type": "markdown",
   "metadata": {},
   "source": [
    "## Regression analysis"
   ]
  },
  {
   "cell_type": "markdown",
   "metadata": {},
   "source": [
    "### This script contains the following:\n",
    "\n",
    "#### 01. Import libraries and data\n",
    "#### 02. Clean data\n",
    "#### 03. Data prep for regression analysis\n",
    "#### 04. Regression analysis\n",
    "#### 05. Evaluate performance after removing outliers \n",
    "\n",
    "#### Bonus tasks: Additional regression analyses with different variables\n",
    "\n",
    "About: I'm using linear regression to test four relationships that looked promising because of their correlations. None of the relationships were strong enough to assume linear relationships."
   ]
  },
  {
   "cell_type": "markdown",
   "metadata": {},
   "source": [
    "### 1. Import libraries and data"
   ]
  },
  {
   "cell_type": "code",
   "execution_count": 1,
   "metadata": {},
   "outputs": [],
   "source": [
    "import pandas as pd\n",
    "import numpy as np\n",
    "import seaborn as sns\n",
    "import matplotlib\n",
    "import matplotlib.pyplot as plt\n",
    "import os\n",
    "import sklearn\n",
    "from sklearn.model_selection import train_test_split \n",
    "from sklearn.linear_model import LinearRegression\n",
    "from sklearn.metrics import mean_squared_error, r2_score"
   ]
  },
  {
   "cell_type": "code",
   "execution_count": 2,
   "metadata": {},
   "outputs": [],
   "source": [
    "# This option ensures that the graphs you create are displayed within the notebook without the need to \"call\" them specifically.\n",
    "\n",
    "%matplotlib inline"
   ]
  },
  {
   "cell_type": "code",
   "execution_count": 3,
   "metadata": {},
   "outputs": [],
   "source": [
    "path = r'C:\\Users\\jacym\\Desktop\\Career Foundry projects\\german rent\\02 data'"
   ]
  },
  {
   "cell_type": "code",
   "execution_count": 4,
   "metadata": {},
   "outputs": [],
   "source": [
    "df = pd.read_csv(os.path.join(path, 'cleaned data', 'rent_pop_merged.csv'))"
   ]
  },
  {
   "cell_type": "code",
   "execution_count": 75,
   "metadata": {},
   "outputs": [],
   "source": [
    "# importing an additional dataframe I made that includes district-level population -- so there are more datapoints to work with\n",
    "df2 = pd.read_csv(os.path.join(path, 'cleaned data', 'rent_district_pop_merged.csv'))"
   ]
  },
  {
   "cell_type": "markdown",
   "metadata": {},
   "source": [
    "### 2. Data cleaning"
   ]
  },
  {
   "cell_type": "code",
   "execution_count": 5,
   "metadata": {
    "scrolled": true
   },
   "outputs": [
    {
     "data": {
      "text/plain": [
       "Index(['scoutId', 'regio1', 'baseRent', 'totalRent', 'pricetrend',\n",
       "       'livingSpace', 'plz', 'picturecount', 'newlyConst', 'yearConstructed',\n",
       "       'firingTypes', 'heatingType', 'hasKitchen', 'cellar', 'condition',\n",
       "       'street', 'lift', 'typeOfFlat', 'noRooms', 'floor', 'balcony', 'garden',\n",
       "       'baseRentRange', 'noRoomsRange', 'livingSpaceRange',\n",
       "       'yearConstructedRange', 'regio2', 'regio3', 'description', 'date',\n",
       "       'population', 'populationTrend', 'popTrendCat', 'surfaceArea',\n",
       "       'populationDensity', 'space/person', 'people/apt'],\n",
       "      dtype='object')"
      ]
     },
     "execution_count": 5,
     "metadata": {},
     "output_type": "execute_result"
    }
   ],
   "source": [
    "df.columns"
   ]
  },
  {
   "cell_type": "code",
   "execution_count": 7,
   "metadata": {
    "scrolled": true
   },
   "outputs": [
    {
     "data": {
      "text/html": [
       "<div>\n",
       "<style scoped>\n",
       "    .dataframe tbody tr th:only-of-type {\n",
       "        vertical-align: middle;\n",
       "    }\n",
       "\n",
       "    .dataframe tbody tr th {\n",
       "        vertical-align: top;\n",
       "    }\n",
       "\n",
       "    .dataframe thead th {\n",
       "        text-align: right;\n",
       "    }\n",
       "</style>\n",
       "<table border=\"1\" class=\"dataframe\">\n",
       "  <thead>\n",
       "    <tr style=\"text-align: right;\">\n",
       "      <th></th>\n",
       "      <th>scoutId</th>\n",
       "      <th>regio1</th>\n",
       "      <th>baseRent</th>\n",
       "      <th>totalRent</th>\n",
       "      <th>pricetrend</th>\n",
       "      <th>livingSpace</th>\n",
       "      <th>plz</th>\n",
       "      <th>picturecount</th>\n",
       "      <th>newlyConst</th>\n",
       "      <th>yearConstructed</th>\n",
       "      <th>...</th>\n",
       "      <th>description</th>\n",
       "      <th>date</th>\n",
       "      <th>population</th>\n",
       "      <th>populationTrend</th>\n",
       "      <th>popTrendCat</th>\n",
       "      <th>surfaceArea</th>\n",
       "      <th>populationDensity</th>\n",
       "      <th>space/person</th>\n",
       "      <th>people/apt</th>\n",
       "      <th>price/unit</th>\n",
       "    </tr>\n",
       "  </thead>\n",
       "  <tbody>\n",
       "    <tr>\n",
       "      <th>0</th>\n",
       "      <td>96107057</td>\n",
       "      <td>Nordrhein_Westfalen</td>\n",
       "      <td>595.00</td>\n",
       "      <td>840.00</td>\n",
       "      <td>4.62</td>\n",
       "      <td>86.00</td>\n",
       "      <td>44269</td>\n",
       "      <td>6</td>\n",
       "      <td>False</td>\n",
       "      <td>1965.0</td>\n",
       "      <td>...</td>\n",
       "      <td>Die ebenerdig zu erreichende Erdgeschosswohnun...</td>\n",
       "      <td>2019-05-10</td>\n",
       "      <td>17935147</td>\n",
       "      <td>-0.02</td>\n",
       "      <td>stable</td>\n",
       "      <td>34098</td>\n",
       "      <td>526</td>\n",
       "      <td>41.41</td>\n",
       "      <td>2.12</td>\n",
       "      <td>9.767442</td>\n",
       "    </tr>\n",
       "    <tr>\n",
       "      <th>1</th>\n",
       "      <td>91383597</td>\n",
       "      <td>Nordrhein_Westfalen</td>\n",
       "      <td>300.00</td>\n",
       "      <td>NaN</td>\n",
       "      <td>1.92</td>\n",
       "      <td>60.00</td>\n",
       "      <td>45888</td>\n",
       "      <td>7</td>\n",
       "      <td>False</td>\n",
       "      <td>1953.0</td>\n",
       "      <td>...</td>\n",
       "      <td>Sie sind auf der Suche nach einer gepflegten u...</td>\n",
       "      <td>2019-10-08</td>\n",
       "      <td>17935147</td>\n",
       "      <td>-0.02</td>\n",
       "      <td>stable</td>\n",
       "      <td>34098</td>\n",
       "      <td>526</td>\n",
       "      <td>41.41</td>\n",
       "      <td>2.12</td>\n",
       "      <td>NaN</td>\n",
       "    </tr>\n",
       "    <tr>\n",
       "      <th>2</th>\n",
       "      <td>101730329</td>\n",
       "      <td>Nordrhein_Westfalen</td>\n",
       "      <td>950.00</td>\n",
       "      <td>1150.00</td>\n",
       "      <td>3.45</td>\n",
       "      <td>123.44</td>\n",
       "      <td>59065</td>\n",
       "      <td>3</td>\n",
       "      <td>False</td>\n",
       "      <td>1951.0</td>\n",
       "      <td>...</td>\n",
       "      <td>Die angebotene Wohnfläche befindet sich im dri...</td>\n",
       "      <td>2019-10-08</td>\n",
       "      <td>17935147</td>\n",
       "      <td>-0.02</td>\n",
       "      <td>stable</td>\n",
       "      <td>34098</td>\n",
       "      <td>526</td>\n",
       "      <td>41.41</td>\n",
       "      <td>2.12</td>\n",
       "      <td>9.316267</td>\n",
       "    </tr>\n",
       "    <tr>\n",
       "      <th>3</th>\n",
       "      <td>92798563</td>\n",
       "      <td>Nordrhein_Westfalen</td>\n",
       "      <td>972.60</td>\n",
       "      <td>1320.65</td>\n",
       "      <td>3.76</td>\n",
       "      <td>87.00</td>\n",
       "      <td>44229</td>\n",
       "      <td>12</td>\n",
       "      <td>True</td>\n",
       "      <td>2018.0</td>\n",
       "      <td>...</td>\n",
       "      <td>Der attraktive Neubau mit 10 Wohnungen liegt i...</td>\n",
       "      <td>2019-05-10</td>\n",
       "      <td>17935147</td>\n",
       "      <td>-0.02</td>\n",
       "      <td>stable</td>\n",
       "      <td>34098</td>\n",
       "      <td>526</td>\n",
       "      <td>41.41</td>\n",
       "      <td>2.12</td>\n",
       "      <td>15.179885</td>\n",
       "    </tr>\n",
       "    <tr>\n",
       "      <th>4</th>\n",
       "      <td>111227157</td>\n",
       "      <td>Nordrhein_Westfalen</td>\n",
       "      <td>329.00</td>\n",
       "      <td>NaN</td>\n",
       "      <td>3.12</td>\n",
       "      <td>65.00</td>\n",
       "      <td>47166</td>\n",
       "      <td>5</td>\n",
       "      <td>False</td>\n",
       "      <td>1914.0</td>\n",
       "      <td>...</td>\n",
       "      <td>Gepflegtes Mehrfamilienhaus in  Duisburg-Oberm...</td>\n",
       "      <td>2019-05-10</td>\n",
       "      <td>17935147</td>\n",
       "      <td>-0.02</td>\n",
       "      <td>stable</td>\n",
       "      <td>34098</td>\n",
       "      <td>526</td>\n",
       "      <td>41.41</td>\n",
       "      <td>2.12</td>\n",
       "      <td>NaN</td>\n",
       "    </tr>\n",
       "    <tr>\n",
       "      <th>5</th>\n",
       "      <td>107002234</td>\n",
       "      <td>Nordrhein_Westfalen</td>\n",
       "      <td>315.18</td>\n",
       "      <td>445.18</td>\n",
       "      <td>3.90</td>\n",
       "      <td>60.00</td>\n",
       "      <td>40699</td>\n",
       "      <td>14</td>\n",
       "      <td>False</td>\n",
       "      <td>1976.0</td>\n",
       "      <td>...</td>\n",
       "      <td>Zur Anmietung dieser Wohnung benötigen Sie zwi...</td>\n",
       "      <td>2018-09-22</td>\n",
       "      <td>17935147</td>\n",
       "      <td>-0.02</td>\n",
       "      <td>stable</td>\n",
       "      <td>34098</td>\n",
       "      <td>526</td>\n",
       "      <td>41.41</td>\n",
       "      <td>2.12</td>\n",
       "      <td>7.419667</td>\n",
       "    </tr>\n",
       "    <tr>\n",
       "      <th>6</th>\n",
       "      <td>113850656</td>\n",
       "      <td>Nordrhein_Westfalen</td>\n",
       "      <td>250.00</td>\n",
       "      <td>350.00</td>\n",
       "      <td>3.80</td>\n",
       "      <td>36.00</td>\n",
       "      <td>51427</td>\n",
       "      <td>5</td>\n",
       "      <td>False</td>\n",
       "      <td>NaN</td>\n",
       "      <td>...</td>\n",
       "      <td>Im Untergeschoß gelegene kleine Wohnung, mit v...</td>\n",
       "      <td>2019-10-08</td>\n",
       "      <td>17935147</td>\n",
       "      <td>-0.02</td>\n",
       "      <td>stable</td>\n",
       "      <td>34098</td>\n",
       "      <td>526</td>\n",
       "      <td>41.41</td>\n",
       "      <td>2.12</td>\n",
       "      <td>9.722222</td>\n",
       "    </tr>\n",
       "    <tr>\n",
       "      <th>7</th>\n",
       "      <td>113061748</td>\n",
       "      <td>Nordrhein_Westfalen</td>\n",
       "      <td>400.00</td>\n",
       "      <td>570.00</td>\n",
       "      <td>3.13</td>\n",
       "      <td>70.00</td>\n",
       "      <td>45329</td>\n",
       "      <td>6</td>\n",
       "      <td>False</td>\n",
       "      <td>NaN</td>\n",
       "      <td>...</td>\n",
       "      <td>Nachmieter für eine gepflegte 3,5-Raum-Wohnung...</td>\n",
       "      <td>2019-10-08</td>\n",
       "      <td>17935147</td>\n",
       "      <td>-0.02</td>\n",
       "      <td>stable</td>\n",
       "      <td>34098</td>\n",
       "      <td>526</td>\n",
       "      <td>41.41</td>\n",
       "      <td>2.12</td>\n",
       "      <td>8.142857</td>\n",
       "    </tr>\n",
       "    <tr>\n",
       "      <th>8</th>\n",
       "      <td>102534814</td>\n",
       "      <td>Nordrhein_Westfalen</td>\n",
       "      <td>553.98</td>\n",
       "      <td>753.98</td>\n",
       "      <td>3.70</td>\n",
       "      <td>87.33</td>\n",
       "      <td>59759</td>\n",
       "      <td>8</td>\n",
       "      <td>False</td>\n",
       "      <td>1994.0</td>\n",
       "      <td>...</td>\n",
       "      <td>Großzügiger Wohn/Essbereich (29,27 qm),weiße E...</td>\n",
       "      <td>2019-10-08</td>\n",
       "      <td>17935147</td>\n",
       "      <td>-0.02</td>\n",
       "      <td>stable</td>\n",
       "      <td>34098</td>\n",
       "      <td>526</td>\n",
       "      <td>41.41</td>\n",
       "      <td>2.12</td>\n",
       "      <td>8.633688</td>\n",
       "    </tr>\n",
       "    <tr>\n",
       "      <th>9</th>\n",
       "      <td>114832896</td>\n",
       "      <td>Nordrhein_Westfalen</td>\n",
       "      <td>400.00</td>\n",
       "      <td>NaN</td>\n",
       "      <td>3.03</td>\n",
       "      <td>65.00</td>\n",
       "      <td>59425</td>\n",
       "      <td>10</td>\n",
       "      <td>False</td>\n",
       "      <td>1975.0</td>\n",
       "      <td>...</td>\n",
       "      <td>Diese große Dachgeschosswohnung befindet sich ...</td>\n",
       "      <td>2020-02-01</td>\n",
       "      <td>17935147</td>\n",
       "      <td>-0.02</td>\n",
       "      <td>stable</td>\n",
       "      <td>34098</td>\n",
       "      <td>526</td>\n",
       "      <td>41.41</td>\n",
       "      <td>2.12</td>\n",
       "      <td>NaN</td>\n",
       "    </tr>\n",
       "    <tr>\n",
       "      <th>10</th>\n",
       "      <td>114894763</td>\n",
       "      <td>Nordrhein_Westfalen</td>\n",
       "      <td>396.80</td>\n",
       "      <td>493.80</td>\n",
       "      <td>4.10</td>\n",
       "      <td>62.00</td>\n",
       "      <td>44137</td>\n",
       "      <td>0</td>\n",
       "      <td>False</td>\n",
       "      <td>1958.0</td>\n",
       "      <td>...</td>\n",
       "      <td>Wohnraum, Schlafraum, Küche, Diele und Bad</td>\n",
       "      <td>2020-02-01</td>\n",
       "      <td>17935147</td>\n",
       "      <td>-0.02</td>\n",
       "      <td>stable</td>\n",
       "      <td>34098</td>\n",
       "      <td>526</td>\n",
       "      <td>41.41</td>\n",
       "      <td>2.12</td>\n",
       "      <td>7.964516</td>\n",
       "    </tr>\n",
       "    <tr>\n",
       "      <th>11</th>\n",
       "      <td>110723519</td>\n",
       "      <td>Nordrhein_Westfalen</td>\n",
       "      <td>375.00</td>\n",
       "      <td>465.00</td>\n",
       "      <td>4.69</td>\n",
       "      <td>55.64</td>\n",
       "      <td>42119</td>\n",
       "      <td>4</td>\n",
       "      <td>False</td>\n",
       "      <td>1950.0</td>\n",
       "      <td>...</td>\n",
       "      <td>Das Mehrfamilienhaus ist in einem gepflegten Z...</td>\n",
       "      <td>2019-05-10</td>\n",
       "      <td>17935147</td>\n",
       "      <td>-0.02</td>\n",
       "      <td>stable</td>\n",
       "      <td>34098</td>\n",
       "      <td>526</td>\n",
       "      <td>41.41</td>\n",
       "      <td>2.12</td>\n",
       "      <td>8.357297</td>\n",
       "    </tr>\n",
       "    <tr>\n",
       "      <th>12</th>\n",
       "      <td>114557181</td>\n",
       "      <td>Nordrhein_Westfalen</td>\n",
       "      <td>450.00</td>\n",
       "      <td>540.00</td>\n",
       "      <td>3.29</td>\n",
       "      <td>90.00</td>\n",
       "      <td>34431</td>\n",
       "      <td>12</td>\n",
       "      <td>False</td>\n",
       "      <td>NaN</td>\n",
       "      <td>...</td>\n",
       "      <td>Sehr schöne Dachgeschosswohnung mit Balkon. Di...</td>\n",
       "      <td>2020-02-01</td>\n",
       "      <td>17935147</td>\n",
       "      <td>-0.02</td>\n",
       "      <td>stable</td>\n",
       "      <td>34098</td>\n",
       "      <td>526</td>\n",
       "      <td>41.41</td>\n",
       "      <td>2.12</td>\n",
       "      <td>6.000000</td>\n",
       "    </tr>\n",
       "    <tr>\n",
       "      <th>13</th>\n",
       "      <td>85193798</td>\n",
       "      <td>Nordrhein_Westfalen</td>\n",
       "      <td>465.00</td>\n",
       "      <td>NaN</td>\n",
       "      <td>1.56</td>\n",
       "      <td>61.00</td>\n",
       "      <td>41748</td>\n",
       "      <td>10</td>\n",
       "      <td>False</td>\n",
       "      <td>1999.0</td>\n",
       "      <td>...</td>\n",
       "      <td>Sie suchen ein anspruchsvolles Ambiente, in ei...</td>\n",
       "      <td>2020-02-01</td>\n",
       "      <td>17935147</td>\n",
       "      <td>-0.02</td>\n",
       "      <td>stable</td>\n",
       "      <td>34098</td>\n",
       "      <td>526</td>\n",
       "      <td>41.41</td>\n",
       "      <td>2.12</td>\n",
       "      <td>NaN</td>\n",
       "    </tr>\n",
       "    <tr>\n",
       "      <th>14</th>\n",
       "      <td>110946767</td>\n",
       "      <td>Nordrhein_Westfalen</td>\n",
       "      <td>1030.00</td>\n",
       "      <td>1323.00</td>\n",
       "      <td>4.84</td>\n",
       "      <td>100.59</td>\n",
       "      <td>40472</td>\n",
       "      <td>13</td>\n",
       "      <td>True</td>\n",
       "      <td>2019.0</td>\n",
       "      <td>...</td>\n",
       "      <td>Im Herzen des Düsseldorfer Stadtteils Rath ent...</td>\n",
       "      <td>2019-05-10</td>\n",
       "      <td>17935147</td>\n",
       "      <td>-0.02</td>\n",
       "      <td>stable</td>\n",
       "      <td>34098</td>\n",
       "      <td>526</td>\n",
       "      <td>41.41</td>\n",
       "      <td>2.12</td>\n",
       "      <td>13.152401</td>\n",
       "    </tr>\n",
       "    <tr>\n",
       "      <th>15</th>\n",
       "      <td>111147935</td>\n",
       "      <td>Nordrhein_Westfalen</td>\n",
       "      <td>335.00</td>\n",
       "      <td>NaN</td>\n",
       "      <td>2.50</td>\n",
       "      <td>62.99</td>\n",
       "      <td>47228</td>\n",
       "      <td>2</td>\n",
       "      <td>False</td>\n",
       "      <td>1972.0</td>\n",
       "      <td>...</td>\n",
       "      <td>Die ca. 62,99m²- Wohnfläche verteilen sich auf...</td>\n",
       "      <td>2019-05-10</td>\n",
       "      <td>17935147</td>\n",
       "      <td>-0.02</td>\n",
       "      <td>stable</td>\n",
       "      <td>34098</td>\n",
       "      <td>526</td>\n",
       "      <td>41.41</td>\n",
       "      <td>2.12</td>\n",
       "      <td>NaN</td>\n",
       "    </tr>\n",
       "    <tr>\n",
       "      <th>16</th>\n",
       "      <td>89425153</td>\n",
       "      <td>Nordrhein_Westfalen</td>\n",
       "      <td>500.00</td>\n",
       "      <td>650.00</td>\n",
       "      <td>3.90</td>\n",
       "      <td>50.00</td>\n",
       "      <td>50354</td>\n",
       "      <td>17</td>\n",
       "      <td>False</td>\n",
       "      <td>NaN</td>\n",
       "      <td>...</td>\n",
       "      <td>Nur an Einzelperson. Keine Hunde, keine Rauche...</td>\n",
       "      <td>2019-10-08</td>\n",
       "      <td>17935147</td>\n",
       "      <td>-0.02</td>\n",
       "      <td>stable</td>\n",
       "      <td>34098</td>\n",
       "      <td>526</td>\n",
       "      <td>41.41</td>\n",
       "      <td>2.12</td>\n",
       "      <td>13.000000</td>\n",
       "    </tr>\n",
       "    <tr>\n",
       "      <th>17</th>\n",
       "      <td>57436467</td>\n",
       "      <td>Nordrhein_Westfalen</td>\n",
       "      <td>680.00</td>\n",
       "      <td>930.00</td>\n",
       "      <td>2.78</td>\n",
       "      <td>103.00</td>\n",
       "      <td>45468</td>\n",
       "      <td>11</td>\n",
       "      <td>False</td>\n",
       "      <td>1905.0</td>\n",
       "      <td>...</td>\n",
       "      <td>Großzügig geschnittene Maisonettewohnung in ei...</td>\n",
       "      <td>2019-05-10</td>\n",
       "      <td>17935147</td>\n",
       "      <td>-0.02</td>\n",
       "      <td>stable</td>\n",
       "      <td>34098</td>\n",
       "      <td>526</td>\n",
       "      <td>41.41</td>\n",
       "      <td>2.12</td>\n",
       "      <td>9.029126</td>\n",
       "    </tr>\n",
       "    <tr>\n",
       "      <th>18</th>\n",
       "      <td>103502361</td>\n",
       "      <td>Nordrhein_Westfalen</td>\n",
       "      <td>300.00</td>\n",
       "      <td>480.00</td>\n",
       "      <td>3.17</td>\n",
       "      <td>51.00</td>\n",
       "      <td>52249</td>\n",
       "      <td>1</td>\n",
       "      <td>False</td>\n",
       "      <td>1970.0</td>\n",
       "      <td>...</td>\n",
       "      <td>Objektadresse: Am Schlemmerich 9, \\n52249 Esch...</td>\n",
       "      <td>2018-09-22</td>\n",
       "      <td>17935147</td>\n",
       "      <td>-0.02</td>\n",
       "      <td>stable</td>\n",
       "      <td>34098</td>\n",
       "      <td>526</td>\n",
       "      <td>41.41</td>\n",
       "      <td>2.12</td>\n",
       "      <td>9.411765</td>\n",
       "    </tr>\n",
       "    <tr>\n",
       "      <th>19</th>\n",
       "      <td>111246477</td>\n",
       "      <td>Nordrhein_Westfalen</td>\n",
       "      <td>690.00</td>\n",
       "      <td>NaN</td>\n",
       "      <td>4.36</td>\n",
       "      <td>82.00</td>\n",
       "      <td>52511</td>\n",
       "      <td>17</td>\n",
       "      <td>True</td>\n",
       "      <td>2018.0</td>\n",
       "      <td>...</td>\n",
       "      <td>In einer ruhigen Anliegerstraße/Sackgasse von ...</td>\n",
       "      <td>2019-05-10</td>\n",
       "      <td>17935147</td>\n",
       "      <td>-0.02</td>\n",
       "      <td>stable</td>\n",
       "      <td>34098</td>\n",
       "      <td>526</td>\n",
       "      <td>41.41</td>\n",
       "      <td>2.12</td>\n",
       "      <td>NaN</td>\n",
       "    </tr>\n",
       "  </tbody>\n",
       "</table>\n",
       "<p>20 rows × 38 columns</p>\n",
       "</div>"
      ],
      "text/plain": [
       "      scoutId               regio1  baseRent  totalRent  pricetrend  \\\n",
       "0    96107057  Nordrhein_Westfalen    595.00     840.00        4.62   \n",
       "1    91383597  Nordrhein_Westfalen    300.00        NaN        1.92   \n",
       "2   101730329  Nordrhein_Westfalen    950.00    1150.00        3.45   \n",
       "3    92798563  Nordrhein_Westfalen    972.60    1320.65        3.76   \n",
       "4   111227157  Nordrhein_Westfalen    329.00        NaN        3.12   \n",
       "5   107002234  Nordrhein_Westfalen    315.18     445.18        3.90   \n",
       "6   113850656  Nordrhein_Westfalen    250.00     350.00        3.80   \n",
       "7   113061748  Nordrhein_Westfalen    400.00     570.00        3.13   \n",
       "8   102534814  Nordrhein_Westfalen    553.98     753.98        3.70   \n",
       "9   114832896  Nordrhein_Westfalen    400.00        NaN        3.03   \n",
       "10  114894763  Nordrhein_Westfalen    396.80     493.80        4.10   \n",
       "11  110723519  Nordrhein_Westfalen    375.00     465.00        4.69   \n",
       "12  114557181  Nordrhein_Westfalen    450.00     540.00        3.29   \n",
       "13   85193798  Nordrhein_Westfalen    465.00        NaN        1.56   \n",
       "14  110946767  Nordrhein_Westfalen   1030.00    1323.00        4.84   \n",
       "15  111147935  Nordrhein_Westfalen    335.00        NaN        2.50   \n",
       "16   89425153  Nordrhein_Westfalen    500.00     650.00        3.90   \n",
       "17   57436467  Nordrhein_Westfalen    680.00     930.00        2.78   \n",
       "18  103502361  Nordrhein_Westfalen    300.00     480.00        3.17   \n",
       "19  111246477  Nordrhein_Westfalen    690.00        NaN        4.36   \n",
       "\n",
       "    livingSpace    plz  picturecount  newlyConst  yearConstructed  ...  \\\n",
       "0         86.00  44269             6       False           1965.0  ...   \n",
       "1         60.00  45888             7       False           1953.0  ...   \n",
       "2        123.44  59065             3       False           1951.0  ...   \n",
       "3         87.00  44229            12        True           2018.0  ...   \n",
       "4         65.00  47166             5       False           1914.0  ...   \n",
       "5         60.00  40699            14       False           1976.0  ...   \n",
       "6         36.00  51427             5       False              NaN  ...   \n",
       "7         70.00  45329             6       False              NaN  ...   \n",
       "8         87.33  59759             8       False           1994.0  ...   \n",
       "9         65.00  59425            10       False           1975.0  ...   \n",
       "10        62.00  44137             0       False           1958.0  ...   \n",
       "11        55.64  42119             4       False           1950.0  ...   \n",
       "12        90.00  34431            12       False              NaN  ...   \n",
       "13        61.00  41748            10       False           1999.0  ...   \n",
       "14       100.59  40472            13        True           2019.0  ...   \n",
       "15        62.99  47228             2       False           1972.0  ...   \n",
       "16        50.00  50354            17       False              NaN  ...   \n",
       "17       103.00  45468            11       False           1905.0  ...   \n",
       "18        51.00  52249             1       False           1970.0  ...   \n",
       "19        82.00  52511            17        True           2018.0  ...   \n",
       "\n",
       "                                          description        date  population  \\\n",
       "0   Die ebenerdig zu erreichende Erdgeschosswohnun...  2019-05-10    17935147   \n",
       "1   Sie sind auf der Suche nach einer gepflegten u...  2019-10-08    17935147   \n",
       "2   Die angebotene Wohnfläche befindet sich im dri...  2019-10-08    17935147   \n",
       "3   Der attraktive Neubau mit 10 Wohnungen liegt i...  2019-05-10    17935147   \n",
       "4   Gepflegtes Mehrfamilienhaus in  Duisburg-Oberm...  2019-05-10    17935147   \n",
       "5   Zur Anmietung dieser Wohnung benötigen Sie zwi...  2018-09-22    17935147   \n",
       "6   Im Untergeschoß gelegene kleine Wohnung, mit v...  2019-10-08    17935147   \n",
       "7   Nachmieter für eine gepflegte 3,5-Raum-Wohnung...  2019-10-08    17935147   \n",
       "8   Großzügiger Wohn/Essbereich (29,27 qm),weiße E...  2019-10-08    17935147   \n",
       "9   Diese große Dachgeschosswohnung befindet sich ...  2020-02-01    17935147   \n",
       "10         Wohnraum, Schlafraum, Küche, Diele und Bad  2020-02-01    17935147   \n",
       "11  Das Mehrfamilienhaus ist in einem gepflegten Z...  2019-05-10    17935147   \n",
       "12  Sehr schöne Dachgeschosswohnung mit Balkon. Di...  2020-02-01    17935147   \n",
       "13  Sie suchen ein anspruchsvolles Ambiente, in ei...  2020-02-01    17935147   \n",
       "14  Im Herzen des Düsseldorfer Stadtteils Rath ent...  2019-05-10    17935147   \n",
       "15  Die ca. 62,99m²- Wohnfläche verteilen sich auf...  2019-05-10    17935147   \n",
       "16  Nur an Einzelperson. Keine Hunde, keine Rauche...  2019-10-08    17935147   \n",
       "17  Großzügig geschnittene Maisonettewohnung in ei...  2019-05-10    17935147   \n",
       "18  Objektadresse: Am Schlemmerich 9, \\n52249 Esch...  2018-09-22    17935147   \n",
       "19  In einer ruhigen Anliegerstraße/Sackgasse von ...  2019-05-10    17935147   \n",
       "\n",
       "    populationTrend popTrendCat surfaceArea  populationDensity space/person  \\\n",
       "0             -0.02      stable       34098                526        41.41   \n",
       "1             -0.02      stable       34098                526        41.41   \n",
       "2             -0.02      stable       34098                526        41.41   \n",
       "3             -0.02      stable       34098                526        41.41   \n",
       "4             -0.02      stable       34098                526        41.41   \n",
       "5             -0.02      stable       34098                526        41.41   \n",
       "6             -0.02      stable       34098                526        41.41   \n",
       "7             -0.02      stable       34098                526        41.41   \n",
       "8             -0.02      stable       34098                526        41.41   \n",
       "9             -0.02      stable       34098                526        41.41   \n",
       "10            -0.02      stable       34098                526        41.41   \n",
       "11            -0.02      stable       34098                526        41.41   \n",
       "12            -0.02      stable       34098                526        41.41   \n",
       "13            -0.02      stable       34098                526        41.41   \n",
       "14            -0.02      stable       34098                526        41.41   \n",
       "15            -0.02      stable       34098                526        41.41   \n",
       "16            -0.02      stable       34098                526        41.41   \n",
       "17            -0.02      stable       34098                526        41.41   \n",
       "18            -0.02      stable       34098                526        41.41   \n",
       "19            -0.02      stable       34098                526        41.41   \n",
       "\n",
       "    people/apt  price/unit  \n",
       "0         2.12    9.767442  \n",
       "1         2.12         NaN  \n",
       "2         2.12    9.316267  \n",
       "3         2.12   15.179885  \n",
       "4         2.12         NaN  \n",
       "5         2.12    7.419667  \n",
       "6         2.12    9.722222  \n",
       "7         2.12    8.142857  \n",
       "8         2.12    8.633688  \n",
       "9         2.12         NaN  \n",
       "10        2.12    7.964516  \n",
       "11        2.12    8.357297  \n",
       "12        2.12    6.000000  \n",
       "13        2.12         NaN  \n",
       "14        2.12   13.152401  \n",
       "15        2.12         NaN  \n",
       "16        2.12   13.000000  \n",
       "17        2.12    9.029126  \n",
       "18        2.12    9.411765  \n",
       "19        2.12         NaN  \n",
       "\n",
       "[20 rows x 38 columns]"
      ]
     },
     "execution_count": 7,
     "metadata": {},
     "output_type": "execute_result"
    }
   ],
   "source": [
    "df.head(20)"
   ]
  },
  {
   "cell_type": "code",
   "execution_count": 8,
   "metadata": {
    "scrolled": true
   },
   "outputs": [
    {
     "data": {
      "text/plain": [
       "(268772, 38)"
      ]
     },
     "execution_count": 8,
     "metadata": {},
     "output_type": "execute_result"
    }
   ],
   "source": [
    "df.shape"
   ]
  },
  {
   "cell_type": "code",
   "execution_count": 9,
   "metadata": {},
   "outputs": [],
   "source": [
    "# Create subset with just space and rent\n",
    "rent_space = df[['livingSpace', 'totalRent']]"
   ]
  },
  {
   "cell_type": "markdown",
   "metadata": {},
   "source": [
    "##### Missing values"
   ]
  },
  {
   "cell_type": "code",
   "execution_count": 10,
   "metadata": {},
   "outputs": [
    {
     "data": {
      "text/plain": [
       "livingSpace       71\n",
       "totalRent      40549\n",
       "dtype: int64"
      ]
     },
     "execution_count": 10,
     "metadata": {},
     "output_type": "execute_result"
    }
   ],
   "source": [
    "# Check for missing values\n",
    "\n",
    "rent_space.isnull().sum()\n"
   ]
  },
  {
   "cell_type": "code",
   "execution_count": 12,
   "metadata": {},
   "outputs": [],
   "source": [
    "# drop blank values \n",
    "rent_space_trim = rent_space.dropna(inplace=False)"
   ]
  },
  {
   "cell_type": "code",
   "execution_count": 13,
   "metadata": {},
   "outputs": [
    {
     "data": {
      "text/plain": [
       "livingSpace    0\n",
       "totalRent      0\n",
       "dtype: int64"
      ]
     },
     "execution_count": 13,
     "metadata": {},
     "output_type": "execute_result"
    }
   ],
   "source": [
    "rent_space_trim.isnull().sum()"
   ]
  },
  {
   "cell_type": "markdown",
   "metadata": {},
   "source": [
    "##### Duplicates check"
   ]
  },
  {
   "cell_type": "code",
   "execution_count": 14,
   "metadata": {},
   "outputs": [],
   "source": [
    "dups = rent_space_trim.duplicated()"
   ]
  },
  {
   "cell_type": "code",
   "execution_count": 15,
   "metadata": {},
   "outputs": [
    {
     "data": {
      "text/plain": [
       "(228169,)"
      ]
     },
     "execution_count": 15,
     "metadata": {},
     "output_type": "execute_result"
    }
   ],
   "source": [
    "dups.shape # No dups"
   ]
  },
  {
   "cell_type": "markdown",
   "metadata": {},
   "source": [
    "##### Extreme values checks"
   ]
  },
  {
   "cell_type": "code",
   "execution_count": 16,
   "metadata": {
    "scrolled": false
   },
   "outputs": [
    {
     "name": "stderr",
     "output_type": "stream",
     "text": [
      "C:\\Users\\jacym\\AppData\\Local\\Temp\\ipykernel_72304\\4015888678.py:1: UserWarning: \n",
      "\n",
      "`distplot` is a deprecated function and will be removed in seaborn v0.14.0.\n",
      "\n",
      "Please adapt your code to use either `displot` (a figure-level function with\n",
      "similar flexibility) or `histplot` (an axes-level function for histograms).\n",
      "\n",
      "For a guide to updating your code to use the new functions, please see\n",
      "https://gist.github.com/mwaskom/de44147ed2974457ad6372750bbe5751\n",
      "\n",
      "  sns.distplot(rent_space_trim['totalRent'], bins=25) # Shows extreme values\n"
     ]
    },
    {
     "data": {
      "text/plain": [
       "<Axes: xlabel='totalRent', ylabel='Density'>"
      ]
     },
     "execution_count": 16,
     "metadata": {},
     "output_type": "execute_result"
    },
    {
     "data": {
      "image/png": "[encoded data removed]",
      "text/plain": [
       "<Figure size 640x480 with 1 Axes>"
      ]
     },
     "metadata": {},
     "output_type": "display_data"
    }
   ],
   "source": [
    "sns.distplot(rent_space_trim['totalRent'], bins=25) # Shows extreme values\n",
    "\n",
    "# Some of the outliers in the high values may need to be removed, but let's try without doing so first."
   ]
  },
  {
   "cell_type": "code",
   "execution_count": 17,
   "metadata": {},
   "outputs": [
    {
     "data": {
      "text/plain": [
       "814.7876570875098"
      ]
     },
     "execution_count": 17,
     "metadata": {},
     "output_type": "execute_result"
    }
   ],
   "source": [
    "rent_space_trim['totalRent'].mean() # Check the mean"
   ]
  },
  {
   "cell_type": "code",
   "execution_count": 18,
   "metadata": {},
   "outputs": [
    {
     "data": {
      "text/plain": [
       "650.0"
      ]
     },
     "execution_count": 18,
     "metadata": {},
     "output_type": "execute_result"
    }
   ],
   "source": [
    "rent_space_trim['totalRent'].median() # Check the median"
   ]
  },
  {
   "cell_type": "code",
   "execution_count": 19,
   "metadata": {},
   "outputs": [
    {
     "data": {
      "text/plain": [
       "26500.0"
      ]
     },
     "execution_count": 19,
     "metadata": {},
     "output_type": "execute_result"
    }
   ],
   "source": [
    "rent_space_trim['totalRent'].max() # Check the max"
   ]
  },
  {
   "cell_type": "markdown",
   "metadata": {},
   "source": [
    "### 3. Data prep for regression analysis "
   ]
  },
  {
   "cell_type": "code",
   "execution_count": 20,
   "metadata": {
    "scrolled": true
   },
   "outputs": [
    {
     "data": {
      "image/png": "[encoded data removed]",
      "text/plain": [
       "<Figure size 640x480 with 1 Axes>"
      ]
     },
     "metadata": {},
     "output_type": "display_data"
    }
   ],
   "source": [
    "# Create a scatterplot using matplotlib for another look at how the chosen variables plot against each other.\n",
    "\n",
    "rent_space_trim.plot(x = 'livingSpace', y='totalRent',style='o') # The style option creates a scatterplot; without it, we only have lines.\n",
    "plt.title('Living Space vs Total Rent')  \n",
    "plt.xlabel('livingSpace')  \n",
    "plt.ylabel('totalRent')  \n",
    "plt.show()"
   ]
  },
  {
   "cell_type": "markdown",
   "metadata": {},
   "source": [
    "Hypothesis: I predict a moderate, positive relationship between living space and total rent, i.e. that rent will tend to increase when the living space increases."
   ]
  },
  {
   "cell_type": "code",
   "execution_count": 21,
   "metadata": {},
   "outputs": [],
   "source": [
    "# Reshape the variables into NumPy arrays and put them into separate objects.\n",
    "\n",
    "X = rent_space_trim['livingSpace'].values.reshape(-1,1)\n",
    "y = rent_space_trim['totalRent'].values.reshape(-1,1)"
   ]
  },
  {
   "cell_type": "code",
   "execution_count": 22,
   "metadata": {},
   "outputs": [
    {
     "data": {
      "text/plain": [
       "array([[ 86.  ],\n",
       "       [123.44],\n",
       "       [ 87.  ],\n",
       "       ...,\n",
       "       [ 78.55],\n",
       "       [ 70.  ],\n",
       "       [ 44.  ]])"
      ]
     },
     "execution_count": 22,
     "metadata": {},
     "output_type": "execute_result"
    }
   ],
   "source": [
    "X"
   ]
  },
  {
   "cell_type": "code",
   "execution_count": 23,
   "metadata": {},
   "outputs": [
    {
     "data": {
      "text/plain": [
       "array([[ 840.  ],\n",
       "       [1150.  ],\n",
       "       [1320.65],\n",
       "       ...,\n",
       "       [ 910.  ],\n",
       "       [ 610.  ],\n",
       "       [ 450.  ]])"
      ]
     },
     "execution_count": 23,
     "metadata": {},
     "output_type": "execute_result"
    }
   ],
   "source": [
    "y"
   ]
  },
  {
   "cell_type": "code",
   "execution_count": 24,
   "metadata": {
    "scrolled": true
   },
   "outputs": [],
   "source": [
    "# Split data into a training set and a test set.\n",
    "\n",
    "X_train, X_test, y_train, y_test = train_test_split(X, y, test_size=0.3, random_state=0)"
   ]
  },
  {
   "cell_type": "markdown",
   "metadata": {},
   "source": [
    "### 4. Regression analysis"
   ]
  },
  {
   "cell_type": "code",
   "execution_count": 25,
   "metadata": {},
   "outputs": [],
   "source": [
    "# Create a regression object.\n",
    "\n",
    "regression = LinearRegression()  # This is the regression object, which will be fit onto the training set."
   ]
  },
  {
   "cell_type": "code",
   "execution_count": 26,
   "metadata": {},
   "outputs": [
    {
     "data": {
      "text/html": [
       "<style>#sk-container-id-1 {color: black;background-color: white;}#sk-container-id-1 pre{padding: 0;}#sk-container-id-1 div.sk-toggleable {background-color: white;}#sk-container-id-1 label.sk-toggleable__label {cursor: pointer;display: block;width: 100%;margin-bottom: 0;padding: 0.3em;box-sizing: border-box;text-align: center;}#sk-container-id-1 label.sk-toggleable__label-arrow:before {content: \"▸\";float: left;margin-right: 0.25em;color: #696969;}#sk-container-id-1 label.sk-toggleable__label-arrow:hover:before {color: black;}#sk-container-id-1 div.sk-estimator:hover label.sk-toggleable__label-arrow:before {color: black;}#sk-container-id-1 div.sk-toggleable__content {max-height: 0;max-width: 0;overflow: hidden;text-align: left;background-color: #f0f8ff;}#sk-container-id-1 div.sk-toggleable__content pre {margin: 0.2em;color: black;border-radius: 0.25em;background-color: #f0f8ff;}#sk-container-id-1 input.sk-toggleable__control:checked~div.sk-toggleable__content {max-height: 200px;max-width: 100%;overflow: auto;}#sk-container-id-1 input.sk-toggleable__control:checked~label.sk-toggleable__label-arrow:before {content: \"▾\";}#sk-container-id-1 div.sk-estimator input.sk-toggleable__control:checked~label.sk-toggleable__label {background-color: #d4ebff;}#sk-container-id-1 div.sk-label input.sk-toggleable__control:checked~label.sk-toggleable__label {background-color: #d4ebff;}#sk-container-id-1 input.sk-hidden--visually {border: 0;clip: rect(1px 1px 1px 1px);clip: rect(1px, 1px, 1px, 1px);height: 1px;margin: -1px;overflow: hidden;padding: 0;position: absolute;width: 1px;}#sk-container-id-1 div.sk-estimator {font-family: monospace;background-color: #f0f8ff;border: 1px dotted black;border-radius: 0.25em;box-sizing: border-box;margin-bottom: 0.5em;}#sk-container-id-1 div.sk-estimator:hover {background-color: #d4ebff;}#sk-container-id-1 div.sk-parallel-item::after {content: \"\";width: 100%;border-bottom: 1px solid gray;flex-grow: 1;}#sk-container-id-1 div.sk-label:hover label.sk-toggleable__label {background-color: #d4ebff;}#sk-container-id-1 div.sk-serial::before {content: \"\";position: absolute;border-left: 1px solid gray;box-sizing: border-box;top: 0;bottom: 0;left: 50%;z-index: 0;}#sk-container-id-1 div.sk-serial {display: flex;flex-direction: column;align-items: center;background-color: white;padding-right: 0.2em;padding-left: 0.2em;position: relative;}#sk-container-id-1 div.sk-item {position: relative;z-index: 1;}#sk-container-id-1 div.sk-parallel {display: flex;align-items: stretch;justify-content: center;background-color: white;position: relative;}#sk-container-id-1 div.sk-item::before, #sk-container-id-1 div.sk-parallel-item::before {content: \"\";position: absolute;border-left: 1px solid gray;box-sizing: border-box;top: 0;bottom: 0;left: 50%;z-index: -1;}#sk-container-id-1 div.sk-parallel-item {display: flex;flex-direction: column;z-index: 1;position: relative;background-color: white;}#sk-container-id-1 div.sk-parallel-item:first-child::after {align-self: flex-end;width: 50%;}#sk-container-id-1 div.sk-parallel-item:last-child::after {align-self: flex-start;width: 50%;}#sk-container-id-1 div.sk-parallel-item:only-child::after {width: 0;}#sk-container-id-1 div.sk-dashed-wrapped {border: 1px dashed gray;margin: 0 0.4em 0.5em 0.4em;box-sizing: border-box;padding-bottom: 0.4em;background-color: white;}#sk-container-id-1 div.sk-label label {font-family: monospace;font-weight: bold;display: inline-block;line-height: 1.2em;}#sk-container-id-1 div.sk-label-container {text-align: center;}#sk-container-id-1 div.sk-container {/* jupyter's `normalize.less` sets `[hidden] { display: none; }` but bootstrap.min.css set `[hidden] { display: none !important; }` so we also need the `!important` here to be able to override the default hidden behavior on the sphinx rendered scikit-learn.org. See: https://github.com/scikit-learn/scikit-learn/issues/21755 */display: inline-block !important;position: relative;}#sk-container-id-1 div.sk-text-repr-fallback {display: none;}</style><div id=\"sk-container-id-1\" class=\"sk-top-container\"><div class=\"sk-text-repr-fallback\"><pre>LinearRegression()</pre><b>In a Jupyter environment, please rerun this cell to show the HTML representation or trust the notebook. <br />On GitHub, the HTML representation is unable to render, please try loading this page with nbviewer.org.</b></div><div class=\"sk-container\" hidden><div class=\"sk-item\"><div class=\"sk-estimator sk-toggleable\"><input class=\"sk-toggleable__control sk-hidden--visually\" id=\"sk-estimator-id-1\" type=\"checkbox\" checked><label for=\"sk-estimator-id-1\" class=\"sk-toggleable__label sk-toggleable__label-arrow\">LinearRegression</label><div class=\"sk-toggleable__content\"><pre>LinearRegression()</pre></div></div></div></div></div>"
      ],
      "text/plain": [
       "LinearRegression()"
      ]
     },
     "execution_count": 26,
     "metadata": {},
     "output_type": "execute_result"
    }
   ],
   "source": [
    "# Fit the regression object onto the training set.\n",
    "\n",
    "regression.fit(X_train, y_train)"
   ]
  },
  {
   "cell_type": "code",
   "execution_count": 27,
   "metadata": {},
   "outputs": [],
   "source": [
    "# Predict the values of y using X.\n",
    "\n",
    "y_predicted = regression.predict(X_test)"
   ]
  },
  {
   "cell_type": "code",
   "execution_count": 28,
   "metadata": {},
   "outputs": [
    {
     "data": {
      "image/png": "[encoded data removed]",
      "text/plain": [
       "<Figure size 640x480 with 1 Axes>"
      ]
     },
     "metadata": {},
     "output_type": "display_data"
    }
   ],
   "source": [
    "# Create a plot that shows the regression line from the model on the test set.\n",
    "\n",
    "plot_test = plt\n",
    "plot_test.scatter(X_test, y_test, color='gray', s = 15)\n",
    "plot_test.plot(X_test, y_predicted, color='red', linewidth =3)\n",
    "plot_test.title('Living Space vs Total Rent (Test set)')\n",
    "plot_test.xlabel('livingSpace')\n",
    "plot_test.ylabel('totalRent')\n",
    "plot_test.show()"
   ]
  },
  {
   "cell_type": "markdown",
   "metadata": {},
   "source": [
    "Observations: The points are generally clustered around the line, but there's so much variability that I don't expect the relationship to be especially strong. There are a lot of factors that influence rent other than apartment size."
   ]
  },
  {
   "cell_type": "code",
   "execution_count": 29,
   "metadata": {},
   "outputs": [],
   "source": [
    "# Create objects that contain the model summary statistics.\n",
    "\n",
    "rmse = mean_squared_error(y_test, y_predicted) # This is the mean squared error\n",
    "r2 = r2_score(y_test, y_predicted) # This is the R2 score. "
   ]
  },
  {
   "cell_type": "code",
   "execution_count": 30,
   "metadata": {},
   "outputs": [
    {
     "name": "stdout",
     "output_type": "stream",
     "text": [
      "Slope: [[13.11876487]]\n",
      "Mean squared error:  153879.14179268343\n",
      "R2 score:  0.5375771876024816\n"
     ]
    }
   ],
   "source": [
    "# Print the model summary statistics. This is where you evaluate the performance of the model.\n",
    "\n",
    "print('Slope:' ,regression.coef_)\n",
    "print('Mean squared error: ', rmse)\n",
    "print('R2 score: ', r2)"
   ]
  },
  {
   "cell_type": "code",
   "execution_count": 31,
   "metadata": {},
   "outputs": [
    {
     "data": {
      "text/plain": [
       "array([[424.0155189 ],\n",
       "       [568.32193251],\n",
       "       [644.54195642],\n",
       "       ...,\n",
       "       [319.06539991],\n",
       "       [659.36616073],\n",
       "       [607.67822713]])"
      ]
     },
     "execution_count": 31,
     "metadata": {},
     "output_type": "execute_result"
    }
   ],
   "source": [
    "y_predicted"
   ]
  },
  {
   "cell_type": "code",
   "execution_count": 32,
   "metadata": {
    "scrolled": true
   },
   "outputs": [
    {
     "data": {
      "text/html": [
       "<div>\n",
       "<style scoped>\n",
       "    .dataframe tbody tr th:only-of-type {\n",
       "        vertical-align: middle;\n",
       "    }\n",
       "\n",
       "    .dataframe tbody tr th {\n",
       "        vertical-align: top;\n",
       "    }\n",
       "\n",
       "    .dataframe thead th {\n",
       "        text-align: right;\n",
       "    }\n",
       "</style>\n",
       "<table border=\"1\" class=\"dataframe\">\n",
       "  <thead>\n",
       "    <tr style=\"text-align: right;\">\n",
       "      <th></th>\n",
       "      <th>Actual</th>\n",
       "      <th>Predicted</th>\n",
       "    </tr>\n",
       "  </thead>\n",
       "  <tbody>\n",
       "    <tr>\n",
       "      <th>0</th>\n",
       "      <td>340.0</td>\n",
       "      <td>424.015519</td>\n",
       "    </tr>\n",
       "    <tr>\n",
       "      <th>1</th>\n",
       "      <td>450.0</td>\n",
       "      <td>568.321933</td>\n",
       "    </tr>\n",
       "    <tr>\n",
       "      <th>2</th>\n",
       "      <td>440.0</td>\n",
       "      <td>644.541956</td>\n",
       "    </tr>\n",
       "    <tr>\n",
       "      <th>3</th>\n",
       "      <td>310.0</td>\n",
       "      <td>17.333808</td>\n",
       "    </tr>\n",
       "    <tr>\n",
       "      <th>4</th>\n",
       "      <td>509.4</td>\n",
       "      <td>782.157800</td>\n",
       "    </tr>\n",
       "    <tr>\n",
       "      <th>5</th>\n",
       "      <td>410.0</td>\n",
       "      <td>771.662788</td>\n",
       "    </tr>\n",
       "    <tr>\n",
       "      <th>6</th>\n",
       "      <td>680.0</td>\n",
       "      <td>1237.378941</td>\n",
       "    </tr>\n",
       "    <tr>\n",
       "      <th>7</th>\n",
       "      <td>249.0</td>\n",
       "      <td>443.693666</td>\n",
       "    </tr>\n",
       "    <tr>\n",
       "      <th>8</th>\n",
       "      <td>430.0</td>\n",
       "      <td>581.440697</td>\n",
       "    </tr>\n",
       "    <tr>\n",
       "      <th>9</th>\n",
       "      <td>660.0</td>\n",
       "      <td>660.153287</td>\n",
       "    </tr>\n",
       "    <tr>\n",
       "      <th>10</th>\n",
       "      <td>980.0</td>\n",
       "      <td>712.628346</td>\n",
       "    </tr>\n",
       "    <tr>\n",
       "      <th>11</th>\n",
       "      <td>451.1</td>\n",
       "      <td>552.185852</td>\n",
       "    </tr>\n",
       "    <tr>\n",
       "      <th>12</th>\n",
       "      <td>1190.0</td>\n",
       "      <td>1047.156850</td>\n",
       "    </tr>\n",
       "    <tr>\n",
       "      <th>13</th>\n",
       "      <td>289.0</td>\n",
       "      <td>384.659224</td>\n",
       "    </tr>\n",
       "    <tr>\n",
       "      <th>14</th>\n",
       "      <td>390.0</td>\n",
       "      <td>597.183215</td>\n",
       "    </tr>\n",
       "    <tr>\n",
       "      <th>15</th>\n",
       "      <td>317.0</td>\n",
       "      <td>384.659224</td>\n",
       "    </tr>\n",
       "    <tr>\n",
       "      <th>16</th>\n",
       "      <td>1010.0</td>\n",
       "      <td>909.409819</td>\n",
       "    </tr>\n",
       "    <tr>\n",
       "      <th>17</th>\n",
       "      <td>502.0</td>\n",
       "      <td>442.381790</td>\n",
       "    </tr>\n",
       "    <tr>\n",
       "      <th>18</th>\n",
       "      <td>1250.0</td>\n",
       "      <td>1171.785117</td>\n",
       "    </tr>\n",
       "    <tr>\n",
       "      <th>19</th>\n",
       "      <td>479.0</td>\n",
       "      <td>523.980507</td>\n",
       "    </tr>\n",
       "    <tr>\n",
       "      <th>20</th>\n",
       "      <td>999.0</td>\n",
       "      <td>1250.497706</td>\n",
       "    </tr>\n",
       "    <tr>\n",
       "      <th>21</th>\n",
       "      <td>470.0</td>\n",
       "      <td>751.984641</td>\n",
       "    </tr>\n",
       "    <tr>\n",
       "      <th>22</th>\n",
       "      <td>675.0</td>\n",
       "      <td>1040.597468</td>\n",
       "    </tr>\n",
       "    <tr>\n",
       "      <th>23</th>\n",
       "      <td>6720.0</td>\n",
       "      <td>3611.875383</td>\n",
       "    </tr>\n",
       "    <tr>\n",
       "      <th>24</th>\n",
       "      <td>810.0</td>\n",
       "      <td>1158.666352</td>\n",
       "    </tr>\n",
       "    <tr>\n",
       "      <th>25</th>\n",
       "      <td>680.0</td>\n",
       "      <td>1302.972765</td>\n",
       "    </tr>\n",
       "    <tr>\n",
       "      <th>26</th>\n",
       "      <td>1495.0</td>\n",
       "      <td>1039.285591</td>\n",
       "    </tr>\n",
       "    <tr>\n",
       "      <th>27</th>\n",
       "      <td>2752.0</td>\n",
       "      <td>1559.182243</td>\n",
       "    </tr>\n",
       "    <tr>\n",
       "      <th>28</th>\n",
       "      <td>680.0</td>\n",
       "      <td>851.162503</td>\n",
       "    </tr>\n",
       "    <tr>\n",
       "      <th>29</th>\n",
       "      <td>353.0</td>\n",
       "      <td>492.233096</td>\n",
       "    </tr>\n",
       "  </tbody>\n",
       "</table>\n",
       "</div>"
      ],
      "text/plain": [
       "    Actual    Predicted\n",
       "0    340.0   424.015519\n",
       "1    450.0   568.321933\n",
       "2    440.0   644.541956\n",
       "3    310.0    17.333808\n",
       "4    509.4   782.157800\n",
       "5    410.0   771.662788\n",
       "6    680.0  1237.378941\n",
       "7    249.0   443.693666\n",
       "8    430.0   581.440697\n",
       "9    660.0   660.153287\n",
       "10   980.0   712.628346\n",
       "11   451.1   552.185852\n",
       "12  1190.0  1047.156850\n",
       "13   289.0   384.659224\n",
       "14   390.0   597.183215\n",
       "15   317.0   384.659224\n",
       "16  1010.0   909.409819\n",
       "17   502.0   442.381790\n",
       "18  1250.0  1171.785117\n",
       "19   479.0   523.980507\n",
       "20   999.0  1250.497706\n",
       "21   470.0   751.984641\n",
       "22   675.0  1040.597468\n",
       "23  6720.0  3611.875383\n",
       "24   810.0  1158.666352\n",
       "25   680.0  1302.972765\n",
       "26  1495.0  1039.285591\n",
       "27  2752.0  1559.182243\n",
       "28   680.0   851.162503\n",
       "29   353.0   492.233096"
      ]
     },
     "execution_count": 32,
     "metadata": {},
     "output_type": "execute_result"
    }
   ],
   "source": [
    "# Create a dataframe comparing the actual and predicted values of y.\n",
    "\n",
    "data = pd.DataFrame({'Actual': y_test.flatten(), 'Predicted': y_predicted.flatten()})\n",
    "data.head(30)"
   ]
  },
  {
   "cell_type": "markdown",
   "metadata": {},
   "source": [
    "##### Compare how the regression fits the training set"
   ]
  },
  {
   "cell_type": "code",
   "execution_count": 33,
   "metadata": {},
   "outputs": [],
   "source": [
    "y_predicted_train = regression.predict(X_train) # This is predicting X_train!"
   ]
  },
  {
   "cell_type": "code",
   "execution_count": 34,
   "metadata": {},
   "outputs": [],
   "source": [
    "rmse = mean_squared_error(y_train, y_predicted_train)\n",
    "r2 = r2_score(y_train, y_predicted_train)"
   ]
  },
  {
   "cell_type": "code",
   "execution_count": 35,
   "metadata": {},
   "outputs": [
    {
     "name": "stdout",
     "output_type": "stream",
     "text": [
      "Slope: [[13.11876487]]\n",
      "Mean squared error:  140419.45182198752\n",
      "R2 score:  0.5460131284540084\n"
     ]
    }
   ],
   "source": [
    "print('Slope:' ,regression.coef_)\n",
    "print('Mean squared error: ', rmse)\n",
    "print('R2 score: ', r2)"
   ]
  },
  {
   "cell_type": "code",
   "execution_count": 36,
   "metadata": {
    "scrolled": true
   },
   "outputs": [
    {
     "data": {
      "image/png": "[encoded data removed]",
      "text/plain": [
       "<Figure size 640x480 with 1 Axes>"
      ]
     },
     "metadata": {},
     "output_type": "display_data"
    }
   ],
   "source": [
    "# Visualizing the training set results.\n",
    "\n",
    "plot_test = plt\n",
    "plot_test.scatter(X_train, y_train, color='green', s = 15)\n",
    "plot_test.plot(X_train, y_predicted_train, color='red', linewidth =3)\n",
    "plot_test.title('Living Space vs Total Rent (Train set)')\n",
    "plot_test.xlabel('livingSpace')\n",
    "plot_test.ylabel('totalRent')\n",
    "plot_test.show()"
   ]
  },
  {
   "cell_type": "markdown",
   "metadata": {},
   "source": [
    "# Overall thoughts\n",
    "While apartment size doesn't influence rent unilaterally, there is a relatively strong linear relationship here compared to other variables that might influence rent. That such a logical factor would still not reach an R-squared in the \"passing\" range is a testament to the sheer complexity of factors influencing the cost of housing. These findings suggest that although larger units do tend to be more expensive, there's a lot of variability in the market."
   ]
  },
  {
   "cell_type": "markdown",
   "metadata": {},
   "source": [
    "### Bonus: performance improvement after removing outliers"
   ]
  },
  {
   "cell_type": "code",
   "execution_count": 38,
   "metadata": {},
   "outputs": [],
   "source": [
    "# Clean the extreme values from the \"Price per Unit\" variable observed during the consistency checks.\n",
    "\n",
    "rent_space2 = rent_space_trim[[rent_space_trim['totalRent'] <=10000], "
   ]
  },
  {
   "cell_type": "code",
   "execution_count": 39,
   "metadata": {},
   "outputs": [
    {
     "data": {
      "image/png": "[encoded data removed]",
      "text/plain": [
       "<Figure size 640x480 with 1 Axes>"
      ]
     },
     "metadata": {},
     "output_type": "display_data"
    }
   ],
   "source": [
    "# See how the scatterplot looks without outliers.\n",
    "\n",
    "rent_space2.plot(x = 'livingSpace', y='totalRent',style='o') # The style option creates a scatterplot; without it, we only have lines.\n",
    "plt.title('Living Space vs Total Rent')  \n",
    "plt.xlabel('livingSpace')  \n",
    "plt.ylabel('totalRent')  \n",
    "plt.show()"
   ]
  },
  {
   "cell_type": "code",
   "execution_count": 40,
   "metadata": {},
   "outputs": [],
   "source": [
    "# Reshape again.\n",
    "\n",
    "X_2 = rent_space2['livingSpace'].values.reshape(-1,1)\n",
    "y_2 = rent_space2['totalRent'].values.reshape(-1,1)"
   ]
  },
  {
   "cell_type": "code",
   "execution_count": 41,
   "metadata": {
    "scrolled": true
   },
   "outputs": [],
   "source": [
    "X_train_2, X_test_2, y_train_2, y_test_2 = train_test_split(X_2, y_2, test_size=0.3, random_state=0)"
   ]
  },
  {
   "cell_type": "code",
   "execution_count": 42,
   "metadata": {},
   "outputs": [
    {
     "data": {
      "text/html": [
       "<style>#sk-container-id-2 {color: black;background-color: white;}#sk-container-id-2 pre{padding: 0;}#sk-container-id-2 div.sk-toggleable {background-color: white;}#sk-container-id-2 label.sk-toggleable__label {cursor: pointer;display: block;width: 100%;margin-bottom: 0;padding: 0.3em;box-sizing: border-box;text-align: center;}#sk-container-id-2 label.sk-toggleable__label-arrow:before {content: \"▸\";float: left;margin-right: 0.25em;color: #696969;}#sk-container-id-2 label.sk-toggleable__label-arrow:hover:before {color: black;}#sk-container-id-2 div.sk-estimator:hover label.sk-toggleable__label-arrow:before {color: black;}#sk-container-id-2 div.sk-toggleable__content {max-height: 0;max-width: 0;overflow: hidden;text-align: left;background-color: #f0f8ff;}#sk-container-id-2 div.sk-toggleable__content pre {margin: 0.2em;color: black;border-radius: 0.25em;background-color: #f0f8ff;}#sk-container-id-2 input.sk-toggleable__control:checked~div.sk-toggleable__content {max-height: 200px;max-width: 100%;overflow: auto;}#sk-container-id-2 input.sk-toggleable__control:checked~label.sk-toggleable__label-arrow:before {content: \"▾\";}#sk-container-id-2 div.sk-estimator input.sk-toggleable__control:checked~label.sk-toggleable__label {background-color: #d4ebff;}#sk-container-id-2 div.sk-label input.sk-toggleable__control:checked~label.sk-toggleable__label {background-color: #d4ebff;}#sk-container-id-2 input.sk-hidden--visually {border: 0;clip: rect(1px 1px 1px 1px);clip: rect(1px, 1px, 1px, 1px);height: 1px;margin: -1px;overflow: hidden;padding: 0;position: absolute;width: 1px;}#sk-container-id-2 div.sk-estimator {font-family: monospace;background-color: #f0f8ff;border: 1px dotted black;border-radius: 0.25em;box-sizing: border-box;margin-bottom: 0.5em;}#sk-container-id-2 div.sk-estimator:hover {background-color: #d4ebff;}#sk-container-id-2 div.sk-parallel-item::after {content: \"\";width: 100%;border-bottom: 1px solid gray;flex-grow: 1;}#sk-container-id-2 div.sk-label:hover label.sk-toggleable__label {background-color: #d4ebff;}#sk-container-id-2 div.sk-serial::before {content: \"\";position: absolute;border-left: 1px solid gray;box-sizing: border-box;top: 0;bottom: 0;left: 50%;z-index: 0;}#sk-container-id-2 div.sk-serial {display: flex;flex-direction: column;align-items: center;background-color: white;padding-right: 0.2em;padding-left: 0.2em;position: relative;}#sk-container-id-2 div.sk-item {position: relative;z-index: 1;}#sk-container-id-2 div.sk-parallel {display: flex;align-items: stretch;justify-content: center;background-color: white;position: relative;}#sk-container-id-2 div.sk-item::before, #sk-container-id-2 div.sk-parallel-item::before {content: \"\";position: absolute;border-left: 1px solid gray;box-sizing: border-box;top: 0;bottom: 0;left: 50%;z-index: -1;}#sk-container-id-2 div.sk-parallel-item {display: flex;flex-direction: column;z-index: 1;position: relative;background-color: white;}#sk-container-id-2 div.sk-parallel-item:first-child::after {align-self: flex-end;width: 50%;}#sk-container-id-2 div.sk-parallel-item:last-child::after {align-self: flex-start;width: 50%;}#sk-container-id-2 div.sk-parallel-item:only-child::after {width: 0;}#sk-container-id-2 div.sk-dashed-wrapped {border: 1px dashed gray;margin: 0 0.4em 0.5em 0.4em;box-sizing: border-box;padding-bottom: 0.4em;background-color: white;}#sk-container-id-2 div.sk-label label {font-family: monospace;font-weight: bold;display: inline-block;line-height: 1.2em;}#sk-container-id-2 div.sk-label-container {text-align: center;}#sk-container-id-2 div.sk-container {/* jupyter's `normalize.less` sets `[hidden] { display: none; }` but bootstrap.min.css set `[hidden] { display: none !important; }` so we also need the `!important` here to be able to override the default hidden behavior on the sphinx rendered scikit-learn.org. See: https://github.com/scikit-learn/scikit-learn/issues/21755 */display: inline-block !important;position: relative;}#sk-container-id-2 div.sk-text-repr-fallback {display: none;}</style><div id=\"sk-container-id-2\" class=\"sk-top-container\"><div class=\"sk-text-repr-fallback\"><pre>LinearRegression()</pre><b>In a Jupyter environment, please rerun this cell to show the HTML representation or trust the notebook. <br />On GitHub, the HTML representation is unable to render, please try loading this page with nbviewer.org.</b></div><div class=\"sk-container\" hidden><div class=\"sk-item\"><div class=\"sk-estimator sk-toggleable\"><input class=\"sk-toggleable__control sk-hidden--visually\" id=\"sk-estimator-id-2\" type=\"checkbox\" checked><label for=\"sk-estimator-id-2\" class=\"sk-toggleable__label sk-toggleable__label-arrow\">LinearRegression</label><div class=\"sk-toggleable__content\"><pre>LinearRegression()</pre></div></div></div></div></div>"
      ],
      "text/plain": [
       "LinearRegression()"
      ]
     },
     "execution_count": 42,
     "metadata": {},
     "output_type": "execute_result"
    }
   ],
   "source": [
    "# Run and fit the regression.\n",
    "\n",
    "regression = LinearRegression()  \n",
    "regression.fit(X_train_2, y_train_2)"
   ]
  },
  {
   "cell_type": "code",
   "execution_count": 43,
   "metadata": {},
   "outputs": [],
   "source": [
    "# Predict.\n",
    "\n",
    "y_predicted_2 = regression.predict(X_test_2)"
   ]
  },
  {
   "cell_type": "code",
   "execution_count": 44,
   "metadata": {},
   "outputs": [],
   "source": [
    "rmse = mean_squared_error(y_test_2, y_predicted_2)\n",
    "r2 = r2_score(y_test_2, y_predicted_2)"
   ]
  },
  {
   "cell_type": "code",
   "execution_count": 46,
   "metadata": {},
   "outputs": [
    {
     "name": "stdout",
     "output_type": "stream",
     "text": [
      "Slope: [[12.94572167]]\n",
      "Mean squared error:  136828.21201771052\n",
      "R2 score:  0.5445230876155696\n"
     ]
    }
   ],
   "source": [
    "print('Slope:' ,regression.coef_)\n",
    "print('Mean squared error: ', rmse)\n",
    "print('R2 score: ', r2)"
   ]
  },
  {
   "cell_type": "markdown",
   "metadata": {},
   "source": [
    "Observations: Eliminating outliers had a minimal but positive effect on the accuracy of the regression model."
   ]
  },
  {
   "cell_type": "code",
   "execution_count": 52,
   "metadata": {
    "scrolled": true
   },
   "outputs": [
    {
     "data": {
      "image/png": "[encoded data removed]",
      "text/plain": [
       "<Figure size 640x480 with 1 Axes>"
      ]
     },
     "metadata": {},
     "output_type": "display_data"
    }
   ],
   "source": [
    "# Visualizing the test set results.\n",
    "plot_test = plt\n",
    "plot_test.scatter(X_test_2, y_test_2, color='gray', s = 15)\n",
    "plot_test.plot(X_test_2, y_predicted_2, color='red', linewidth =3)\n",
    "plot_test.title('Living Space vs Total Rent (Test set)')\n",
    "plot_test.xlabel('livingSpace')\n",
    "plot_test.ylabel('totalRent')\n",
    "plot_test.show()"
   ]
  },
  {
   "cell_type": "code",
   "execution_count": 48,
   "metadata": {
    "scrolled": true
   },
   "outputs": [
    {
     "data": {
      "text/html": [
       "<div>\n",
       "<style scoped>\n",
       "    .dataframe tbody tr th:only-of-type {\n",
       "        vertical-align: middle;\n",
       "    }\n",
       "\n",
       "    .dataframe tbody tr th {\n",
       "        vertical-align: top;\n",
       "    }\n",
       "\n",
       "    .dataframe thead th {\n",
       "        text-align: right;\n",
       "    }\n",
       "</style>\n",
       "<table border=\"1\" class=\"dataframe\">\n",
       "  <thead>\n",
       "    <tr style=\"text-align: right;\">\n",
       "      <th></th>\n",
       "      <th>Actual</th>\n",
       "      <th>Predicted</th>\n",
       "    </tr>\n",
       "  </thead>\n",
       "  <tbody>\n",
       "    <tr>\n",
       "      <th>0</th>\n",
       "      <td>389.16</td>\n",
       "      <td>78.824299</td>\n",
       "    </tr>\n",
       "    <tr>\n",
       "      <th>1</th>\n",
       "      <td>609.00</td>\n",
       "      <td>705.656142</td>\n",
       "    </tr>\n",
       "    <tr>\n",
       "      <th>2</th>\n",
       "      <td>435.00</td>\n",
       "      <td>625.133753</td>\n",
       "    </tr>\n",
       "    <tr>\n",
       "      <th>3</th>\n",
       "      <td>530.00</td>\n",
       "      <td>829.676156</td>\n",
       "    </tr>\n",
       "    <tr>\n",
       "      <th>4</th>\n",
       "      <td>736.00</td>\n",
       "      <td>1075.644867</td>\n",
       "    </tr>\n",
       "    <tr>\n",
       "      <th>5</th>\n",
       "      <td>490.00</td>\n",
       "      <td>635.490330</td>\n",
       "    </tr>\n",
       "    <tr>\n",
       "      <th>6</th>\n",
       "      <td>760.00</td>\n",
       "      <td>52.932855</td>\n",
       "    </tr>\n",
       "    <tr>\n",
       "      <th>7</th>\n",
       "      <td>1220.00</td>\n",
       "      <td>1619.365178</td>\n",
       "    </tr>\n",
       "    <tr>\n",
       "      <th>8</th>\n",
       "      <td>407.00</td>\n",
       "      <td>308.222487</td>\n",
       "    </tr>\n",
       "    <tr>\n",
       "      <th>9</th>\n",
       "      <td>510.57</td>\n",
       "      <td>800.030453</td>\n",
       "    </tr>\n",
       "    <tr>\n",
       "      <th>10</th>\n",
       "      <td>663.00</td>\n",
       "      <td>827.345926</td>\n",
       "    </tr>\n",
       "    <tr>\n",
       "      <th>11</th>\n",
       "      <td>385.00</td>\n",
       "      <td>626.946154</td>\n",
       "    </tr>\n",
       "    <tr>\n",
       "      <th>12</th>\n",
       "      <td>1270.00</td>\n",
       "      <td>1295.722136</td>\n",
       "    </tr>\n",
       "    <tr>\n",
       "      <th>13</th>\n",
       "      <td>669.00</td>\n",
       "      <td>1282.776414</td>\n",
       "    </tr>\n",
       "    <tr>\n",
       "      <th>14</th>\n",
       "      <td>370.00</td>\n",
       "      <td>357.157315</td>\n",
       "    </tr>\n",
       "    <tr>\n",
       "      <th>15</th>\n",
       "      <td>860.00</td>\n",
       "      <td>752.001826</td>\n",
       "    </tr>\n",
       "    <tr>\n",
       "      <th>16</th>\n",
       "      <td>1838.00</td>\n",
       "      <td>1159.274229</td>\n",
       "    </tr>\n",
       "    <tr>\n",
       "      <th>17</th>\n",
       "      <td>1335.00</td>\n",
       "      <td>260.064402</td>\n",
       "    </tr>\n",
       "    <tr>\n",
       "      <th>18</th>\n",
       "      <td>700.00</td>\n",
       "      <td>583.707444</td>\n",
       "    </tr>\n",
       "    <tr>\n",
       "      <th>19</th>\n",
       "      <td>341.00</td>\n",
       "      <td>779.964584</td>\n",
       "    </tr>\n",
       "    <tr>\n",
       "      <th>20</th>\n",
       "      <td>625.00</td>\n",
       "      <td>544.611364</td>\n",
       "    </tr>\n",
       "    <tr>\n",
       "      <th>21</th>\n",
       "      <td>815.00</td>\n",
       "      <td>855.567599</td>\n",
       "    </tr>\n",
       "    <tr>\n",
       "      <th>22</th>\n",
       "      <td>1663.00</td>\n",
       "      <td>1284.070986</td>\n",
       "    </tr>\n",
       "    <tr>\n",
       "      <th>23</th>\n",
       "      <td>490.00</td>\n",
       "      <td>855.567599</td>\n",
       "    </tr>\n",
       "    <tr>\n",
       "      <th>24</th>\n",
       "      <td>2251.20</td>\n",
       "      <td>1606.419456</td>\n",
       "    </tr>\n",
       "    <tr>\n",
       "      <th>25</th>\n",
       "      <td>370.00</td>\n",
       "      <td>260.064402</td>\n",
       "    </tr>\n",
       "    <tr>\n",
       "      <th>26</th>\n",
       "      <td>1580.00</td>\n",
       "      <td>1192.156362</td>\n",
       "    </tr>\n",
       "    <tr>\n",
       "      <th>27</th>\n",
       "      <td>585.00</td>\n",
       "      <td>739.056104</td>\n",
       "    </tr>\n",
       "    <tr>\n",
       "      <th>28</th>\n",
       "      <td>300.00</td>\n",
       "      <td>466.419205</td>\n",
       "    </tr>\n",
       "    <tr>\n",
       "      <th>29</th>\n",
       "      <td>764.80</td>\n",
       "      <td>366.737149</td>\n",
       "    </tr>\n",
       "  </tbody>\n",
       "</table>\n",
       "</div>"
      ],
      "text/plain": [
       "     Actual    Predicted\n",
       "0    389.16    78.824299\n",
       "1    609.00   705.656142\n",
       "2    435.00   625.133753\n",
       "3    530.00   829.676156\n",
       "4    736.00  1075.644867\n",
       "5    490.00   635.490330\n",
       "6    760.00    52.932855\n",
       "7   1220.00  1619.365178\n",
       "8    407.00   308.222487\n",
       "9    510.57   800.030453\n",
       "10   663.00   827.345926\n",
       "11   385.00   626.946154\n",
       "12  1270.00  1295.722136\n",
       "13   669.00  1282.776414\n",
       "14   370.00   357.157315\n",
       "15   860.00   752.001826\n",
       "16  1838.00  1159.274229\n",
       "17  1335.00   260.064402\n",
       "18   700.00   583.707444\n",
       "19   341.00   779.964584\n",
       "20   625.00   544.611364\n",
       "21   815.00   855.567599\n",
       "22  1663.00  1284.070986\n",
       "23   490.00   855.567599\n",
       "24  2251.20  1606.419456\n",
       "25   370.00   260.064402\n",
       "26  1580.00  1192.156362\n",
       "27   585.00   739.056104\n",
       "28   300.00   466.419205\n",
       "29   764.80   366.737149"
      ]
     },
     "execution_count": 48,
     "metadata": {},
     "output_type": "execute_result"
    }
   ],
   "source": [
    "data = pd.DataFrame({'Actual': y_test_2.flatten(), 'Predicted': y_predicted_2.flatten()})\n",
    "data.head(30)"
   ]
  },
  {
   "cell_type": "markdown",
   "metadata": {},
   "source": [
    "## Linear regression, take 2: price per unit and population trend"
   ]
  },
  {
   "cell_type": "markdown",
   "metadata": {},
   "source": [
    "Here I use linear regression to assess the relationship between price per unit (moderating the known relationship between rent and unit size) and the general population trend of the state in which the unit is located."
   ]
  },
  {
   "cell_type": "code",
   "execution_count": 53,
   "metadata": {},
   "outputs": [],
   "source": [
    "# Create subset with just price/unit and population trend\n",
    "price_pop = df[['populationTrend', 'price/unit']]"
   ]
  },
  {
   "cell_type": "code",
   "execution_count": 54,
   "metadata": {},
   "outputs": [
    {
     "data": {
      "text/plain": [
       "populationTrend        0\n",
       "price/unit         40603\n",
       "dtype: int64"
      ]
     },
     "execution_count": 54,
     "metadata": {},
     "output_type": "execute_result"
    }
   ],
   "source": [
    "# Check for missing values\n",
    "price_pop.isnull().sum()"
   ]
  },
  {
   "cell_type": "code",
   "execution_count": 55,
   "metadata": {},
   "outputs": [],
   "source": [
    "# drop blank values \n",
    "price_pop_trim = price_pop.dropna(inplace=False)"
   ]
  },
  {
   "cell_type": "code",
   "execution_count": 56,
   "metadata": {},
   "outputs": [
    {
     "data": {
      "text/plain": [
       "populationTrend    0\n",
       "price/unit         0\n",
       "dtype: int64"
      ]
     },
     "execution_count": 56,
     "metadata": {},
     "output_type": "execute_result"
    }
   ],
   "source": [
    "price_pop_trim.isnull().sum()"
   ]
  },
  {
   "cell_type": "code",
   "execution_count": 57,
   "metadata": {},
   "outputs": [
    {
     "name": "stderr",
     "output_type": "stream",
     "text": [
      "C:\\Users\\jacym\\AppData\\Local\\Temp\\ipykernel_72304\\3498814368.py:1: UserWarning: \n",
      "\n",
      "`distplot` is a deprecated function and will be removed in seaborn v0.14.0.\n",
      "\n",
      "Please adapt your code to use either `displot` (a figure-level function with\n",
      "similar flexibility) or `histplot` (an axes-level function for histograms).\n",
      "\n",
      "For a guide to updating your code to use the new functions, please see\n",
      "https://gist.github.com/mwaskom/de44147ed2974457ad6372750bbe5751\n",
      "\n",
      "  sns.distplot(price_pop_trim['price/unit'], bins=25) # Shows extreme values\n"
     ]
    },
    {
     "data": {
      "text/plain": [
       "<Axes: xlabel='price/unit', ylabel='Density'>"
      ]
     },
     "execution_count": 57,
     "metadata": {},
     "output_type": "execute_result"
    },
    {
     "data": {
      "image/png": "[encoded data removed]",
      "text/plain": [
       "<Figure size 640x480 with 1 Axes>"
      ]
     },
     "metadata": {},
     "output_type": "display_data"
    }
   ],
   "source": [
    "sns.distplot(price_pop_trim['price/unit'], bins=25) # Shows extreme values\n",
    "\n",
    "# Some of the outliers in the high values may need to be removed, but let's try without doing so first."
   ]
  },
  {
   "cell_type": "code",
   "execution_count": 58,
   "metadata": {},
   "outputs": [
    {
     "data": {
      "image/png": "[encoded data removed]",
      "text/plain": [
       "<Figure size 640x480 with 1 Axes>"
      ]
     },
     "metadata": {},
     "output_type": "display_data"
    }
   ],
   "source": [
    "# Create a scatterplot using matplotlib for another look at how the chosen variables plot against each other.\n",
    "\n",
    "price_pop_trim.plot(x = 'populationTrend', y='price/unit',style='o') # The style option creates a scatterplot; without it, we only have lines.\n",
    "plt.title('Population Growth vs. Price per Unit')  \n",
    "plt.xlabel('populationTrend')  \n",
    "plt.ylabel('price/unit')  \n",
    "plt.show()"
   ]
  },
  {
   "cell_type": "code",
   "execution_count": 63,
   "metadata": {},
   "outputs": [],
   "source": [
    "# Reshape the variables into NumPy arrays and put them into separate objects.\n",
    "\n",
    "X_pop = price_pop_trim['populationTrend'].values.reshape(-1,1)\n",
    "y_pop = price_pop_trim['price/unit'].values.reshape(-1,1)"
   ]
  },
  {
   "cell_type": "code",
   "execution_count": 64,
   "metadata": {},
   "outputs": [
    {
     "data": {
      "text/plain": [
       "array([[-0.02],\n",
       "       [-0.02],\n",
       "       [-0.02],\n",
       "       ...,\n",
       "       [-0.4 ],\n",
       "       [-0.4 ],\n",
       "       [-0.4 ]])"
      ]
     },
     "execution_count": 64,
     "metadata": {},
     "output_type": "execute_result"
    }
   ],
   "source": [
    "X_pop"
   ]
  },
  {
   "cell_type": "code",
   "execution_count": 65,
   "metadata": {},
   "outputs": [
    {
     "data": {
      "text/plain": [
       "array([[ 9.76744186],\n",
       "       [ 9.31626701],\n",
       "       [15.17988506],\n",
       "       ...,\n",
       "       [11.58497772],\n",
       "       [ 8.71428571],\n",
       "       [10.22727273]])"
      ]
     },
     "execution_count": 65,
     "metadata": {},
     "output_type": "execute_result"
    }
   ],
   "source": [
    "y_pop"
   ]
  },
  {
   "cell_type": "code",
   "execution_count": 66,
   "metadata": {
    "scrolled": true
   },
   "outputs": [],
   "source": [
    "# Split data into a training set and a test set.\n",
    "\n",
    "X_train, X_test, y_train, y_test = train_test_split(X_pop, y_pop, test_size=0.3, random_state=0)"
   ]
  },
  {
   "cell_type": "markdown",
   "metadata": {},
   "source": [
    "### 4. Regression analysis"
   ]
  },
  {
   "cell_type": "code",
   "execution_count": 67,
   "metadata": {},
   "outputs": [],
   "source": [
    "# Create a regression object.\n",
    "\n",
    "regression_pop = LinearRegression()  # This is the regression object, which will be fit onto the training set."
   ]
  },
  {
   "cell_type": "code",
   "execution_count": 68,
   "metadata": {},
   "outputs": [
    {
     "data": {
      "text/html": [
       "<style>#sk-container-id-3 {color: black;background-color: white;}#sk-container-id-3 pre{padding: 0;}#sk-container-id-3 div.sk-toggleable {background-color: white;}#sk-container-id-3 label.sk-toggleable__label {cursor: pointer;display: block;width: 100%;margin-bottom: 0;padding: 0.3em;box-sizing: border-box;text-align: center;}#sk-container-id-3 label.sk-toggleable__label-arrow:before {content: \"▸\";float: left;margin-right: 0.25em;color: #696969;}#sk-container-id-3 label.sk-toggleable__label-arrow:hover:before {color: black;}#sk-container-id-3 div.sk-estimator:hover label.sk-toggleable__label-arrow:before {color: black;}#sk-container-id-3 div.sk-toggleable__content {max-height: 0;max-width: 0;overflow: hidden;text-align: left;background-color: #f0f8ff;}#sk-container-id-3 div.sk-toggleable__content pre {margin: 0.2em;color: black;border-radius: 0.25em;background-color: #f0f8ff;}#sk-container-id-3 input.sk-toggleable__control:checked~div.sk-toggleable__content {max-height: 200px;max-width: 100%;overflow: auto;}#sk-container-id-3 input.sk-toggleable__control:checked~label.sk-toggleable__label-arrow:before {content: \"▾\";}#sk-container-id-3 div.sk-estimator input.sk-toggleable__control:checked~label.sk-toggleable__label {background-color: #d4ebff;}#sk-container-id-3 div.sk-label input.sk-toggleable__control:checked~label.sk-toggleable__label {background-color: #d4ebff;}#sk-container-id-3 input.sk-hidden--visually {border: 0;clip: rect(1px 1px 1px 1px);clip: rect(1px, 1px, 1px, 1px);height: 1px;margin: -1px;overflow: hidden;padding: 0;position: absolute;width: 1px;}#sk-container-id-3 div.sk-estimator {font-family: monospace;background-color: #f0f8ff;border: 1px dotted black;border-radius: 0.25em;box-sizing: border-box;margin-bottom: 0.5em;}#sk-container-id-3 div.sk-estimator:hover {background-color: #d4ebff;}#sk-container-id-3 div.sk-parallel-item::after {content: \"\";width: 100%;border-bottom: 1px solid gray;flex-grow: 1;}#sk-container-id-3 div.sk-label:hover label.sk-toggleable__label {background-color: #d4ebff;}#sk-container-id-3 div.sk-serial::before {content: \"\";position: absolute;border-left: 1px solid gray;box-sizing: border-box;top: 0;bottom: 0;left: 50%;z-index: 0;}#sk-container-id-3 div.sk-serial {display: flex;flex-direction: column;align-items: center;background-color: white;padding-right: 0.2em;padding-left: 0.2em;position: relative;}#sk-container-id-3 div.sk-item {position: relative;z-index: 1;}#sk-container-id-3 div.sk-parallel {display: flex;align-items: stretch;justify-content: center;background-color: white;position: relative;}#sk-container-id-3 div.sk-item::before, #sk-container-id-3 div.sk-parallel-item::before {content: \"\";position: absolute;border-left: 1px solid gray;box-sizing: border-box;top: 0;bottom: 0;left: 50%;z-index: -1;}#sk-container-id-3 div.sk-parallel-item {display: flex;flex-direction: column;z-index: 1;position: relative;background-color: white;}#sk-container-id-3 div.sk-parallel-item:first-child::after {align-self: flex-end;width: 50%;}#sk-container-id-3 div.sk-parallel-item:last-child::after {align-self: flex-start;width: 50%;}#sk-container-id-3 div.sk-parallel-item:only-child::after {width: 0;}#sk-container-id-3 div.sk-dashed-wrapped {border: 1px dashed gray;margin: 0 0.4em 0.5em 0.4em;box-sizing: border-box;padding-bottom: 0.4em;background-color: white;}#sk-container-id-3 div.sk-label label {font-family: monospace;font-weight: bold;display: inline-block;line-height: 1.2em;}#sk-container-id-3 div.sk-label-container {text-align: center;}#sk-container-id-3 div.sk-container {/* jupyter's `normalize.less` sets `[hidden] { display: none; }` but bootstrap.min.css set `[hidden] { display: none !important; }` so we also need the `!important` here to be able to override the default hidden behavior on the sphinx rendered scikit-learn.org. See: https://github.com/scikit-learn/scikit-learn/issues/21755 */display: inline-block !important;position: relative;}#sk-container-id-3 div.sk-text-repr-fallback {display: none;}</style><div id=\"sk-container-id-3\" class=\"sk-top-container\"><div class=\"sk-text-repr-fallback\"><pre>LinearRegression()</pre><b>In a Jupyter environment, please rerun this cell to show the HTML representation or trust the notebook. <br />On GitHub, the HTML representation is unable to render, please try loading this page with nbviewer.org.</b></div><div class=\"sk-container\" hidden><div class=\"sk-item\"><div class=\"sk-estimator sk-toggleable\"><input class=\"sk-toggleable__control sk-hidden--visually\" id=\"sk-estimator-id-3\" type=\"checkbox\" checked><label for=\"sk-estimator-id-3\" class=\"sk-toggleable__label sk-toggleable__label-arrow\">LinearRegression</label><div class=\"sk-toggleable__content\"><pre>LinearRegression()</pre></div></div></div></div></div>"
      ],
      "text/plain": [
       "LinearRegression()"
      ]
     },
     "execution_count": 68,
     "metadata": {},
     "output_type": "execute_result"
    }
   ],
   "source": [
    "# Fit the regression object onto the training set.\n",
    "\n",
    "regression_pop.fit(X_train, y_train)"
   ]
  },
  {
   "cell_type": "code",
   "execution_count": 69,
   "metadata": {},
   "outputs": [],
   "source": [
    "# Predict the values of y using X.\n",
    "\n",
    "y_predicted = regression_pop.predict(X_test)"
   ]
  },
  {
   "cell_type": "code",
   "execution_count": 70,
   "metadata": {},
   "outputs": [
    {
     "data": {
      "image/png": "[encoded data removed]",
      "text/plain": [
       "<Figure size 640x480 with 1 Axes>"
      ]
     },
     "metadata": {},
     "output_type": "display_data"
    }
   ],
   "source": [
    "# Create a plot that shows the regression line from the model on the test set.\n",
    "\n",
    "plot_test = plt\n",
    "plot_test.scatter(X_test, y_test, color='gray', s = 15)\n",
    "plot_test.plot(X_test, y_predicted, color='red', linewidth =3)\n",
    "plot_test.title('Population Growth vs. Price per Unit (Test set)')\n",
    "plot_test.xlabel('populationTrend')\n",
    "plot_test.ylabel('price/unit')\n",
    "plot_test.show()"
   ]
  },
  {
   "cell_type": "code",
   "execution_count": 71,
   "metadata": {},
   "outputs": [],
   "source": [
    "# Create objects that contain the model summary statistics.\n",
    "\n",
    "rmse = mean_squared_error(y_test, y_predicted) # This is the mean squared error\n",
    "r2 = r2_score(y_test, y_predicted) # This is the R2 score. "
   ]
  },
  {
   "cell_type": "code",
   "execution_count": 72,
   "metadata": {},
   "outputs": [
    {
     "name": "stdout",
     "output_type": "stream",
     "text": [
      "Slope: [[12.94572167]]\n",
      "Mean squared error:  23.31658188093533\n",
      "R2 score:  0.21738695766758365\n"
     ]
    }
   ],
   "source": [
    "# Print the model summary statistics. This is where you evaluate the performance of the model.\n",
    "\n",
    "print('Slope:' ,regression.coef_)\n",
    "print('Mean squared error: ', rmse)\n",
    "print('R2 score: ', r2)"
   ]
  },
  {
   "cell_type": "markdown",
   "metadata": {},
   "source": [
    "There is a modest relationship between population growth trend and price per unit, with price per unit sometimes tending to be higher if population is growing faster in the area. The population growth trend only accounts for a small portion of the variability in price per unit. A caveat is the small pool of data points for population growth, since there are just 16 federal states in Germany."
   ]
  },
  {
   "cell_type": "code",
   "execution_count": 73,
   "metadata": {},
   "outputs": [
    {
     "data": {
      "text/plain": [
       "array([[ 7.44081317],\n",
       "       [11.94247123],\n",
       "       [ 9.14598668],\n",
       "       ...,\n",
       "       [11.94247123],\n",
       "       [11.94247123],\n",
       "       [13.57943779]])"
      ]
     },
     "execution_count": 73,
     "metadata": {},
     "output_type": "execute_result"
    }
   ],
   "source": [
    "y_predicted"
   ]
  },
  {
   "cell_type": "code",
   "execution_count": 74,
   "metadata": {
    "scrolled": true
   },
   "outputs": [
    {
     "data": {
      "text/html": [
       "<div>\n",
       "<style scoped>\n",
       "    .dataframe tbody tr th:only-of-type {\n",
       "        vertical-align: middle;\n",
       "    }\n",
       "\n",
       "    .dataframe tbody tr th {\n",
       "        vertical-align: top;\n",
       "    }\n",
       "\n",
       "    .dataframe thead th {\n",
       "        text-align: right;\n",
       "    }\n",
       "</style>\n",
       "<table border=\"1\" class=\"dataframe\">\n",
       "  <thead>\n",
       "    <tr style=\"text-align: right;\">\n",
       "      <th></th>\n",
       "      <th>Actual</th>\n",
       "      <th>Predicted</th>\n",
       "    </tr>\n",
       "  </thead>\n",
       "  <tbody>\n",
       "    <tr>\n",
       "      <th>0</th>\n",
       "      <td>7.906977</td>\n",
       "      <td>7.440813</td>\n",
       "    </tr>\n",
       "    <tr>\n",
       "      <th>1</th>\n",
       "      <td>8.333333</td>\n",
       "      <td>11.942471</td>\n",
       "    </tr>\n",
       "    <tr>\n",
       "      <th>2</th>\n",
       "      <td>7.356629</td>\n",
       "      <td>9.145987</td>\n",
       "    </tr>\n",
       "    <tr>\n",
       "      <th>3</th>\n",
       "      <td>25.833333</td>\n",
       "      <td>11.942471</td>\n",
       "    </tr>\n",
       "    <tr>\n",
       "      <th>4</th>\n",
       "      <td>7.246088</td>\n",
       "      <td>9.145987</td>\n",
       "    </tr>\n",
       "    <tr>\n",
       "      <th>5</th>\n",
       "      <td>5.899281</td>\n",
       "      <td>9.145987</td>\n",
       "    </tr>\n",
       "    <tr>\n",
       "      <th>6</th>\n",
       "      <td>6.476190</td>\n",
       "      <td>14.466128</td>\n",
       "    </tr>\n",
       "    <tr>\n",
       "      <th>7</th>\n",
       "      <td>5.595506</td>\n",
       "      <td>9.145987</td>\n",
       "    </tr>\n",
       "    <tr>\n",
       "      <th>8</th>\n",
       "      <td>7.818182</td>\n",
       "      <td>5.940260</td>\n",
       "    </tr>\n",
       "    <tr>\n",
       "      <th>9</th>\n",
       "      <td>10.819672</td>\n",
       "      <td>9.145987</td>\n",
       "    </tr>\n",
       "    <tr>\n",
       "      <th>10</th>\n",
       "      <td>15.076923</td>\n",
       "      <td>13.852266</td>\n",
       "    </tr>\n",
       "    <tr>\n",
       "      <th>11</th>\n",
       "      <td>8.548418</td>\n",
       "      <td>11.942471</td>\n",
       "    </tr>\n",
       "    <tr>\n",
       "      <th>12</th>\n",
       "      <td>13.149171</td>\n",
       "      <td>13.238403</td>\n",
       "    </tr>\n",
       "    <tr>\n",
       "      <th>13</th>\n",
       "      <td>7.225000</td>\n",
       "      <td>9.145987</td>\n",
       "    </tr>\n",
       "    <tr>\n",
       "      <th>14</th>\n",
       "      <td>6.939502</td>\n",
       "      <td>9.145987</td>\n",
       "    </tr>\n",
       "    <tr>\n",
       "      <th>15</th>\n",
       "      <td>7.925000</td>\n",
       "      <td>9.145987</td>\n",
       "    </tr>\n",
       "    <tr>\n",
       "      <th>16</th>\n",
       "      <td>12.625000</td>\n",
       "      <td>13.579438</td>\n",
       "    </tr>\n",
       "    <tr>\n",
       "      <th>17</th>\n",
       "      <td>11.306306</td>\n",
       "      <td>11.942471</td>\n",
       "    </tr>\n",
       "    <tr>\n",
       "      <th>18</th>\n",
       "      <td>12.500000</td>\n",
       "      <td>13.852266</td>\n",
       "    </tr>\n",
       "    <tr>\n",
       "      <th>19</th>\n",
       "      <td>9.462663</td>\n",
       "      <td>14.466128</td>\n",
       "    </tr>\n",
       "    <tr>\n",
       "      <th>20</th>\n",
       "      <td>9.424528</td>\n",
       "      <td>13.579438</td>\n",
       "    </tr>\n",
       "    <tr>\n",
       "      <th>21</th>\n",
       "      <td>6.911765</td>\n",
       "      <td>9.145987</td>\n",
       "    </tr>\n",
       "    <tr>\n",
       "      <th>22</th>\n",
       "      <td>7.500000</td>\n",
       "      <td>14.466128</td>\n",
       "    </tr>\n",
       "    <tr>\n",
       "      <th>23</th>\n",
       "      <td>23.496503</td>\n",
       "      <td>11.942471</td>\n",
       "    </tr>\n",
       "    <tr>\n",
       "      <th>24</th>\n",
       "      <td>8.181818</td>\n",
       "      <td>13.579438</td>\n",
       "    </tr>\n",
       "    <tr>\n",
       "      <th>25</th>\n",
       "      <td>6.181818</td>\n",
       "      <td>5.940260</td>\n",
       "    </tr>\n",
       "    <tr>\n",
       "      <th>26</th>\n",
       "      <td>16.629588</td>\n",
       "      <td>14.466128</td>\n",
       "    </tr>\n",
       "    <tr>\n",
       "      <th>27</th>\n",
       "      <td>21.246043</td>\n",
       "      <td>14.738956</td>\n",
       "    </tr>\n",
       "    <tr>\n",
       "      <th>28</th>\n",
       "      <td>8.999471</td>\n",
       "      <td>12.624541</td>\n",
       "    </tr>\n",
       "    <tr>\n",
       "      <th>29</th>\n",
       "      <td>7.323651</td>\n",
       "      <td>9.145987</td>\n",
       "    </tr>\n",
       "  </tbody>\n",
       "</table>\n",
       "</div>"
      ],
      "text/plain": [
       "       Actual  Predicted\n",
       "0    7.906977   7.440813\n",
       "1    8.333333  11.942471\n",
       "2    7.356629   9.145987\n",
       "3   25.833333  11.942471\n",
       "4    7.246088   9.145987\n",
       "5    5.899281   9.145987\n",
       "6    6.476190  14.466128\n",
       "7    5.595506   9.145987\n",
       "8    7.818182   5.940260\n",
       "9   10.819672   9.145987\n",
       "10  15.076923  13.852266\n",
       "11   8.548418  11.942471\n",
       "12  13.149171  13.238403\n",
       "13   7.225000   9.145987\n",
       "14   6.939502   9.145987\n",
       "15   7.925000   9.145987\n",
       "16  12.625000  13.579438\n",
       "17  11.306306  11.942471\n",
       "18  12.500000  13.852266\n",
       "19   9.462663  14.466128\n",
       "20   9.424528  13.579438\n",
       "21   6.911765   9.145987\n",
       "22   7.500000  14.466128\n",
       "23  23.496503  11.942471\n",
       "24   8.181818  13.579438\n",
       "25   6.181818   5.940260\n",
       "26  16.629588  14.466128\n",
       "27  21.246043  14.738956\n",
       "28   8.999471  12.624541\n",
       "29   7.323651   9.145987"
      ]
     },
     "execution_count": 74,
     "metadata": {},
     "output_type": "execute_result"
    }
   ],
   "source": [
    "# Create a dataframe comparing the actual and predicted values of y.\n",
    "\n",
    "data = pd.DataFrame({'Actual': y_test.flatten(), 'Predicted': y_predicted.flatten()})\n",
    "data.head(30)"
   ]
  },
  {
   "cell_type": "markdown",
   "metadata": {},
   "source": [
    "## Linear regression, take 3: price per unit and *district* population trend"
   ]
  },
  {
   "cell_type": "markdown",
   "metadata": {},
   "source": [
    "Here, I assess the relationship between district-level population growth and price per unit."
   ]
  },
  {
   "cell_type": "code",
   "execution_count": 76,
   "metadata": {},
   "outputs": [],
   "source": [
    "# create price per unit variable \n",
    "df2['price/unit'] = df2['totalRent']/df['livingSpace']"
   ]
  },
  {
   "cell_type": "code",
   "execution_count": 77,
   "metadata": {},
   "outputs": [],
   "source": [
    "# Create subset with just price/unit and population trend\n",
    "price_dist_pop = df2[['districtPopTrend', 'price/unit']]"
   ]
  },
  {
   "cell_type": "code",
   "execution_count": 78,
   "metadata": {},
   "outputs": [
    {
     "data": {
      "text/plain": [
       "districtPopTrend        0\n",
       "price/unit          39356\n",
       "dtype: int64"
      ]
     },
     "execution_count": 78,
     "metadata": {},
     "output_type": "execute_result"
    }
   ],
   "source": [
    "# Check for missing values\n",
    "price_dist_pop.isnull().sum()"
   ]
  },
  {
   "cell_type": "code",
   "execution_count": 79,
   "metadata": {},
   "outputs": [],
   "source": [
    "# drop blank values \n",
    "price_dist_trim = price_dist_pop.dropna(inplace=False)"
   ]
  },
  {
   "cell_type": "code",
   "execution_count": 80,
   "metadata": {},
   "outputs": [
    {
     "data": {
      "text/plain": [
       "districtPopTrend    0\n",
       "price/unit          0\n",
       "dtype: int64"
      ]
     },
     "execution_count": 80,
     "metadata": {},
     "output_type": "execute_result"
    }
   ],
   "source": [
    "price_dist_trim.isnull().sum()"
   ]
  },
  {
   "cell_type": "code",
   "execution_count": 81,
   "metadata": {},
   "outputs": [
    {
     "data": {
      "image/png": "[encoded data removed]",
      "text/plain": [
       "<Figure size 640x480 with 1 Axes>"
      ]
     },
     "metadata": {},
     "output_type": "display_data"
    }
   ],
   "source": [
    "# Create a scatterplot using matplotlib for another look at how the chosen variables plot against each other.\n",
    "\n",
    "price_dist_trim.plot(x = 'districtPopTrend', y='price/unit',style='o') # The style option creates a scatterplot; without it, we only have lines.\n",
    "plt.title('District Population Growth vs. Price per Unit')  \n",
    "plt.xlabel('districtPopTrend')  \n",
    "plt.ylabel('price/unit')  \n",
    "plt.show()"
   ]
  },
  {
   "cell_type": "code",
   "execution_count": 82,
   "metadata": {},
   "outputs": [],
   "source": [
    "# Reshape the variables into NumPy arrays and put them into separate objects.\n",
    "\n",
    "X_dist = price_dist_trim['districtPopTrend'].values.reshape(-1,1)\n",
    "y_dist = price_dist_trim['price/unit'].values.reshape(-1,1)"
   ]
  },
  {
   "cell_type": "code",
   "execution_count": 83,
   "metadata": {},
   "outputs": [
    {
     "data": {
      "text/plain": [
       "array([[ 0.33],\n",
       "       [ 0.33],\n",
       "       [ 0.33],\n",
       "       ...,\n",
       "       [-0.2 ],\n",
       "       [-0.2 ],\n",
       "       [-0.2 ]])"
      ]
     },
     "execution_count": 83,
     "metadata": {},
     "output_type": "execute_result"
    }
   ],
   "source": [
    "X_dist"
   ]
  },
  {
   "cell_type": "code",
   "execution_count": 84,
   "metadata": {},
   "outputs": [
    {
     "data": {
      "text/plain": [
       "array([[ 9.76744186],\n",
       "       [22.01083333],\n",
       "       [ 4.00032404],\n",
       "       ...,\n",
       "       [ 6.04386116],\n",
       "       [ 1.96078431],\n",
       "       [15.30054645]])"
      ]
     },
     "execution_count": 84,
     "metadata": {},
     "output_type": "execute_result"
    }
   ],
   "source": [
    "y_dist"
   ]
  },
  {
   "cell_type": "code",
   "execution_count": 85,
   "metadata": {
    "scrolled": true
   },
   "outputs": [],
   "source": [
    "# Split data into a training set and a test set.\n",
    "\n",
    "X_train, X_test, y_train, y_test = train_test_split(X_dist, y_dist, test_size=0.3, random_state=0)"
   ]
  },
  {
   "cell_type": "markdown",
   "metadata": {},
   "source": [
    "### 4. Regression analysis"
   ]
  },
  {
   "cell_type": "code",
   "execution_count": 86,
   "metadata": {},
   "outputs": [],
   "source": [
    "# Create a regression object.\n",
    "\n",
    "regression_dist = LinearRegression()  # This is the regression object, which will be fit onto the training set."
   ]
  },
  {
   "cell_type": "code",
   "execution_count": 87,
   "metadata": {},
   "outputs": [
    {
     "data": {
      "text/html": [
       "<style>#sk-container-id-4 {color: black;background-color: white;}#sk-container-id-4 pre{padding: 0;}#sk-container-id-4 div.sk-toggleable {background-color: white;}#sk-container-id-4 label.sk-toggleable__label {cursor: pointer;display: block;width: 100%;margin-bottom: 0;padding: 0.3em;box-sizing: border-box;text-align: center;}#sk-container-id-4 label.sk-toggleable__label-arrow:before {content: \"▸\";float: left;margin-right: 0.25em;color: #696969;}#sk-container-id-4 label.sk-toggleable__label-arrow:hover:before {color: black;}#sk-container-id-4 div.sk-estimator:hover label.sk-toggleable__label-arrow:before {color: black;}#sk-container-id-4 div.sk-toggleable__content {max-height: 0;max-width: 0;overflow: hidden;text-align: left;background-color: #f0f8ff;}#sk-container-id-4 div.sk-toggleable__content pre {margin: 0.2em;color: black;border-radius: 0.25em;background-color: #f0f8ff;}#sk-container-id-4 input.sk-toggleable__control:checked~div.sk-toggleable__content {max-height: 200px;max-width: 100%;overflow: auto;}#sk-container-id-4 input.sk-toggleable__control:checked~label.sk-toggleable__label-arrow:before {content: \"▾\";}#sk-container-id-4 div.sk-estimator input.sk-toggleable__control:checked~label.sk-toggleable__label {background-color: #d4ebff;}#sk-container-id-4 div.sk-label input.sk-toggleable__control:checked~label.sk-toggleable__label {background-color: #d4ebff;}#sk-container-id-4 input.sk-hidden--visually {border: 0;clip: rect(1px 1px 1px 1px);clip: rect(1px, 1px, 1px, 1px);height: 1px;margin: -1px;overflow: hidden;padding: 0;position: absolute;width: 1px;}#sk-container-id-4 div.sk-estimator {font-family: monospace;background-color: #f0f8ff;border: 1px dotted black;border-radius: 0.25em;box-sizing: border-box;margin-bottom: 0.5em;}#sk-container-id-4 div.sk-estimator:hover {background-color: #d4ebff;}#sk-container-id-4 div.sk-parallel-item::after {content: \"\";width: 100%;border-bottom: 1px solid gray;flex-grow: 1;}#sk-container-id-4 div.sk-label:hover label.sk-toggleable__label {background-color: #d4ebff;}#sk-container-id-4 div.sk-serial::before {content: \"\";position: absolute;border-left: 1px solid gray;box-sizing: border-box;top: 0;bottom: 0;left: 50%;z-index: 0;}#sk-container-id-4 div.sk-serial {display: flex;flex-direction: column;align-items: center;background-color: white;padding-right: 0.2em;padding-left: 0.2em;position: relative;}#sk-container-id-4 div.sk-item {position: relative;z-index: 1;}#sk-container-id-4 div.sk-parallel {display: flex;align-items: stretch;justify-content: center;background-color: white;position: relative;}#sk-container-id-4 div.sk-item::before, #sk-container-id-4 div.sk-parallel-item::before {content: \"\";position: absolute;border-left: 1px solid gray;box-sizing: border-box;top: 0;bottom: 0;left: 50%;z-index: -1;}#sk-container-id-4 div.sk-parallel-item {display: flex;flex-direction: column;z-index: 1;position: relative;background-color: white;}#sk-container-id-4 div.sk-parallel-item:first-child::after {align-self: flex-end;width: 50%;}#sk-container-id-4 div.sk-parallel-item:last-child::after {align-self: flex-start;width: 50%;}#sk-container-id-4 div.sk-parallel-item:only-child::after {width: 0;}#sk-container-id-4 div.sk-dashed-wrapped {border: 1px dashed gray;margin: 0 0.4em 0.5em 0.4em;box-sizing: border-box;padding-bottom: 0.4em;background-color: white;}#sk-container-id-4 div.sk-label label {font-family: monospace;font-weight: bold;display: inline-block;line-height: 1.2em;}#sk-container-id-4 div.sk-label-container {text-align: center;}#sk-container-id-4 div.sk-container {/* jupyter's `normalize.less` sets `[hidden] { display: none; }` but bootstrap.min.css set `[hidden] { display: none !important; }` so we also need the `!important` here to be able to override the default hidden behavior on the sphinx rendered scikit-learn.org. See: https://github.com/scikit-learn/scikit-learn/issues/21755 */display: inline-block !important;position: relative;}#sk-container-id-4 div.sk-text-repr-fallback {display: none;}</style><div id=\"sk-container-id-4\" class=\"sk-top-container\"><div class=\"sk-text-repr-fallback\"><pre>LinearRegression()</pre><b>In a Jupyter environment, please rerun this cell to show the HTML representation or trust the notebook. <br />On GitHub, the HTML representation is unable to render, please try loading this page with nbviewer.org.</b></div><div class=\"sk-container\" hidden><div class=\"sk-item\"><div class=\"sk-estimator sk-toggleable\"><input class=\"sk-toggleable__control sk-hidden--visually\" id=\"sk-estimator-id-4\" type=\"checkbox\" checked><label for=\"sk-estimator-id-4\" class=\"sk-toggleable__label sk-toggleable__label-arrow\">LinearRegression</label><div class=\"sk-toggleable__content\"><pre>LinearRegression()</pre></div></div></div></div></div>"
      ],
      "text/plain": [
       "LinearRegression()"
      ]
     },
     "execution_count": 87,
     "metadata": {},
     "output_type": "execute_result"
    }
   ],
   "source": [
    "# Fit the regression object onto the training set.\n",
    "\n",
    "regression_dist.fit(X_train, y_train)"
   ]
  },
  {
   "cell_type": "code",
   "execution_count": 88,
   "metadata": {},
   "outputs": [],
   "source": [
    "# Predict the values of y using X.\n",
    "\n",
    "y_predicted = regression_dist.predict(X_test)"
   ]
  },
  {
   "cell_type": "code",
   "execution_count": 89,
   "metadata": {},
   "outputs": [
    {
     "data": {
      "image/png": "[encoded data removed]",
      "text/plain": [
       "<Figure size 640x480 with 1 Axes>"
      ]
     },
     "metadata": {},
     "output_type": "display_data"
    }
   ],
   "source": [
    "# Create a plot that shows the regression line from the model on the test set.\n",
    "\n",
    "plot_test = plt\n",
    "plot_test.scatter(X_test, y_test, color='gray', s = 15)\n",
    "plot_test.plot(X_test, y_predicted, color='red', linewidth =3)\n",
    "plot_test.title('District Population Growth vs. Price per Unit (Test set)')\n",
    "plot_test.xlabel('districtPopTrend')\n",
    "plot_test.ylabel('price/unit')\n",
    "plot_test.show()"
   ]
  },
  {
   "cell_type": "code",
   "execution_count": 90,
   "metadata": {},
   "outputs": [],
   "source": [
    "# Create objects that contain the model summary statistics.\n",
    "\n",
    "rmse = mean_squared_error(y_test, y_predicted) # This is the mean squared error\n",
    "r2 = r2_score(y_test, y_predicted) # This is the R2 score. "
   ]
  },
  {
   "cell_type": "code",
   "execution_count": 91,
   "metadata": {},
   "outputs": [
    {
     "name": "stdout",
     "output_type": "stream",
     "text": [
      "Slope: [[12.94572167]]\n",
      "Mean squared error:  137.85996152258795\n",
      "R2 score:  0.06331340193048629\n"
     ]
    }
   ],
   "source": [
    "# Print the model summary statistics. This is where you evaluate the performance of the model.\n",
    "\n",
    "print('Slope:' ,regression.coef_)\n",
    "print('Mean squared error: ', rmse)\n",
    "print('R2 score: ', r2)"
   ]
  },
  {
   "cell_type": "markdown",
   "metadata": {},
   "source": [
    "Observations: There is no clear linear relationship between district population growth and price per unit. Units in areas where the population is growing at a higher rate tend to have a higher cost per unit, but the effect is small. I think there was too much variability in the data to draw an accurate regression line."
   ]
  },
  {
   "cell_type": "code",
   "execution_count": 92,
   "metadata": {},
   "outputs": [
    {
     "data": {
      "text/plain": [
       "array([[12.86612965],\n",
       "       [12.45616628],\n",
       "       [11.40197476],\n",
       "       ...,\n",
       "       [12.45616628],\n",
       "       [13.86175497],\n",
       "       [16.79006473]])"
      ]
     },
     "execution_count": 92,
     "metadata": {},
     "output_type": "execute_result"
    }
   ],
   "source": [
    "y_predicted"
   ]
  },
  {
   "cell_type": "code",
   "execution_count": 93,
   "metadata": {
    "scrolled": true
   },
   "outputs": [
    {
     "data": {
      "text/html": [
       "<div>\n",
       "<style scoped>\n",
       "    .dataframe tbody tr th:only-of-type {\n",
       "        vertical-align: middle;\n",
       "    }\n",
       "\n",
       "    .dataframe tbody tr th {\n",
       "        vertical-align: top;\n",
       "    }\n",
       "\n",
       "    .dataframe thead th {\n",
       "        text-align: right;\n",
       "    }\n",
       "</style>\n",
       "<table border=\"1\" class=\"dataframe\">\n",
       "  <thead>\n",
       "    <tr style=\"text-align: right;\">\n",
       "      <th></th>\n",
       "      <th>Actual</th>\n",
       "      <th>Predicted</th>\n",
       "    </tr>\n",
       "  </thead>\n",
       "  <tbody>\n",
       "    <tr>\n",
       "      <th>0</th>\n",
       "      <td>16.847826</td>\n",
       "      <td>12.866130</td>\n",
       "    </tr>\n",
       "    <tr>\n",
       "      <th>1</th>\n",
       "      <td>3.388442</td>\n",
       "      <td>12.456166</td>\n",
       "    </tr>\n",
       "    <tr>\n",
       "      <th>2</th>\n",
       "      <td>7.652325</td>\n",
       "      <td>11.401975</td>\n",
       "    </tr>\n",
       "    <tr>\n",
       "      <th>3</th>\n",
       "      <td>4.563957</td>\n",
       "      <td>12.456166</td>\n",
       "    </tr>\n",
       "    <tr>\n",
       "      <th>4</th>\n",
       "      <td>29.257721</td>\n",
       "      <td>13.744623</td>\n",
       "    </tr>\n",
       "    <tr>\n",
       "      <th>5</th>\n",
       "      <td>13.264536</td>\n",
       "      <td>14.623116</td>\n",
       "    </tr>\n",
       "    <tr>\n",
       "      <th>6</th>\n",
       "      <td>17.045455</td>\n",
       "      <td>11.050578</td>\n",
       "    </tr>\n",
       "    <tr>\n",
       "      <th>7</th>\n",
       "      <td>47.720588</td>\n",
       "      <td>17.082896</td>\n",
       "    </tr>\n",
       "    <tr>\n",
       "      <th>8</th>\n",
       "      <td>5.865031</td>\n",
       "      <td>18.371352</td>\n",
       "    </tr>\n",
       "    <tr>\n",
       "      <th>9</th>\n",
       "      <td>7.750000</td>\n",
       "      <td>13.510358</td>\n",
       "    </tr>\n",
       "    <tr>\n",
       "      <th>10</th>\n",
       "      <td>10.555556</td>\n",
       "      <td>14.330285</td>\n",
       "    </tr>\n",
       "    <tr>\n",
       "      <th>11</th>\n",
       "      <td>9.345455</td>\n",
       "      <td>11.343409</td>\n",
       "    </tr>\n",
       "    <tr>\n",
       "      <th>12</th>\n",
       "      <td>23.800000</td>\n",
       "      <td>12.748997</td>\n",
       "    </tr>\n",
       "    <tr>\n",
       "      <th>13</th>\n",
       "      <td>22.064467</td>\n",
       "      <td>15.501608</td>\n",
       "    </tr>\n",
       "    <tr>\n",
       "      <th>14</th>\n",
       "      <td>10.645231</td>\n",
       "      <td>10.640614</td>\n",
       "    </tr>\n",
       "    <tr>\n",
       "      <th>15</th>\n",
       "      <td>22.975518</td>\n",
       "      <td>13.686056</td>\n",
       "    </tr>\n",
       "    <tr>\n",
       "      <th>16</th>\n",
       "      <td>10.102584</td>\n",
       "      <td>6.540981</td>\n",
       "    </tr>\n",
       "    <tr>\n",
       "      <th>17</th>\n",
       "      <td>9.528908</td>\n",
       "      <td>16.848631</td>\n",
       "    </tr>\n",
       "    <tr>\n",
       "      <th>18</th>\n",
       "      <td>2.751468</td>\n",
       "      <td>14.623116</td>\n",
       "    </tr>\n",
       "    <tr>\n",
       "      <th>19</th>\n",
       "      <td>10.000000</td>\n",
       "      <td>14.388851</td>\n",
       "    </tr>\n",
       "    <tr>\n",
       "      <th>20</th>\n",
       "      <td>28.693548</td>\n",
       "      <td>15.384476</td>\n",
       "    </tr>\n",
       "    <tr>\n",
       "      <th>21</th>\n",
       "      <td>7.867804</td>\n",
       "      <td>7.478040</td>\n",
       "    </tr>\n",
       "    <tr>\n",
       "      <th>22</th>\n",
       "      <td>36.709337</td>\n",
       "      <td>20.421169</td>\n",
       "    </tr>\n",
       "    <tr>\n",
       "      <th>23</th>\n",
       "      <td>11.464885</td>\n",
       "      <td>6.423848</td>\n",
       "    </tr>\n",
       "    <tr>\n",
       "      <th>24</th>\n",
       "      <td>5.983051</td>\n",
       "      <td>15.970138</td>\n",
       "    </tr>\n",
       "    <tr>\n",
       "      <th>25</th>\n",
       "      <td>28.188406</td>\n",
       "      <td>20.421169</td>\n",
       "    </tr>\n",
       "    <tr>\n",
       "      <th>26</th>\n",
       "      <td>10.451706</td>\n",
       "      <td>16.380101</td>\n",
       "    </tr>\n",
       "    <tr>\n",
       "      <th>27</th>\n",
       "      <td>19.878081</td>\n",
       "      <td>12.748997</td>\n",
       "    </tr>\n",
       "    <tr>\n",
       "      <th>28</th>\n",
       "      <td>7.675195</td>\n",
       "      <td>14.213152</td>\n",
       "    </tr>\n",
       "    <tr>\n",
       "      <th>29</th>\n",
       "      <td>16.286826</td>\n",
       "      <td>10.757747</td>\n",
       "    </tr>\n",
       "  </tbody>\n",
       "</table>\n",
       "</div>"
      ],
      "text/plain": [
       "       Actual  Predicted\n",
       "0   16.847826  12.866130\n",
       "1    3.388442  12.456166\n",
       "2    7.652325  11.401975\n",
       "3    4.563957  12.456166\n",
       "4   29.257721  13.744623\n",
       "5   13.264536  14.623116\n",
       "6   17.045455  11.050578\n",
       "7   47.720588  17.082896\n",
       "8    5.865031  18.371352\n",
       "9    7.750000  13.510358\n",
       "10  10.555556  14.330285\n",
       "11   9.345455  11.343409\n",
       "12  23.800000  12.748997\n",
       "13  22.064467  15.501608\n",
       "14  10.645231  10.640614\n",
       "15  22.975518  13.686056\n",
       "16  10.102584   6.540981\n",
       "17   9.528908  16.848631\n",
       "18   2.751468  14.623116\n",
       "19  10.000000  14.388851\n",
       "20  28.693548  15.384476\n",
       "21   7.867804   7.478040\n",
       "22  36.709337  20.421169\n",
       "23  11.464885   6.423848\n",
       "24   5.983051  15.970138\n",
       "25  28.188406  20.421169\n",
       "26  10.451706  16.380101\n",
       "27  19.878081  12.748997\n",
       "28   7.675195  14.213152\n",
       "29  16.286826  10.757747"
      ]
     },
     "execution_count": 93,
     "metadata": {},
     "output_type": "execute_result"
    }
   ],
   "source": [
    "# Create a dataframe comparing the actual and predicted values of y.\n",
    "\n",
    "data = pd.DataFrame({'Actual': y_test.flatten(), 'Predicted': y_predicted.flatten()})\n",
    "data.head(30)"
   ]
  },
  {
   "cell_type": "markdown",
   "metadata": {},
   "source": [
    "### Bonus: performance improvement after removing outliers"
   ]
  },
  {
   "cell_type": "markdown",
   "metadata": {},
   "source": [
    "I will again assess the relationship between district population and unit price after removing some outliers in both categories."
   ]
  },
  {
   "cell_type": "code",
   "execution_count": 95,
   "metadata": {},
   "outputs": [],
   "source": [
    "# Clean extreme values from the df\n",
    "\n",
    "price_dist_2 = price_dist_pop[(price_dist_pop['districtPopTrend'] <=2) & (price_dist_pop['price/unit'] < 250)]\n"
   ]
  },
  {
   "cell_type": "code",
   "execution_count": 97,
   "metadata": {},
   "outputs": [
    {
     "data": {
      "image/png": "[encoded data removed]",
      "text/plain": [
       "<Figure size 640x480 with 1 Axes>"
      ]
     },
     "metadata": {},
     "output_type": "display_data"
    }
   ],
   "source": [
    "# See how the scatterplot looks without outliers.\n",
    "\n",
    "price_dist_2.plot(x = 'districtPopTrend', y='price/unit',style='o') # The style option creates a scatterplot; without it, we only have lines.\n",
    "plt.title('District Population vs. Unit Price, without outliers')  \n",
    "plt.xlabel('districtPopTrend')  \n",
    "plt.ylabel('price/unit')  \n",
    "plt.show()"
   ]
  },
  {
   "cell_type": "code",
   "execution_count": 98,
   "metadata": {},
   "outputs": [],
   "source": [
    "# Reshape again.\n",
    "\n",
    "X_4 = price_dist_2['districtPopTrend'].values.reshape(-1,1)\n",
    "y_4 = price_dist_2['price/unit'].values.reshape(-1,1)"
   ]
  },
  {
   "cell_type": "code",
   "execution_count": 99,
   "metadata": {
    "scrolled": true
   },
   "outputs": [],
   "source": [
    "X_train_4, X_test_4, y_train_4, y_test_4 = train_test_split(X_4, y_4, test_size=0.3, random_state=0)"
   ]
  },
  {
   "cell_type": "code",
   "execution_count": 100,
   "metadata": {},
   "outputs": [
    {
     "data": {
      "text/html": [
       "<style>#sk-container-id-5 {color: black;background-color: white;}#sk-container-id-5 pre{padding: 0;}#sk-container-id-5 div.sk-toggleable {background-color: white;}#sk-container-id-5 label.sk-toggleable__label {cursor: pointer;display: block;width: 100%;margin-bottom: 0;padding: 0.3em;box-sizing: border-box;text-align: center;}#sk-container-id-5 label.sk-toggleable__label-arrow:before {content: \"▸\";float: left;margin-right: 0.25em;color: #696969;}#sk-container-id-5 label.sk-toggleable__label-arrow:hover:before {color: black;}#sk-container-id-5 div.sk-estimator:hover label.sk-toggleable__label-arrow:before {color: black;}#sk-container-id-5 div.sk-toggleable__content {max-height: 0;max-width: 0;overflow: hidden;text-align: left;background-color: #f0f8ff;}#sk-container-id-5 div.sk-toggleable__content pre {margin: 0.2em;color: black;border-radius: 0.25em;background-color: #f0f8ff;}#sk-container-id-5 input.sk-toggleable__control:checked~div.sk-toggleable__content {max-height: 200px;max-width: 100%;overflow: auto;}#sk-container-id-5 input.sk-toggleable__control:checked~label.sk-toggleable__label-arrow:before {content: \"▾\";}#sk-container-id-5 div.sk-estimator input.sk-toggleable__control:checked~label.sk-toggleable__label {background-color: #d4ebff;}#sk-container-id-5 div.sk-label input.sk-toggleable__control:checked~label.sk-toggleable__label {background-color: #d4ebff;}#sk-container-id-5 input.sk-hidden--visually {border: 0;clip: rect(1px 1px 1px 1px);clip: rect(1px, 1px, 1px, 1px);height: 1px;margin: -1px;overflow: hidden;padding: 0;position: absolute;width: 1px;}#sk-container-id-5 div.sk-estimator {font-family: monospace;background-color: #f0f8ff;border: 1px dotted black;border-radius: 0.25em;box-sizing: border-box;margin-bottom: 0.5em;}#sk-container-id-5 div.sk-estimator:hover {background-color: #d4ebff;}#sk-container-id-5 div.sk-parallel-item::after {content: \"\";width: 100%;border-bottom: 1px solid gray;flex-grow: 1;}#sk-container-id-5 div.sk-label:hover label.sk-toggleable__label {background-color: #d4ebff;}#sk-container-id-5 div.sk-serial::before {content: \"\";position: absolute;border-left: 1px solid gray;box-sizing: border-box;top: 0;bottom: 0;left: 50%;z-index: 0;}#sk-container-id-5 div.sk-serial {display: flex;flex-direction: column;align-items: center;background-color: white;padding-right: 0.2em;padding-left: 0.2em;position: relative;}#sk-container-id-5 div.sk-item {position: relative;z-index: 1;}#sk-container-id-5 div.sk-parallel {display: flex;align-items: stretch;justify-content: center;background-color: white;position: relative;}#sk-container-id-5 div.sk-item::before, #sk-container-id-5 div.sk-parallel-item::before {content: \"\";position: absolute;border-left: 1px solid gray;box-sizing: border-box;top: 0;bottom: 0;left: 50%;z-index: -1;}#sk-container-id-5 div.sk-parallel-item {display: flex;flex-direction: column;z-index: 1;position: relative;background-color: white;}#sk-container-id-5 div.sk-parallel-item:first-child::after {align-self: flex-end;width: 50%;}#sk-container-id-5 div.sk-parallel-item:last-child::after {align-self: flex-start;width: 50%;}#sk-container-id-5 div.sk-parallel-item:only-child::after {width: 0;}#sk-container-id-5 div.sk-dashed-wrapped {border: 1px dashed gray;margin: 0 0.4em 0.5em 0.4em;box-sizing: border-box;padding-bottom: 0.4em;background-color: white;}#sk-container-id-5 div.sk-label label {font-family: monospace;font-weight: bold;display: inline-block;line-height: 1.2em;}#sk-container-id-5 div.sk-label-container {text-align: center;}#sk-container-id-5 div.sk-container {/* jupyter's `normalize.less` sets `[hidden] { display: none; }` but bootstrap.min.css set `[hidden] { display: none !important; }` so we also need the `!important` here to be able to override the default hidden behavior on the sphinx rendered scikit-learn.org. See: https://github.com/scikit-learn/scikit-learn/issues/21755 */display: inline-block !important;position: relative;}#sk-container-id-5 div.sk-text-repr-fallback {display: none;}</style><div id=\"sk-container-id-5\" class=\"sk-top-container\"><div class=\"sk-text-repr-fallback\"><pre>LinearRegression()</pre><b>In a Jupyter environment, please rerun this cell to show the HTML representation or trust the notebook. <br />On GitHub, the HTML representation is unable to render, please try loading this page with nbviewer.org.</b></div><div class=\"sk-container\" hidden><div class=\"sk-item\"><div class=\"sk-estimator sk-toggleable\"><input class=\"sk-toggleable__control sk-hidden--visually\" id=\"sk-estimator-id-5\" type=\"checkbox\" checked><label for=\"sk-estimator-id-5\" class=\"sk-toggleable__label sk-toggleable__label-arrow\">LinearRegression</label><div class=\"sk-toggleable__content\"><pre>LinearRegression()</pre></div></div></div></div></div>"
      ],
      "text/plain": [
       "LinearRegression()"
      ]
     },
     "execution_count": 100,
     "metadata": {},
     "output_type": "execute_result"
    }
   ],
   "source": [
    "# Run and fit the regression.\n",
    "\n",
    "regression_dist = LinearRegression()  \n",
    "regression_dist.fit(X_train_4, y_train_4)"
   ]
  },
  {
   "cell_type": "code",
   "execution_count": 101,
   "metadata": {},
   "outputs": [],
   "source": [
    "# Predict.\n",
    "\n",
    "y_predicted_4 = regression_dist.predict(X_test_4)"
   ]
  },
  {
   "cell_type": "code",
   "execution_count": 102,
   "metadata": {},
   "outputs": [],
   "source": [
    "rmse = mean_squared_error(y_test_4, y_predicted_4)\n",
    "r2 = r2_score(y_test_4, y_predicted_4)"
   ]
  },
  {
   "cell_type": "code",
   "execution_count": 103,
   "metadata": {},
   "outputs": [
    {
     "name": "stdout",
     "output_type": "stream",
     "text": [
      "Slope: [[5.93173491]]\n",
      "Mean squared error:  134.2609705717694\n",
      "R2 score:  0.06788280878507846\n"
     ]
    }
   ],
   "source": [
    "print('Slope:' ,regression_dist.coef_)\n",
    "print('Mean squared error: ', rmse)\n",
    "print('R2 score: ', r2)"
   ]
  },
  {
   "cell_type": "code",
   "execution_count": 104,
   "metadata": {
    "scrolled": true
   },
   "outputs": [
    {
     "data": {
      "image/png": "[encoded data removed]",
      "text/plain": [
       "<Figure size 640x480 with 1 Axes>"
      ]
     },
     "metadata": {},
     "output_type": "display_data"
    }
   ],
   "source": [
    "# Visualizing the test set results.\n",
    "plot_test = plt\n",
    "plot_test.scatter(X_test_4, y_test_4, color='gray', s = 15)\n",
    "plot_test.plot(X_test_4, y_predicted_4, color='red', linewidth =3)\n",
    "plot_test.title('District Population Growth and Unit Price (Test set)')\n",
    "plot_test.xlabel('districtPopTrend')\n",
    "plot_test.ylabel('price/unit')\n",
    "plot_test.show()"
   ]
  },
  {
   "cell_type": "markdown",
   "metadata": {},
   "source": [
    "Observations: The regression line is minimally more accurate after removing outliers, but not enough to suggest a linear relationship between the two variables."
   ]
  }
 ],
 "metadata": {
  "kernelspec": {
   "display_name": "Python 3 (ipykernel)",
   "language": "python",
   "name": "python3"
  },
  "language_info": {
   "codemirror_mode": {
    "name": "ipython",
    "version": 3
   },
   "file_extension": ".py",
   "mimetype": "text/x-python",
   "name": "python",
   "nbconvert_exporter": "python",
   "pygments_lexer": "ipython3",
   "version": "3.10.9"
  }
 },
 "nbformat": 4,
 "nbformat_minor": 4
}

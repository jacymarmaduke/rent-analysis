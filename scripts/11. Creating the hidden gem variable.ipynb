{
 "cells": [
  {
   "cell_type": "markdown",
   "id": "1a92d5c5",
   "metadata": {},
   "source": [
    "## This notebook contains:\n",
    "### 01. Import libraries and data\n",
    "### 02. Create hidden gem variable\n",
    "\n",
    "The hidden gem variable is an effort to measure a property's rent relative to the population growth in the district where it's located (a measure that would likely indicate the area is a desirable place to live). I mapped this variable in the Tableau presentation that accompanies this project."
   ]
  },
  {
   "cell_type": "markdown",
   "id": "8aa3b3ea",
   "metadata": {},
   "source": [
    "# 01. Import libraries and data"
   ]
  },
  {
   "cell_type": "code",
   "execution_count": 1,
   "id": "8b8ca83b",
   "metadata": {},
   "outputs": [],
   "source": [
    "import pandas as pd\n",
    "import numpy as np\n",
    "import seaborn as sns\n",
    "import matplotlib\n",
    "import matplotlib.pyplot as plt\n",
    "import os\n",
    "import sklearn"
   ]
  },
  {
   "cell_type": "code",
   "execution_count": 2,
   "id": "c4316836",
   "metadata": {},
   "outputs": [],
   "source": [
    "# This command prompts matplotlib visuals to appear in the notebook \n",
    "\n",
    "%matplotlib inline"
   ]
  },
  {
   "cell_type": "code",
   "execution_count": 3,
   "id": "d7b31b62",
   "metadata": {},
   "outputs": [],
   "source": [
    "path = r'C:\\Users\\jacym\\Desktop\\Career Foundry projects\\german rent'"
   ]
  },
  {
   "cell_type": "code",
   "execution_count": 70,
   "id": "e4dc434b",
   "metadata": {},
   "outputs": [],
   "source": [
    "# Import rent data\n",
    "\n",
    "df = pd.read_csv(os.path.join(path, '02 data', 'cleaned data', 'rent_districts_mapping.csv'), index_col = False)"
   ]
  },
  {
   "cell_type": "code",
   "execution_count": 5,
   "id": "cb64451a",
   "metadata": {},
   "outputs": [
    {
     "data": {
      "text/html": [
       "<div>\n",
       "<style scoped>\n",
       "    .dataframe tbody tr th:only-of-type {\n",
       "        vertical-align: middle;\n",
       "    }\n",
       "\n",
       "    .dataframe tbody tr th {\n",
       "        vertical-align: top;\n",
       "    }\n",
       "\n",
       "    .dataframe thead th {\n",
       "        text-align: right;\n",
       "    }\n",
       "</style>\n",
       "<table border=\"1\" class=\"dataframe\">\n",
       "  <thead>\n",
       "    <tr style=\"text-align: right;\">\n",
       "      <th></th>\n",
       "      <th>scoutId</th>\n",
       "      <th>regio1</th>\n",
       "      <th>baseRent</th>\n",
       "      <th>totalRent</th>\n",
       "      <th>pricetrend</th>\n",
       "      <th>livingSpace</th>\n",
       "      <th>plz</th>\n",
       "      <th>picturecount</th>\n",
       "      <th>newlyConst</th>\n",
       "      <th>yearConstructed</th>\n",
       "      <th>...</th>\n",
       "      <th>population</th>\n",
       "      <th>populationTrend</th>\n",
       "      <th>popTrendCat</th>\n",
       "      <th>surfaceArea</th>\n",
       "      <th>populationDensity</th>\n",
       "      <th>space/person</th>\n",
       "      <th>people/apt</th>\n",
       "      <th>districtPopTrend</th>\n",
       "      <th>districtPop</th>\n",
       "      <th>price/unit</th>\n",
       "    </tr>\n",
       "  </thead>\n",
       "  <tbody>\n",
       "    <tr>\n",
       "      <th>0</th>\n",
       "      <td>96107057</td>\n",
       "      <td>Nordrhein-Westfalen</td>\n",
       "      <td>595.0</td>\n",
       "      <td>840.00</td>\n",
       "      <td>4.62</td>\n",
       "      <td>86.00</td>\n",
       "      <td>44269</td>\n",
       "      <td>6</td>\n",
       "      <td>False</td>\n",
       "      <td>1965.0</td>\n",
       "      <td>...</td>\n",
       "      <td>17935147</td>\n",
       "      <td>-0.02</td>\n",
       "      <td>stable</td>\n",
       "      <td>34098</td>\n",
       "      <td>526</td>\n",
       "      <td>41.41</td>\n",
       "      <td>2.12</td>\n",
       "      <td>0.33</td>\n",
       "      <td>587010</td>\n",
       "      <td>9.767442</td>\n",
       "    </tr>\n",
       "    <tr>\n",
       "      <th>1</th>\n",
       "      <td>92798563</td>\n",
       "      <td>Nordrhein-Westfalen</td>\n",
       "      <td>972.6</td>\n",
       "      <td>1320.65</td>\n",
       "      <td>3.76</td>\n",
       "      <td>87.00</td>\n",
       "      <td>44229</td>\n",
       "      <td>12</td>\n",
       "      <td>True</td>\n",
       "      <td>2018.0</td>\n",
       "      <td>...</td>\n",
       "      <td>17935147</td>\n",
       "      <td>-0.02</td>\n",
       "      <td>stable</td>\n",
       "      <td>34098</td>\n",
       "      <td>526</td>\n",
       "      <td>41.41</td>\n",
       "      <td>2.12</td>\n",
       "      <td>0.33</td>\n",
       "      <td>587010</td>\n",
       "      <td>15.179885</td>\n",
       "    </tr>\n",
       "    <tr>\n",
       "      <th>2</th>\n",
       "      <td>114894763</td>\n",
       "      <td>Nordrhein-Westfalen</td>\n",
       "      <td>396.8</td>\n",
       "      <td>493.80</td>\n",
       "      <td>4.10</td>\n",
       "      <td>62.00</td>\n",
       "      <td>44137</td>\n",
       "      <td>0</td>\n",
       "      <td>False</td>\n",
       "      <td>1958.0</td>\n",
       "      <td>...</td>\n",
       "      <td>17935147</td>\n",
       "      <td>-0.02</td>\n",
       "      <td>stable</td>\n",
       "      <td>34098</td>\n",
       "      <td>526</td>\n",
       "      <td>41.41</td>\n",
       "      <td>2.12</td>\n",
       "      <td>0.33</td>\n",
       "      <td>587010</td>\n",
       "      <td>7.964516</td>\n",
       "    </tr>\n",
       "    <tr>\n",
       "      <th>3</th>\n",
       "      <td>90046012</td>\n",
       "      <td>Nordrhein-Westfalen</td>\n",
       "      <td>310.0</td>\n",
       "      <td>460.00</td>\n",
       "      <td>3.28</td>\n",
       "      <td>55.00</td>\n",
       "      <td>44329</td>\n",
       "      <td>14</td>\n",
       "      <td>False</td>\n",
       "      <td>1930.0</td>\n",
       "      <td>...</td>\n",
       "      <td>17935147</td>\n",
       "      <td>-0.02</td>\n",
       "      <td>stable</td>\n",
       "      <td>34098</td>\n",
       "      <td>526</td>\n",
       "      <td>41.41</td>\n",
       "      <td>2.12</td>\n",
       "      <td>0.33</td>\n",
       "      <td>587010</td>\n",
       "      <td>8.363636</td>\n",
       "    </tr>\n",
       "    <tr>\n",
       "      <th>4</th>\n",
       "      <td>87928570</td>\n",
       "      <td>Nordrhein-Westfalen</td>\n",
       "      <td>301.0</td>\n",
       "      <td>NaN</td>\n",
       "      <td>4.41</td>\n",
       "      <td>30.07</td>\n",
       "      <td>44137</td>\n",
       "      <td>31</td>\n",
       "      <td>False</td>\n",
       "      <td>1979.0</td>\n",
       "      <td>...</td>\n",
       "      <td>17935147</td>\n",
       "      <td>-0.02</td>\n",
       "      <td>stable</td>\n",
       "      <td>34098</td>\n",
       "      <td>526</td>\n",
       "      <td>41.41</td>\n",
       "      <td>2.12</td>\n",
       "      <td>0.33</td>\n",
       "      <td>587010</td>\n",
       "      <td>NaN</td>\n",
       "    </tr>\n",
       "  </tbody>\n",
       "</table>\n",
       "<p>5 rows × 40 columns</p>\n",
       "</div>"
      ],
      "text/plain": [
       "     scoutId               regio1  baseRent  totalRent  pricetrend  \\\n",
       "0   96107057  Nordrhein-Westfalen     595.0     840.00        4.62   \n",
       "1   92798563  Nordrhein-Westfalen     972.6    1320.65        3.76   \n",
       "2  114894763  Nordrhein-Westfalen     396.8     493.80        4.10   \n",
       "3   90046012  Nordrhein-Westfalen     310.0     460.00        3.28   \n",
       "4   87928570  Nordrhein-Westfalen     301.0        NaN        4.41   \n",
       "\n",
       "   livingSpace    plz  picturecount  newlyConst  yearConstructed  ...  \\\n",
       "0        86.00  44269             6       False           1965.0  ...   \n",
       "1        87.00  44229            12        True           2018.0  ...   \n",
       "2        62.00  44137             0       False           1958.0  ...   \n",
       "3        55.00  44329            14       False           1930.0  ...   \n",
       "4        30.07  44137            31       False           1979.0  ...   \n",
       "\n",
       "  population populationTrend  popTrendCat  surfaceArea populationDensity  \\\n",
       "0   17935147           -0.02       stable        34098               526   \n",
       "1   17935147           -0.02       stable        34098               526   \n",
       "2   17935147           -0.02       stable        34098               526   \n",
       "3   17935147           -0.02       stable        34098               526   \n",
       "4   17935147           -0.02       stable        34098               526   \n",
       "\n",
       "  space/person  people/apt districtPopTrend  districtPop  price/unit  \n",
       "0        41.41        2.12             0.33       587010    9.767442  \n",
       "1        41.41        2.12             0.33       587010   15.179885  \n",
       "2        41.41        2.12             0.33       587010    7.964516  \n",
       "3        41.41        2.12             0.33       587010    8.363636  \n",
       "4        41.41        2.12             0.33       587010         NaN  \n",
       "\n",
       "[5 rows x 40 columns]"
      ]
     },
     "execution_count": 5,
     "metadata": {},
     "output_type": "execute_result"
    }
   ],
   "source": [
    "df.head()"
   ]
  },
  {
   "cell_type": "code",
   "execution_count": 6,
   "id": "0caa885c",
   "metadata": {},
   "outputs": [
    {
     "data": {
      "text/plain": [
       "(257607, 40)"
      ]
     },
     "execution_count": 6,
     "metadata": {},
     "output_type": "execute_result"
    }
   ],
   "source": [
    "df.shape"
   ]
  },
  {
   "cell_type": "code",
   "execution_count": 7,
   "id": "d24c17b2",
   "metadata": {},
   "outputs": [
    {
     "data": {
      "text/plain": [
       "scoutId                     0\n",
       "regio1                      0\n",
       "baseRent                    0\n",
       "totalRent               39303\n",
       "pricetrend               1708\n",
       "livingSpace                70\n",
       "plz                         0\n",
       "picturecount                0\n",
       "newlyConst                  0\n",
       "yearConstructed         54395\n",
       "firingTypes             54416\n",
       "heatingType             42643\n",
       "hasKitchen                  0\n",
       "cellar                      0\n",
       "condition               64656\n",
       "street                      0\n",
       "lift                        0\n",
       "typeOfFlat              34068\n",
       "noRooms                     0\n",
       "floor                   49404\n",
       "balcony                     0\n",
       "garden                      0\n",
       "baseRentRange               0\n",
       "noRoomsRange                0\n",
       "livingSpaceRange            0\n",
       "yearConstructedRange    54395\n",
       "regio2                      0\n",
       "regio3                      0\n",
       "description             18209\n",
       "date                        0\n",
       "population                  0\n",
       "populationTrend             0\n",
       "popTrendCat                 0\n",
       "surfaceArea                 0\n",
       "populationDensity           0\n",
       "space/person                0\n",
       "people/apt                  0\n",
       "districtPopTrend            0\n",
       "districtPop                 0\n",
       "price/unit              39356\n",
       "dtype: int64"
      ]
     },
     "execution_count": 7,
     "metadata": {},
     "output_type": "execute_result"
    }
   ],
   "source": [
    "df.isnull().sum()"
   ]
  },
  {
   "cell_type": "code",
   "execution_count": 9,
   "id": "5c4ce08e",
   "metadata": {},
   "outputs": [],
   "source": [
    "pd.set_option('display.max_columns', 500)"
   ]
  },
  {
   "cell_type": "markdown",
   "id": "834c43fd",
   "metadata": {},
   "source": [
    "# 02. Create hidden gem variable"
   ]
  },
  {
   "cell_type": "code",
   "execution_count": 71,
   "id": "667316bb",
   "metadata": {},
   "outputs": [],
   "source": [
    "# create hidden gem variable \n",
    "df['hiddenGem'] = df['districtPopTrend']/df['price/unit']"
   ]
  },
  {
   "cell_type": "code",
   "execution_count": 27,
   "id": "81a3ddc4",
   "metadata": {},
   "outputs": [
    {
     "data": {
      "text/plain": [
       "<Axes: xlabel='hiddenGem', ylabel='Count'>"
      ]
     },
     "execution_count": 27,
     "metadata": {},
     "output_type": "execute_result"
    },
    {
     "data": {
      "image/png": "[encoded data removed]",
      "text/plain": [
       "<Figure size 640x480 with 1 Axes>"
      ]
     },
     "metadata": {},
     "output_type": "display_data"
    }
   ],
   "source": [
    "# check variable distribution\n",
    "sns.histplot(df['hiddenGem'], bins=75, kde = True)"
   ]
  },
  {
   "cell_type": "code",
   "execution_count": 13,
   "id": "96107d09",
   "metadata": {},
   "outputs": [
    {
     "data": {
      "text/html": [
       "<div>\n",
       "<style scoped>\n",
       "    .dataframe tbody tr th:only-of-type {\n",
       "        vertical-align: middle;\n",
       "    }\n",
       "\n",
       "    .dataframe tbody tr th {\n",
       "        vertical-align: top;\n",
       "    }\n",
       "\n",
       "    .dataframe thead th {\n",
       "        text-align: right;\n",
       "    }\n",
       "</style>\n",
       "<table border=\"1\" class=\"dataframe\">\n",
       "  <thead>\n",
       "    <tr style=\"text-align: right;\">\n",
       "      <th></th>\n",
       "      <th>hiddenGem</th>\n",
       "    </tr>\n",
       "  </thead>\n",
       "  <tbody>\n",
       "    <tr>\n",
       "      <th>mean</th>\n",
       "      <td>0.039438</td>\n",
       "    </tr>\n",
       "    <tr>\n",
       "      <th>median</th>\n",
       "      <td>0.041057</td>\n",
       "    </tr>\n",
       "    <tr>\n",
       "      <th>min</th>\n",
       "      <td>-0.339873</td>\n",
       "    </tr>\n",
       "    <tr>\n",
       "      <th>max</th>\n",
       "      <td>1.338375</td>\n",
       "    </tr>\n",
       "    <tr>\n",
       "      <th>std</th>\n",
       "      <td>0.056289</td>\n",
       "    </tr>\n",
       "  </tbody>\n",
       "</table>\n",
       "</div>"
      ],
      "text/plain": [
       "        hiddenGem\n",
       "mean     0.039438\n",
       "median   0.041057\n",
       "min     -0.339873\n",
       "max      1.338375\n",
       "std      0.056289"
      ]
     },
     "execution_count": 13,
     "metadata": {},
     "output_type": "execute_result"
    }
   ],
   "source": [
    "# view variable statistics\n",
    "df.agg({'hiddenGem':['mean', 'median', 'min', 'max', 'std']})"
   ]
  },
  {
   "cell_type": "code",
   "execution_count": 12,
   "id": "8c816c12",
   "metadata": {},
   "outputs": [
    {
     "data": {
      "text/html": [
       "<div>\n",
       "<style scoped>\n",
       "    .dataframe tbody tr th:only-of-type {\n",
       "        vertical-align: middle;\n",
       "    }\n",
       "\n",
       "    .dataframe tbody tr th {\n",
       "        vertical-align: top;\n",
       "    }\n",
       "\n",
       "    .dataframe thead tr th {\n",
       "        text-align: left;\n",
       "    }\n",
       "\n",
       "    .dataframe thead tr:last-of-type th {\n",
       "        text-align: right;\n",
       "    }\n",
       "</style>\n",
       "<table border=\"1\" class=\"dataframe\">\n",
       "  <thead>\n",
       "    <tr>\n",
       "      <th></th>\n",
       "      <th colspan=\"5\" halign=\"left\">hiddenGem</th>\n",
       "    </tr>\n",
       "    <tr>\n",
       "      <th></th>\n",
       "      <th>mean</th>\n",
       "      <th>median</th>\n",
       "      <th>min</th>\n",
       "      <th>max</th>\n",
       "      <th>std</th>\n",
       "    </tr>\n",
       "    <tr>\n",
       "      <th>regio1</th>\n",
       "      <th></th>\n",
       "      <th></th>\n",
       "      <th></th>\n",
       "      <th></th>\n",
       "      <th></th>\n",
       "    </tr>\n",
       "  </thead>\n",
       "  <tbody>\n",
       "    <tr>\n",
       "      <th>Baden-Württemberg</th>\n",
       "      <td>0.050888</td>\n",
       "      <td>0.048660</td>\n",
       "      <td>0.003257</td>\n",
       "      <td>0.410667</td>\n",
       "      <td>0.021381</td>\n",
       "    </tr>\n",
       "    <tr>\n",
       "      <th>Bayern</th>\n",
       "      <td>0.053418</td>\n",
       "      <td>0.049031</td>\n",
       "      <td>-0.078979</td>\n",
       "      <td>0.719333</td>\n",
       "      <td>0.029675</td>\n",
       "    </tr>\n",
       "    <tr>\n",
       "      <th>Berlin</th>\n",
       "      <td>0.066840</td>\n",
       "      <td>0.065115</td>\n",
       "      <td>0.012606</td>\n",
       "      <td>0.316400</td>\n",
       "      <td>0.020149</td>\n",
       "    </tr>\n",
       "    <tr>\n",
       "      <th>Brandenburg</th>\n",
       "      <td>0.030845</td>\n",
       "      <td>0.028485</td>\n",
       "      <td>-0.183318</td>\n",
       "      <td>0.243750</td>\n",
       "      <td>0.070112</td>\n",
       "    </tr>\n",
       "    <tr>\n",
       "      <th>Bremen</th>\n",
       "      <td>0.051561</td>\n",
       "      <td>0.042411</td>\n",
       "      <td>0.014000</td>\n",
       "      <td>0.378583</td>\n",
       "      <td>0.024432</td>\n",
       "    </tr>\n",
       "    <tr>\n",
       "      <th>Hamburg</th>\n",
       "      <td>0.055888</td>\n",
       "      <td>0.055321</td>\n",
       "      <td>0.010424</td>\n",
       "      <td>0.367347</td>\n",
       "      <td>0.015140</td>\n",
       "    </tr>\n",
       "    <tr>\n",
       "      <th>Hessen</th>\n",
       "      <td>0.051969</td>\n",
       "      <td>0.050750</td>\n",
       "      <td>-0.004737</td>\n",
       "      <td>0.919098</td>\n",
       "      <td>0.024745</td>\n",
       "    </tr>\n",
       "    <tr>\n",
       "      <th>Mecklenburg-Vorpommern</th>\n",
       "      <td>0.046998</td>\n",
       "      <td>0.039667</td>\n",
       "      <td>-0.007073</td>\n",
       "      <td>0.163951</td>\n",
       "      <td>0.035772</td>\n",
       "    </tr>\n",
       "    <tr>\n",
       "      <th>Niedersachsen</th>\n",
       "      <td>0.041006</td>\n",
       "      <td>0.042953</td>\n",
       "      <td>-0.082105</td>\n",
       "      <td>0.335378</td>\n",
       "      <td>0.034415</td>\n",
       "    </tr>\n",
       "    <tr>\n",
       "      <th>Nordrhein-Westfalen</th>\n",
       "      <td>0.034878</td>\n",
       "      <td>0.031970</td>\n",
       "      <td>-0.015313</td>\n",
       "      <td>0.379826</td>\n",
       "      <td>0.018267</td>\n",
       "    </tr>\n",
       "    <tr>\n",
       "      <th>Rheinland-Pfalz</th>\n",
       "      <td>0.046805</td>\n",
       "      <td>0.045493</td>\n",
       "      <td>-0.040000</td>\n",
       "      <td>0.245000</td>\n",
       "      <td>0.020966</td>\n",
       "    </tr>\n",
       "    <tr>\n",
       "      <th>Saarland</th>\n",
       "      <td>0.006208</td>\n",
       "      <td>0.013529</td>\n",
       "      <td>-0.041667</td>\n",
       "      <td>0.045190</td>\n",
       "      <td>0.014299</td>\n",
       "    </tr>\n",
       "    <tr>\n",
       "      <th>Sachsen</th>\n",
       "      <td>0.048635</td>\n",
       "      <td>0.042104</td>\n",
       "      <td>-0.237250</td>\n",
       "      <td>1.338375</td>\n",
       "      <td>0.089202</td>\n",
       "    </tr>\n",
       "    <tr>\n",
       "      <th>Sachsen-Anhalt</th>\n",
       "      <td>-0.011976</td>\n",
       "      <td>-0.013937</td>\n",
       "      <td>-0.243295</td>\n",
       "      <td>0.202083</td>\n",
       "      <td>0.065031</td>\n",
       "    </tr>\n",
       "    <tr>\n",
       "      <th>Schleswig-Holstein</th>\n",
       "      <td>0.053437</td>\n",
       "      <td>0.050933</td>\n",
       "      <td>0.007714</td>\n",
       "      <td>0.200454</td>\n",
       "      <td>0.027188</td>\n",
       "    </tr>\n",
       "    <tr>\n",
       "      <th>Thüringen</th>\n",
       "      <td>-0.004232</td>\n",
       "      <td>-0.019339</td>\n",
       "      <td>-0.339873</td>\n",
       "      <td>0.690319</td>\n",
       "      <td>0.080563</td>\n",
       "    </tr>\n",
       "  </tbody>\n",
       "</table>\n",
       "</div>"
      ],
      "text/plain": [
       "                       hiddenGem                                        \n",
       "                            mean    median       min       max       std\n",
       "regio1                                                                  \n",
       "Baden-Württemberg       0.050888  0.048660  0.003257  0.410667  0.021381\n",
       "Bayern                  0.053418  0.049031 -0.078979  0.719333  0.029675\n",
       "Berlin                  0.066840  0.065115  0.012606  0.316400  0.020149\n",
       "Brandenburg             0.030845  0.028485 -0.183318  0.243750  0.070112\n",
       "Bremen                  0.051561  0.042411  0.014000  0.378583  0.024432\n",
       "Hamburg                 0.055888  0.055321  0.010424  0.367347  0.015140\n",
       "Hessen                  0.051969  0.050750 -0.004737  0.919098  0.024745\n",
       "Mecklenburg-Vorpommern  0.046998  0.039667 -0.007073  0.163951  0.035772\n",
       "Niedersachsen           0.041006  0.042953 -0.082105  0.335378  0.034415\n",
       "Nordrhein-Westfalen     0.034878  0.031970 -0.015313  0.379826  0.018267\n",
       "Rheinland-Pfalz         0.046805  0.045493 -0.040000  0.245000  0.020966\n",
       "Saarland                0.006208  0.013529 -0.041667  0.045190  0.014299\n",
       "Sachsen                 0.048635  0.042104 -0.237250  1.338375  0.089202\n",
       "Sachsen-Anhalt         -0.011976 -0.013937 -0.243295  0.202083  0.065031\n",
       "Schleswig-Holstein      0.053437  0.050933  0.007714  0.200454  0.027188\n",
       "Thüringen              -0.004232 -0.019339 -0.339873  0.690319  0.080563"
      ]
     },
     "execution_count": 12,
     "metadata": {},
     "output_type": "execute_result"
    }
   ],
   "source": [
    "# view hidden gem stats by state\n",
    "df.groupby('regio1').agg({'hiddenGem':['mean', 'median', 'min', 'max', 'std']})"
   ]
  },
  {
   "cell_type": "code",
   "execution_count": 24,
   "id": "cc224be6",
   "metadata": {},
   "outputs": [],
   "source": [
    "# view median hiddenGem value for each district\n",
    "district_gems = df.groupby(['regio2']).agg({'hiddenGem':['median']})"
   ]
  },
  {
   "cell_type": "code",
   "execution_count": 25,
   "id": "606a77c7",
   "metadata": {},
   "outputs": [],
   "source": [
    "district_gems.to_clipboard()"
   ]
  },
  {
   "cell_type": "code",
   "execution_count": 54,
   "id": "c526b41f",
   "metadata": {},
   "outputs": [],
   "source": [
    "# if hidden gem value is >= .0613, print 1 in new column called isGem\n",
    "# this threshold designates the top 25% of values as hidden gems\n",
    "df.loc[df['hiddenGem'] >= 0.0613 , 'isGem'] = 1\n",
    "df.loc[df['hiddenGem'] < 0.0613 , 'isGem'] = 0"
   ]
  },
  {
   "cell_type": "code",
   "execution_count": 55,
   "id": "5f75ef27",
   "metadata": {},
   "outputs": [
    {
     "data": {
      "text/plain": [
       "0.0    163756\n",
       "1.0     54495\n",
       "Name: isGem, dtype: int64"
      ]
     },
     "execution_count": 55,
     "metadata": {},
     "output_type": "execute_result"
    }
   ],
   "source": [
    "df['isGem'].value_counts()"
   ]
  },
  {
   "cell_type": "code",
   "execution_count": 67,
   "id": "2cd87254",
   "metadata": {},
   "outputs": [],
   "source": [
    "# determine gem count per district and gem percentage \n",
    "district_gem_count = df.groupby(['regio2']).agg({'scoutId':['count'], 'isGem':['sum']})\n",
    "district_gem_count.to_clipboard()"
   ]
  },
  {
   "cell_type": "markdown",
   "id": "d9438482",
   "metadata": {},
   "source": [
    "Note: I used this information to determine which districts have the highest total number of hidden gems and which districts have the highest percentage of hidden gems (relative to total properties). These districts can be viewed in a combination map in the accompanying Tableau presentation."
   ]
  }
 ],
 "metadata": {
  "kernelspec": {
   "display_name": "Python 3 (ipykernel)",
   "language": "python",
   "name": "python3"
  },
  "language_info": {
   "codemirror_mode": {
    "name": "ipython",
    "version": 3
   },
   "file_extension": ".py",
   "mimetype": "text/x-python",
   "name": "python",
   "nbconvert_exporter": "python",
   "pygments_lexer": "ipython3",
   "version": "3.10.9"
  }
 },
 "nbformat": 4,
 "nbformat_minor": 5
}

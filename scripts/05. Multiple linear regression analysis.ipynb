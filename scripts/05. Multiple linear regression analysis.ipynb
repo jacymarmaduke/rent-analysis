{
 "cells": [
  {
   "cell_type": "markdown",
   "metadata": {},
   "source": [
    "## Multiple linear regression analysis"
   ]
  },
  {
   "cell_type": "markdown",
   "metadata": {},
   "source": [
    "### This script contains the following:\n",
    "\n",
    "#### 01. Import libraries and data\n",
    "#### 02. Clean data\n",
    "#### 03. Data prep for regression analysis\n",
    "#### 04. Regression analysis\n",
    "#### 05. Model performance stats\n",
    "#### 06. Other model results\n",
    "\n",
    "### Note: The top-performing model, seen below, incorporated kitchen, district population, district population trend, picture count, popdensity, balcony, lift and living space to predict total rent with an R-squared of 72 and mean absolute error of 182. \n",
    "### The persistence of the large error and relatively low r-squared score suggests that multiple linear regression isn't the best approach for this dataset."
   ]
  },
  {
   "cell_type": "markdown",
   "metadata": {},
   "source": [
    "### 1. Import libraries and data"
   ]
  },
  {
   "cell_type": "code",
   "execution_count": 1,
   "metadata": {},
   "outputs": [],
   "source": [
    "import pandas as pd\n",
    "import numpy as np\n",
    "import seaborn as sns\n",
    "import matplotlib\n",
    "import matplotlib.pyplot as plt\n",
    "import os\n",
    "import sklearn\n",
    "from sklearn.model_selection import train_test_split \n",
    "from sklearn.linear_model import LinearRegression\n",
    "from sklearn.metrics import mean_squared_error, r2_score"
   ]
  },
  {
   "cell_type": "code",
   "execution_count": 2,
   "metadata": {},
   "outputs": [],
   "source": [
    "# This option ensures that the graphs you create are displayed within the notebook without the need to \"call\" them specifically.\n",
    "\n",
    "%matplotlib inline"
   ]
  },
  {
   "cell_type": "code",
   "execution_count": 3,
   "metadata": {},
   "outputs": [],
   "source": [
    "path = r'C:\\Users\\jacym\\Desktop\\Career Foundry projects\\german rent\\02 data'"
   ]
  },
  {
   "cell_type": "code",
   "execution_count": 4,
   "metadata": {},
   "outputs": [],
   "source": [
    "df = pd.read_csv(os.path.join(path, 'cleaned data', 'rent_district_pop_merged.csv'))"
   ]
  },
  {
   "cell_type": "markdown",
   "metadata": {},
   "source": [
    "### 2. Data cleaning"
   ]
  },
  {
   "cell_type": "code",
   "execution_count": 5,
   "metadata": {
    "scrolled": true
   },
   "outputs": [
    {
     "data": {
      "text/plain": [
       "Index(['scoutId', 'regio1', 'baseRent', 'totalRent', 'price/unit',\n",
       "       'pricetrend', 'livingSpace', 'plz', 'picturecount', 'newlyConst',\n",
       "       'yearConstructed', 'firingTypes', 'heatingType', 'hasKitchen', 'cellar',\n",
       "       'condition', 'street', 'lift', 'typeOfFlat', 'noRooms', 'floor',\n",
       "       'balcony', 'garden', 'baseRentRange', 'noRoomsRange',\n",
       "       'livingSpaceRange', 'yearConstructedRange', 'regio2', 'regio3',\n",
       "       'description', 'date', 'population', 'populationTrend', 'popTrendCat',\n",
       "       'surfaceArea', 'populationDensity', 'space/person', 'people/apt',\n",
       "       'districtPopTrend', 'districtPop'],\n",
       "      dtype='object')"
      ]
     },
     "execution_count": 5,
     "metadata": {},
     "output_type": "execute_result"
    }
   ],
   "source": [
    "df.columns"
   ]
  },
  {
   "cell_type": "code",
   "execution_count": 6,
   "metadata": {
    "scrolled": true
   },
   "outputs": [
    {
     "data": {
      "text/html": [
       "<div>\n",
       "<style scoped>\n",
       "    .dataframe tbody tr th:only-of-type {\n",
       "        vertical-align: middle;\n",
       "    }\n",
       "\n",
       "    .dataframe tbody tr th {\n",
       "        vertical-align: top;\n",
       "    }\n",
       "\n",
       "    .dataframe thead th {\n",
       "        text-align: right;\n",
       "    }\n",
       "</style>\n",
       "<table border=\"1\" class=\"dataframe\">\n",
       "  <thead>\n",
       "    <tr style=\"text-align: right;\">\n",
       "      <th></th>\n",
       "      <th>scoutId</th>\n",
       "      <th>regio1</th>\n",
       "      <th>baseRent</th>\n",
       "      <th>totalRent</th>\n",
       "      <th>price/unit</th>\n",
       "      <th>pricetrend</th>\n",
       "      <th>livingSpace</th>\n",
       "      <th>plz</th>\n",
       "      <th>picturecount</th>\n",
       "      <th>newlyConst</th>\n",
       "      <th>...</th>\n",
       "      <th>date</th>\n",
       "      <th>population</th>\n",
       "      <th>populationTrend</th>\n",
       "      <th>popTrendCat</th>\n",
       "      <th>surfaceArea</th>\n",
       "      <th>populationDensity</th>\n",
       "      <th>space/person</th>\n",
       "      <th>people/apt</th>\n",
       "      <th>districtPopTrend</th>\n",
       "      <th>districtPop</th>\n",
       "    </tr>\n",
       "  </thead>\n",
       "  <tbody>\n",
       "    <tr>\n",
       "      <th>0</th>\n",
       "      <td>96107057</td>\n",
       "      <td>Nordrhein_Westfalen</td>\n",
       "      <td>595.00</td>\n",
       "      <td>840.00</td>\n",
       "      <td>9.767442</td>\n",
       "      <td>4.62</td>\n",
       "      <td>86.00</td>\n",
       "      <td>44269</td>\n",
       "      <td>6</td>\n",
       "      <td>False</td>\n",
       "      <td>...</td>\n",
       "      <td>2019-05-10</td>\n",
       "      <td>17935147</td>\n",
       "      <td>-0.02</td>\n",
       "      <td>stable</td>\n",
       "      <td>34098</td>\n",
       "      <td>526</td>\n",
       "      <td>41.41</td>\n",
       "      <td>2.12</td>\n",
       "      <td>0.33</td>\n",
       "      <td>587010</td>\n",
       "    </tr>\n",
       "    <tr>\n",
       "      <th>1</th>\n",
       "      <td>92798563</td>\n",
       "      <td>Nordrhein_Westfalen</td>\n",
       "      <td>972.60</td>\n",
       "      <td>1320.65</td>\n",
       "      <td>15.179885</td>\n",
       "      <td>3.76</td>\n",
       "      <td>87.00</td>\n",
       "      <td>44229</td>\n",
       "      <td>12</td>\n",
       "      <td>True</td>\n",
       "      <td>...</td>\n",
       "      <td>2019-05-10</td>\n",
       "      <td>17935147</td>\n",
       "      <td>-0.02</td>\n",
       "      <td>stable</td>\n",
       "      <td>34098</td>\n",
       "      <td>526</td>\n",
       "      <td>41.41</td>\n",
       "      <td>2.12</td>\n",
       "      <td>0.33</td>\n",
       "      <td>587010</td>\n",
       "    </tr>\n",
       "    <tr>\n",
       "      <th>2</th>\n",
       "      <td>114894763</td>\n",
       "      <td>Nordrhein_Westfalen</td>\n",
       "      <td>396.80</td>\n",
       "      <td>493.80</td>\n",
       "      <td>7.964516</td>\n",
       "      <td>4.10</td>\n",
       "      <td>62.00</td>\n",
       "      <td>44137</td>\n",
       "      <td>0</td>\n",
       "      <td>False</td>\n",
       "      <td>...</td>\n",
       "      <td>2020-02-01</td>\n",
       "      <td>17935147</td>\n",
       "      <td>-0.02</td>\n",
       "      <td>stable</td>\n",
       "      <td>34098</td>\n",
       "      <td>526</td>\n",
       "      <td>41.41</td>\n",
       "      <td>2.12</td>\n",
       "      <td>0.33</td>\n",
       "      <td>587010</td>\n",
       "    </tr>\n",
       "    <tr>\n",
       "      <th>3</th>\n",
       "      <td>90046012</td>\n",
       "      <td>Nordrhein_Westfalen</td>\n",
       "      <td>310.00</td>\n",
       "      <td>460.00</td>\n",
       "      <td>8.363636</td>\n",
       "      <td>3.28</td>\n",
       "      <td>55.00</td>\n",
       "      <td>44329</td>\n",
       "      <td>14</td>\n",
       "      <td>False</td>\n",
       "      <td>...</td>\n",
       "      <td>2019-05-10</td>\n",
       "      <td>17935147</td>\n",
       "      <td>-0.02</td>\n",
       "      <td>stable</td>\n",
       "      <td>34098</td>\n",
       "      <td>526</td>\n",
       "      <td>41.41</td>\n",
       "      <td>2.12</td>\n",
       "      <td>0.33</td>\n",
       "      <td>587010</td>\n",
       "    </tr>\n",
       "    <tr>\n",
       "      <th>4</th>\n",
       "      <td>87928570</td>\n",
       "      <td>Nordrhein_Westfalen</td>\n",
       "      <td>301.00</td>\n",
       "      <td>NaN</td>\n",
       "      <td>NaN</td>\n",
       "      <td>4.41</td>\n",
       "      <td>30.07</td>\n",
       "      <td>44137</td>\n",
       "      <td>31</td>\n",
       "      <td>False</td>\n",
       "      <td>...</td>\n",
       "      <td>2018-09-22</td>\n",
       "      <td>17935147</td>\n",
       "      <td>-0.02</td>\n",
       "      <td>stable</td>\n",
       "      <td>34098</td>\n",
       "      <td>526</td>\n",
       "      <td>41.41</td>\n",
       "      <td>2.12</td>\n",
       "      <td>0.33</td>\n",
       "      <td>587010</td>\n",
       "    </tr>\n",
       "    <tr>\n",
       "      <th>5</th>\n",
       "      <td>79343710</td>\n",
       "      <td>Nordrhein_Westfalen</td>\n",
       "      <td>1550.00</td>\n",
       "      <td>2205.00</td>\n",
       "      <td>14.898649</td>\n",
       "      <td>3.85</td>\n",
       "      <td>148.00</td>\n",
       "      <td>44229</td>\n",
       "      <td>32</td>\n",
       "      <td>False</td>\n",
       "      <td>...</td>\n",
       "      <td>2019-05-10</td>\n",
       "      <td>17935147</td>\n",
       "      <td>-0.02</td>\n",
       "      <td>stable</td>\n",
       "      <td>34098</td>\n",
       "      <td>526</td>\n",
       "      <td>41.41</td>\n",
       "      <td>2.12</td>\n",
       "      <td>0.33</td>\n",
       "      <td>587010</td>\n",
       "    </tr>\n",
       "    <tr>\n",
       "      <th>6</th>\n",
       "      <td>62267211</td>\n",
       "      <td>Nordrhein_Westfalen</td>\n",
       "      <td>440.00</td>\n",
       "      <td>525.00</td>\n",
       "      <td>7.835821</td>\n",
       "      <td>4.41</td>\n",
       "      <td>67.00</td>\n",
       "      <td>44137</td>\n",
       "      <td>6</td>\n",
       "      <td>False</td>\n",
       "      <td>...</td>\n",
       "      <td>2019-05-10</td>\n",
       "      <td>17935147</td>\n",
       "      <td>-0.02</td>\n",
       "      <td>stable</td>\n",
       "      <td>34098</td>\n",
       "      <td>526</td>\n",
       "      <td>41.41</td>\n",
       "      <td>2.12</td>\n",
       "      <td>0.33</td>\n",
       "      <td>587010</td>\n",
       "    </tr>\n",
       "    <tr>\n",
       "      <th>7</th>\n",
       "      <td>93403649</td>\n",
       "      <td>Nordrhein_Westfalen</td>\n",
       "      <td>370.00</td>\n",
       "      <td>500.00</td>\n",
       "      <td>10.000000</td>\n",
       "      <td>4.55</td>\n",
       "      <td>50.00</td>\n",
       "      <td>44287</td>\n",
       "      <td>13</td>\n",
       "      <td>False</td>\n",
       "      <td>...</td>\n",
       "      <td>2019-05-10</td>\n",
       "      <td>17935147</td>\n",
       "      <td>-0.02</td>\n",
       "      <td>stable</td>\n",
       "      <td>34098</td>\n",
       "      <td>526</td>\n",
       "      <td>41.41</td>\n",
       "      <td>2.12</td>\n",
       "      <td>0.33</td>\n",
       "      <td>587010</td>\n",
       "    </tr>\n",
       "    <tr>\n",
       "      <th>8</th>\n",
       "      <td>113557346</td>\n",
       "      <td>Nordrhein_Westfalen</td>\n",
       "      <td>403.75</td>\n",
       "      <td>653.75</td>\n",
       "      <td>7.691176</td>\n",
       "      <td>3.71</td>\n",
       "      <td>85.00</td>\n",
       "      <td>44143</td>\n",
       "      <td>8</td>\n",
       "      <td>False</td>\n",
       "      <td>...</td>\n",
       "      <td>2020-02-01</td>\n",
       "      <td>17935147</td>\n",
       "      <td>-0.02</td>\n",
       "      <td>stable</td>\n",
       "      <td>34098</td>\n",
       "      <td>526</td>\n",
       "      <td>41.41</td>\n",
       "      <td>2.12</td>\n",
       "      <td>0.33</td>\n",
       "      <td>587010</td>\n",
       "    </tr>\n",
       "    <tr>\n",
       "      <th>9</th>\n",
       "      <td>111370962</td>\n",
       "      <td>Nordrhein_Westfalen</td>\n",
       "      <td>512.00</td>\n",
       "      <td>672.00</td>\n",
       "      <td>10.500000</td>\n",
       "      <td>4.44</td>\n",
       "      <td>64.00</td>\n",
       "      <td>44225</td>\n",
       "      <td>5</td>\n",
       "      <td>False</td>\n",
       "      <td>...</td>\n",
       "      <td>2019-05-10</td>\n",
       "      <td>17935147</td>\n",
       "      <td>-0.02</td>\n",
       "      <td>stable</td>\n",
       "      <td>34098</td>\n",
       "      <td>526</td>\n",
       "      <td>41.41</td>\n",
       "      <td>2.12</td>\n",
       "      <td>0.33</td>\n",
       "      <td>587010</td>\n",
       "    </tr>\n",
       "  </tbody>\n",
       "</table>\n",
       "<p>10 rows × 40 columns</p>\n",
       "</div>"
      ],
      "text/plain": [
       "     scoutId               regio1  baseRent  totalRent  price/unit  \\\n",
       "0   96107057  Nordrhein_Westfalen    595.00     840.00    9.767442   \n",
       "1   92798563  Nordrhein_Westfalen    972.60    1320.65   15.179885   \n",
       "2  114894763  Nordrhein_Westfalen    396.80     493.80    7.964516   \n",
       "3   90046012  Nordrhein_Westfalen    310.00     460.00    8.363636   \n",
       "4   87928570  Nordrhein_Westfalen    301.00        NaN         NaN   \n",
       "5   79343710  Nordrhein_Westfalen   1550.00    2205.00   14.898649   \n",
       "6   62267211  Nordrhein_Westfalen    440.00     525.00    7.835821   \n",
       "7   93403649  Nordrhein_Westfalen    370.00     500.00   10.000000   \n",
       "8  113557346  Nordrhein_Westfalen    403.75     653.75    7.691176   \n",
       "9  111370962  Nordrhein_Westfalen    512.00     672.00   10.500000   \n",
       "\n",
       "   pricetrend  livingSpace    plz  picturecount  newlyConst  ...        date  \\\n",
       "0        4.62        86.00  44269             6       False  ...  2019-05-10   \n",
       "1        3.76        87.00  44229            12        True  ...  2019-05-10   \n",
       "2        4.10        62.00  44137             0       False  ...  2020-02-01   \n",
       "3        3.28        55.00  44329            14       False  ...  2019-05-10   \n",
       "4        4.41        30.07  44137            31       False  ...  2018-09-22   \n",
       "5        3.85       148.00  44229            32       False  ...  2019-05-10   \n",
       "6        4.41        67.00  44137             6       False  ...  2019-05-10   \n",
       "7        4.55        50.00  44287            13       False  ...  2019-05-10   \n",
       "8        3.71        85.00  44143             8       False  ...  2020-02-01   \n",
       "9        4.44        64.00  44225             5       False  ...  2019-05-10   \n",
       "\n",
       "  population populationTrend  popTrendCat  surfaceArea populationDensity  \\\n",
       "0   17935147           -0.02       stable        34098               526   \n",
       "1   17935147           -0.02       stable        34098               526   \n",
       "2   17935147           -0.02       stable        34098               526   \n",
       "3   17935147           -0.02       stable        34098               526   \n",
       "4   17935147           -0.02       stable        34098               526   \n",
       "5   17935147           -0.02       stable        34098               526   \n",
       "6   17935147           -0.02       stable        34098               526   \n",
       "7   17935147           -0.02       stable        34098               526   \n",
       "8   17935147           -0.02       stable        34098               526   \n",
       "9   17935147           -0.02       stable        34098               526   \n",
       "\n",
       "  space/person  people/apt districtPopTrend  districtPop  \n",
       "0        41.41        2.12             0.33       587010  \n",
       "1        41.41        2.12             0.33       587010  \n",
       "2        41.41        2.12             0.33       587010  \n",
       "3        41.41        2.12             0.33       587010  \n",
       "4        41.41        2.12             0.33       587010  \n",
       "5        41.41        2.12             0.33       587010  \n",
       "6        41.41        2.12             0.33       587010  \n",
       "7        41.41        2.12             0.33       587010  \n",
       "8        41.41        2.12             0.33       587010  \n",
       "9        41.41        2.12             0.33       587010  \n",
       "\n",
       "[10 rows x 40 columns]"
      ]
     },
     "execution_count": 6,
     "metadata": {},
     "output_type": "execute_result"
    }
   ],
   "source": [
    "df.head(10)"
   ]
  },
  {
   "cell_type": "code",
   "execution_count": 7,
   "metadata": {
    "scrolled": true
   },
   "outputs": [
    {
     "data": {
      "text/plain": [
       "(257607, 40)"
      ]
     },
     "execution_count": 7,
     "metadata": {},
     "output_type": "execute_result"
    }
   ],
   "source": [
    "df.shape"
   ]
  },
  {
   "cell_type": "code",
   "execution_count": 8,
   "metadata": {},
   "outputs": [
    {
     "data": {
      "text/plain": [
       "Index(['scoutId', 'regio1', 'baseRent', 'totalRent', 'price/unit',\n",
       "       'pricetrend', 'livingSpace', 'plz', 'picturecount', 'newlyConst',\n",
       "       'yearConstructed', 'firingTypes', 'heatingType', 'hasKitchen', 'cellar',\n",
       "       'condition', 'street', 'lift', 'typeOfFlat', 'noRooms', 'floor',\n",
       "       'balcony', 'garden', 'baseRentRange', 'noRoomsRange',\n",
       "       'livingSpaceRange', 'yearConstructedRange', 'regio2', 'regio3',\n",
       "       'description', 'date', 'population', 'populationTrend', 'popTrendCat',\n",
       "       'surfaceArea', 'populationDensity', 'space/person', 'people/apt',\n",
       "       'districtPopTrend', 'districtPop'],\n",
       "      dtype='object')"
      ]
     },
     "execution_count": 8,
     "metadata": {},
     "output_type": "execute_result"
    }
   ],
   "source": [
    "df.columns"
   ]
  },
  {
   "cell_type": "code",
   "execution_count": 9,
   "metadata": {},
   "outputs": [],
   "source": [
    "df['hasKitchen'] = df['hasKitchen'].astype(int)"
   ]
  },
  {
   "cell_type": "code",
   "execution_count": 10,
   "metadata": {},
   "outputs": [],
   "source": [
    "df['balcony'] = df['balcony'].astype(int)"
   ]
  },
  {
   "cell_type": "code",
   "execution_count": 11,
   "metadata": {},
   "outputs": [],
   "source": [
    "df['lift'] = df['lift'].astype(int)"
   ]
  },
  {
   "cell_type": "code",
   "execution_count": 12,
   "metadata": {},
   "outputs": [],
   "source": [
    "# Create subset with just the factors that interest me for regression\n",
    "reg_sub = df[['livingSpace', 'totalRent', 'pricetrend', 'populationTrend', 'districtPopTrend', 'districtPop', 'hasKitchen', 'picturecount', 'populationDensity', 'balcony', 'lift']]"
   ]
  },
  {
   "cell_type": "markdown",
   "metadata": {},
   "source": [
    "##### Missing values"
   ]
  },
  {
   "cell_type": "code",
   "execution_count": 13,
   "metadata": {},
   "outputs": [
    {
     "data": {
      "text/plain": [
       "livingSpace             70\n",
       "totalRent            39303\n",
       "pricetrend            1708\n",
       "populationTrend          0\n",
       "districtPopTrend         0\n",
       "districtPop              0\n",
       "hasKitchen               0\n",
       "picturecount             0\n",
       "populationDensity        0\n",
       "balcony                  0\n",
       "lift                     0\n",
       "dtype: int64"
      ]
     },
     "execution_count": 13,
     "metadata": {},
     "output_type": "execute_result"
    }
   ],
   "source": [
    "# Check for missing values\n",
    "\n",
    "reg_sub.isnull().sum()\n"
   ]
  },
  {
   "cell_type": "code",
   "execution_count": 14,
   "metadata": {},
   "outputs": [],
   "source": [
    "# drop blank values \n",
    "reg_sub_trim = reg_sub.dropna(inplace=False)"
   ]
  },
  {
   "cell_type": "code",
   "execution_count": 15,
   "metadata": {},
   "outputs": [
    {
     "data": {
      "text/plain": [
       "livingSpace          0\n",
       "totalRent            0\n",
       "pricetrend           0\n",
       "populationTrend      0\n",
       "districtPopTrend     0\n",
       "districtPop          0\n",
       "hasKitchen           0\n",
       "picturecount         0\n",
       "populationDensity    0\n",
       "balcony              0\n",
       "lift                 0\n",
       "dtype: int64"
      ]
     },
     "execution_count": 15,
     "metadata": {},
     "output_type": "execute_result"
    }
   ],
   "source": [
    "reg_sub_trim.isnull().sum()"
   ]
  },
  {
   "cell_type": "markdown",
   "metadata": {},
   "source": [
    "##### Duplicates check"
   ]
  },
  {
   "cell_type": "code",
   "execution_count": 16,
   "metadata": {},
   "outputs": [],
   "source": [
    "dups = reg_sub_trim.duplicated()"
   ]
  },
  {
   "cell_type": "code",
   "execution_count": 17,
   "metadata": {},
   "outputs": [
    {
     "data": {
      "text/plain": [
       "(216760,)"
      ]
     },
     "execution_count": 17,
     "metadata": {},
     "output_type": "execute_result"
    }
   ],
   "source": [
    "dups.shape # No dups"
   ]
  },
  {
   "cell_type": "markdown",
   "metadata": {},
   "source": [
    "### 3. Data prep for regression analysis "
   ]
  },
  {
   "cell_type": "code",
   "execution_count": 18,
   "metadata": {},
   "outputs": [],
   "source": [
    "from sklearn import linear_model"
   ]
  },
  {
   "cell_type": "code",
   "execution_count": 19,
   "metadata": {},
   "outputs": [],
   "source": [
    "X = reg_sub_trim[['populationTrend', 'livingSpace', 'pricetrend', 'districtPopTrend', 'districtPop', 'hasKitchen', 'picturecount', 'populationDensity', 'balcony', 'lift']]\n",
    "y = reg_sub_trim['totalRent']"
   ]
  },
  {
   "cell_type": "code",
   "execution_count": 20,
   "metadata": {},
   "outputs": [
    {
     "data": {
      "text/plain": [
       "0          840.00\n",
       "1         1320.65\n",
       "2          493.80\n",
       "3          460.00\n",
       "5         2205.00\n",
       "           ...   \n",
       "257601     590.00\n",
       "257602    1000.00\n",
       "257604     700.00\n",
       "257605     300.00\n",
       "257606     840.00\n",
       "Name: totalRent, Length: 216760, dtype: float64"
      ]
     },
     "execution_count": 20,
     "metadata": {},
     "output_type": "execute_result"
    }
   ],
   "source": [
    "y"
   ]
  },
  {
   "cell_type": "code",
   "execution_count": 21,
   "metadata": {
    "scrolled": true
   },
   "outputs": [],
   "source": [
    "#Splitting the dataset\n",
    "from sklearn.model_selection import train_test_split\n",
    "x_train, x_test, y_train, y_test = train_test_split(X, y, test_size = 0.3, random_state = 100)"
   ]
  },
  {
   "cell_type": "code",
   "execution_count": 22,
   "metadata": {},
   "outputs": [
    {
     "data": {
      "text/html": [
       "<style>#sk-container-id-1 {color: black;background-color: white;}#sk-container-id-1 pre{padding: 0;}#sk-container-id-1 div.sk-toggleable {background-color: white;}#sk-container-id-1 label.sk-toggleable__label {cursor: pointer;display: block;width: 100%;margin-bottom: 0;padding: 0.3em;box-sizing: border-box;text-align: center;}#sk-container-id-1 label.sk-toggleable__label-arrow:before {content: \"▸\";float: left;margin-right: 0.25em;color: #696969;}#sk-container-id-1 label.sk-toggleable__label-arrow:hover:before {color: black;}#sk-container-id-1 div.sk-estimator:hover label.sk-toggleable__label-arrow:before {color: black;}#sk-container-id-1 div.sk-toggleable__content {max-height: 0;max-width: 0;overflow: hidden;text-align: left;background-color: #f0f8ff;}#sk-container-id-1 div.sk-toggleable__content pre {margin: 0.2em;color: black;border-radius: 0.25em;background-color: #f0f8ff;}#sk-container-id-1 input.sk-toggleable__control:checked~div.sk-toggleable__content {max-height: 200px;max-width: 100%;overflow: auto;}#sk-container-id-1 input.sk-toggleable__control:checked~label.sk-toggleable__label-arrow:before {content: \"▾\";}#sk-container-id-1 div.sk-estimator input.sk-toggleable__control:checked~label.sk-toggleable__label {background-color: #d4ebff;}#sk-container-id-1 div.sk-label input.sk-toggleable__control:checked~label.sk-toggleable__label {background-color: #d4ebff;}#sk-container-id-1 input.sk-hidden--visually {border: 0;clip: rect(1px 1px 1px 1px);clip: rect(1px, 1px, 1px, 1px);height: 1px;margin: -1px;overflow: hidden;padding: 0;position: absolute;width: 1px;}#sk-container-id-1 div.sk-estimator {font-family: monospace;background-color: #f0f8ff;border: 1px dotted black;border-radius: 0.25em;box-sizing: border-box;margin-bottom: 0.5em;}#sk-container-id-1 div.sk-estimator:hover {background-color: #d4ebff;}#sk-container-id-1 div.sk-parallel-item::after {content: \"\";width: 100%;border-bottom: 1px solid gray;flex-grow: 1;}#sk-container-id-1 div.sk-label:hover label.sk-toggleable__label {background-color: #d4ebff;}#sk-container-id-1 div.sk-serial::before {content: \"\";position: absolute;border-left: 1px solid gray;box-sizing: border-box;top: 0;bottom: 0;left: 50%;z-index: 0;}#sk-container-id-1 div.sk-serial {display: flex;flex-direction: column;align-items: center;background-color: white;padding-right: 0.2em;padding-left: 0.2em;position: relative;}#sk-container-id-1 div.sk-item {position: relative;z-index: 1;}#sk-container-id-1 div.sk-parallel {display: flex;align-items: stretch;justify-content: center;background-color: white;position: relative;}#sk-container-id-1 div.sk-item::before, #sk-container-id-1 div.sk-parallel-item::before {content: \"\";position: absolute;border-left: 1px solid gray;box-sizing: border-box;top: 0;bottom: 0;left: 50%;z-index: -1;}#sk-container-id-1 div.sk-parallel-item {display: flex;flex-direction: column;z-index: 1;position: relative;background-color: white;}#sk-container-id-1 div.sk-parallel-item:first-child::after {align-self: flex-end;width: 50%;}#sk-container-id-1 div.sk-parallel-item:last-child::after {align-self: flex-start;width: 50%;}#sk-container-id-1 div.sk-parallel-item:only-child::after {width: 0;}#sk-container-id-1 div.sk-dashed-wrapped {border: 1px dashed gray;margin: 0 0.4em 0.5em 0.4em;box-sizing: border-box;padding-bottom: 0.4em;background-color: white;}#sk-container-id-1 div.sk-label label {font-family: monospace;font-weight: bold;display: inline-block;line-height: 1.2em;}#sk-container-id-1 div.sk-label-container {text-align: center;}#sk-container-id-1 div.sk-container {/* jupyter's `normalize.less` sets `[hidden] { display: none; }` but bootstrap.min.css set `[hidden] { display: none !important; }` so we also need the `!important` here to be able to override the default hidden behavior on the sphinx rendered scikit-learn.org. See: https://github.com/scikit-learn/scikit-learn/issues/21755 */display: inline-block !important;position: relative;}#sk-container-id-1 div.sk-text-repr-fallback {display: none;}</style><div id=\"sk-container-id-1\" class=\"sk-top-container\"><div class=\"sk-text-repr-fallback\"><pre>LinearRegression()</pre><b>In a Jupyter environment, please rerun this cell to show the HTML representation or trust the notebook. <br />On GitHub, the HTML representation is unable to render, please try loading this page with nbviewer.org.</b></div><div class=\"sk-container\" hidden><div class=\"sk-item\"><div class=\"sk-estimator sk-toggleable\"><input class=\"sk-toggleable__control sk-hidden--visually\" id=\"sk-estimator-id-1\" type=\"checkbox\" checked><label for=\"sk-estimator-id-1\" class=\"sk-toggleable__label sk-toggleable__label-arrow\">LinearRegression</label><div class=\"sk-toggleable__content\"><pre>LinearRegression()</pre></div></div></div></div></div>"
      ],
      "text/plain": [
       "LinearRegression()"
      ]
     },
     "execution_count": 22,
     "metadata": {},
     "output_type": "execute_result"
    }
   ],
   "source": [
    "mlr = LinearRegression()  \n",
    "mlr.fit(x_train, y_train)"
   ]
  },
  {
   "cell_type": "markdown",
   "metadata": {},
   "source": [
    "### 4. Regression analysis"
   ]
  },
  {
   "cell_type": "code",
   "execution_count": 23,
   "metadata": {},
   "outputs": [
    {
     "name": "stdout",
     "output_type": "stream",
     "text": [
      "Intercept: -275.4105102805373\n",
      "Coefficients:\n"
     ]
    },
    {
     "data": {
      "text/plain": [
       "[('populationTrend', 236.16518128908652),\n",
       " ('livingSpace', 11.667524304827383),\n",
       " ('pricetrend', 24.978416951516532),\n",
       " ('districtPopTrend', -2.7801659552113875),\n",
       " ('districtPop', 0.0003991258900415823),\n",
       " ('hasKitchen', 100.59463407298603),\n",
       " ('picturecount', 3.636129686058994),\n",
       " ('populationDensity', -0.28343951714445265),\n",
       " ('balcony', 12.46540899543645),\n",
       " ('lift', 181.7351344668637)]"
      ]
     },
     "execution_count": 23,
     "metadata": {},
     "output_type": "execute_result"
    }
   ],
   "source": [
    "print('Intercept:', mlr.intercept_)\n",
    "print('Coefficients:')\n",
    "list(zip(X, mlr.coef_))"
   ]
  },
  {
   "cell_type": "code",
   "execution_count": 24,
   "metadata": {},
   "outputs": [
    {
     "name": "stdout",
     "output_type": "stream",
     "text": [
      "Prediction for test set: [ 282.12573586  422.59624585 1088.11806101 ...  500.7991107   164.14383556\n",
      "  899.02549286]\n"
     ]
    }
   ],
   "source": [
    "# Prediction of test set\n",
    "y_pred_mlr= mlr.predict(x_test)\n",
    "# Predicted values\n",
    "print('Prediction for test set: {}'.format(y_pred_mlr))"
   ]
  },
  {
   "cell_type": "code",
   "execution_count": 25,
   "metadata": {},
   "outputs": [
    {
     "data": {
      "text/html": [
       "<div>\n",
       "<style scoped>\n",
       "    .dataframe tbody tr th:only-of-type {\n",
       "        vertical-align: middle;\n",
       "    }\n",
       "\n",
       "    .dataframe tbody tr th {\n",
       "        vertical-align: top;\n",
       "    }\n",
       "\n",
       "    .dataframe thead th {\n",
       "        text-align: right;\n",
       "    }\n",
       "</style>\n",
       "<table border=\"1\" class=\"dataframe\">\n",
       "  <thead>\n",
       "    <tr style=\"text-align: right;\">\n",
       "      <th></th>\n",
       "      <th>Actual value</th>\n",
       "      <th>Predicted value</th>\n",
       "    </tr>\n",
       "  </thead>\n",
       "  <tbody>\n",
       "    <tr>\n",
       "      <th>109587</th>\n",
       "      <td>392.81</td>\n",
       "      <td>282.125736</td>\n",
       "    </tr>\n",
       "    <tr>\n",
       "      <th>203583</th>\n",
       "      <td>710.00</td>\n",
       "      <td>422.596246</td>\n",
       "    </tr>\n",
       "    <tr>\n",
       "      <th>104682</th>\n",
       "      <td>698.00</td>\n",
       "      <td>1088.118061</td>\n",
       "    </tr>\n",
       "    <tr>\n",
       "      <th>201752</th>\n",
       "      <td>1130.00</td>\n",
       "      <td>1231.008947</td>\n",
       "    </tr>\n",
       "    <tr>\n",
       "      <th>249071</th>\n",
       "      <td>1030.00</td>\n",
       "      <td>1144.704398</td>\n",
       "    </tr>\n",
       "  </tbody>\n",
       "</table>\n",
       "</div>"
      ],
      "text/plain": [
       "        Actual value  Predicted value\n",
       "109587        392.81       282.125736\n",
       "203583        710.00       422.596246\n",
       "104682        698.00      1088.118061\n",
       "201752       1130.00      1231.008947\n",
       "249071       1030.00      1144.704398"
      ]
     },
     "execution_count": 25,
     "metadata": {},
     "output_type": "execute_result"
    }
   ],
   "source": [
    "mlr_diff = pd.DataFrame({'Actual value': y_test, 'Predicted value': y_pred_mlr})\n",
    "mlr_diff.head()"
   ]
  },
  {
   "cell_type": "markdown",
   "metadata": {},
   "source": [
    "## 05. Model performance stats"
   ]
  },
  {
   "cell_type": "code",
   "execution_count": 26,
   "metadata": {},
   "outputs": [
    {
     "name": "stdout",
     "output_type": "stream",
     "text": [
      "R squared: 72.47\n",
      "Mean Absolute Error: 178.57121047262856\n",
      "Root Mean Square Error: 290.9806795368932\n"
     ]
    }
   ],
   "source": [
    "from sklearn import metrics\n",
    "meanAbErr = metrics.mean_absolute_error(y_test, y_pred_mlr)\n",
    "rootMeanSqErr = metrics.mean_squared_error(y_test, y_pred_mlr, squared=False)\n",
    "print('R squared: {:.2f}'.format(mlr.score(X,y)*100))\n",
    "print('Mean Absolute Error:', meanAbErr)\n",
    "print('Root Mean Square Error:', rootMeanSqErr)\n",
    "# kitchen, district pop, picture count, popdensity, balcony, lift, living space, district pop, pricetrend"
   ]
  },
  {
   "cell_type": "markdown",
   "metadata": {},
   "source": [
    "# 06. Other model results "
   ]
  },
  {
   "cell_type": "markdown",
   "metadata": {},
   "source": [
    "## Living space, district population, picture count, population density, kitchen, balcony, lift"
   ]
  },
  {
   "cell_type": "code",
   "execution_count": 27,
   "metadata": {},
   "outputs": [],
   "source": [
    "X2 = reg_sub_trim[['livingSpace', 'districtPop', 'hasKitchen', 'picturecount', 'populationDensity', 'balcony', 'lift']]\n",
    "y2 = reg_sub_trim['totalRent']"
   ]
  },
  {
   "cell_type": "code",
   "execution_count": 28,
   "metadata": {
    "scrolled": true
   },
   "outputs": [],
   "source": [
    "#Splitting the dataset\n",
    "from sklearn.model_selection import train_test_split\n",
    "x2_train, x2_test, y2_train, y2_test = train_test_split(X2, y2, test_size = 0.3, random_state = 100)"
   ]
  },
  {
   "cell_type": "code",
   "execution_count": 29,
   "metadata": {
    "scrolled": true
   },
   "outputs": [
    {
     "data": {
      "text/html": [
       "<style>#sk-container-id-2 {color: black;background-color: white;}#sk-container-id-2 pre{padding: 0;}#sk-container-id-2 div.sk-toggleable {background-color: white;}#sk-container-id-2 label.sk-toggleable__label {cursor: pointer;display: block;width: 100%;margin-bottom: 0;padding: 0.3em;box-sizing: border-box;text-align: center;}#sk-container-id-2 label.sk-toggleable__label-arrow:before {content: \"▸\";float: left;margin-right: 0.25em;color: #696969;}#sk-container-id-2 label.sk-toggleable__label-arrow:hover:before {color: black;}#sk-container-id-2 div.sk-estimator:hover label.sk-toggleable__label-arrow:before {color: black;}#sk-container-id-2 div.sk-toggleable__content {max-height: 0;max-width: 0;overflow: hidden;text-align: left;background-color: #f0f8ff;}#sk-container-id-2 div.sk-toggleable__content pre {margin: 0.2em;color: black;border-radius: 0.25em;background-color: #f0f8ff;}#sk-container-id-2 input.sk-toggleable__control:checked~div.sk-toggleable__content {max-height: 200px;max-width: 100%;overflow: auto;}#sk-container-id-2 input.sk-toggleable__control:checked~label.sk-toggleable__label-arrow:before {content: \"▾\";}#sk-container-id-2 div.sk-estimator input.sk-toggleable__control:checked~label.sk-toggleable__label {background-color: #d4ebff;}#sk-container-id-2 div.sk-label input.sk-toggleable__control:checked~label.sk-toggleable__label {background-color: #d4ebff;}#sk-container-id-2 input.sk-hidden--visually {border: 0;clip: rect(1px 1px 1px 1px);clip: rect(1px, 1px, 1px, 1px);height: 1px;margin: -1px;overflow: hidden;padding: 0;position: absolute;width: 1px;}#sk-container-id-2 div.sk-estimator {font-family: monospace;background-color: #f0f8ff;border: 1px dotted black;border-radius: 0.25em;box-sizing: border-box;margin-bottom: 0.5em;}#sk-container-id-2 div.sk-estimator:hover {background-color: #d4ebff;}#sk-container-id-2 div.sk-parallel-item::after {content: \"\";width: 100%;border-bottom: 1px solid gray;flex-grow: 1;}#sk-container-id-2 div.sk-label:hover label.sk-toggleable__label {background-color: #d4ebff;}#sk-container-id-2 div.sk-serial::before {content: \"\";position: absolute;border-left: 1px solid gray;box-sizing: border-box;top: 0;bottom: 0;left: 50%;z-index: 0;}#sk-container-id-2 div.sk-serial {display: flex;flex-direction: column;align-items: center;background-color: white;padding-right: 0.2em;padding-left: 0.2em;position: relative;}#sk-container-id-2 div.sk-item {position: relative;z-index: 1;}#sk-container-id-2 div.sk-parallel {display: flex;align-items: stretch;justify-content: center;background-color: white;position: relative;}#sk-container-id-2 div.sk-item::before, #sk-container-id-2 div.sk-parallel-item::before {content: \"\";position: absolute;border-left: 1px solid gray;box-sizing: border-box;top: 0;bottom: 0;left: 50%;z-index: -1;}#sk-container-id-2 div.sk-parallel-item {display: flex;flex-direction: column;z-index: 1;position: relative;background-color: white;}#sk-container-id-2 div.sk-parallel-item:first-child::after {align-self: flex-end;width: 50%;}#sk-container-id-2 div.sk-parallel-item:last-child::after {align-self: flex-start;width: 50%;}#sk-container-id-2 div.sk-parallel-item:only-child::after {width: 0;}#sk-container-id-2 div.sk-dashed-wrapped {border: 1px dashed gray;margin: 0 0.4em 0.5em 0.4em;box-sizing: border-box;padding-bottom: 0.4em;background-color: white;}#sk-container-id-2 div.sk-label label {font-family: monospace;font-weight: bold;display: inline-block;line-height: 1.2em;}#sk-container-id-2 div.sk-label-container {text-align: center;}#sk-container-id-2 div.sk-container {/* jupyter's `normalize.less` sets `[hidden] { display: none; }` but bootstrap.min.css set `[hidden] { display: none !important; }` so we also need the `!important` here to be able to override the default hidden behavior on the sphinx rendered scikit-learn.org. See: https://github.com/scikit-learn/scikit-learn/issues/21755 */display: inline-block !important;position: relative;}#sk-container-id-2 div.sk-text-repr-fallback {display: none;}</style><div id=\"sk-container-id-2\" class=\"sk-top-container\"><div class=\"sk-text-repr-fallback\"><pre>LinearRegression()</pre><b>In a Jupyter environment, please rerun this cell to show the HTML representation or trust the notebook. <br />On GitHub, the HTML representation is unable to render, please try loading this page with nbviewer.org.</b></div><div class=\"sk-container\" hidden><div class=\"sk-item\"><div class=\"sk-estimator sk-toggleable\"><input class=\"sk-toggleable__control sk-hidden--visually\" id=\"sk-estimator-id-2\" type=\"checkbox\" checked><label for=\"sk-estimator-id-2\" class=\"sk-toggleable__label sk-toggleable__label-arrow\">LinearRegression</label><div class=\"sk-toggleable__content\"><pre>LinearRegression()</pre></div></div></div></div></div>"
      ],
      "text/plain": [
       "LinearRegression()"
      ]
     },
     "execution_count": 29,
     "metadata": {},
     "output_type": "execute_result"
    }
   ],
   "source": [
    "mlr = LinearRegression()  \n",
    "mlr.fit(x2_train, y2_train)"
   ]
  },
  {
   "cell_type": "markdown",
   "metadata": {},
   "source": [
    "### Regression analysis"
   ]
  },
  {
   "cell_type": "code",
   "execution_count": 30,
   "metadata": {
    "scrolled": true
   },
   "outputs": [
    {
     "name": "stdout",
     "output_type": "stream",
     "text": [
      "Intercept: -318.71320710337443\n",
      "Coefficients:\n"
     ]
    },
    {
     "data": {
      "text/plain": [
       "[('livingSpace', 12.181414790597183),\n",
       " ('districtPop', 0.00043627986259962305),\n",
       " ('hasKitchen', 162.0002540169191),\n",
       " ('picturecount', 3.2030733439862327),\n",
       " ('populationDensity', -0.25123165994201213),\n",
       " ('balcony', 25.145541432626725),\n",
       " ('lift', 196.13976284918564)]"
      ]
     },
     "execution_count": 30,
     "metadata": {},
     "output_type": "execute_result"
    }
   ],
   "source": [
    "print('Intercept:', mlr.intercept_)\n",
    "print('Coefficients:')\n",
    "list(zip(X2, mlr.coef_))"
   ]
  },
  {
   "cell_type": "code",
   "execution_count": 31,
   "metadata": {
    "scrolled": true
   },
   "outputs": [
    {
     "name": "stdout",
     "output_type": "stream",
     "text": [
      "Prediction for test set: [ 365.78195707  286.69994155 1176.53019063 ...  523.07684623  254.69365457\n",
      "  840.13263554]\n"
     ]
    }
   ],
   "source": [
    "# Prediction of test set\n",
    "y_pred_mlr= mlr.predict(x2_test)\n",
    "# Predicted values\n",
    "print('Prediction for test set: {}'.format(y_pred_mlr))"
   ]
  },
  {
   "cell_type": "code",
   "execution_count": 32,
   "metadata": {
    "scrolled": true
   },
   "outputs": [
    {
     "data": {
      "text/html": [
       "<div>\n",
       "<style scoped>\n",
       "    .dataframe tbody tr th:only-of-type {\n",
       "        vertical-align: middle;\n",
       "    }\n",
       "\n",
       "    .dataframe tbody tr th {\n",
       "        vertical-align: top;\n",
       "    }\n",
       "\n",
       "    .dataframe thead th {\n",
       "        text-align: right;\n",
       "    }\n",
       "</style>\n",
       "<table border=\"1\" class=\"dataframe\">\n",
       "  <thead>\n",
       "    <tr style=\"text-align: right;\">\n",
       "      <th></th>\n",
       "      <th>Actual value</th>\n",
       "      <th>Predicted value</th>\n",
       "    </tr>\n",
       "  </thead>\n",
       "  <tbody>\n",
       "    <tr>\n",
       "      <th>109587</th>\n",
       "      <td>392.81</td>\n",
       "      <td>365.781957</td>\n",
       "    </tr>\n",
       "    <tr>\n",
       "      <th>203583</th>\n",
       "      <td>710.00</td>\n",
       "      <td>286.699942</td>\n",
       "    </tr>\n",
       "    <tr>\n",
       "      <th>104682</th>\n",
       "      <td>698.00</td>\n",
       "      <td>1176.530191</td>\n",
       "    </tr>\n",
       "    <tr>\n",
       "      <th>201752</th>\n",
       "      <td>1130.00</td>\n",
       "      <td>1084.131017</td>\n",
       "    </tr>\n",
       "    <tr>\n",
       "      <th>249071</th>\n",
       "      <td>1030.00</td>\n",
       "      <td>1148.861006</td>\n",
       "    </tr>\n",
       "  </tbody>\n",
       "</table>\n",
       "</div>"
      ],
      "text/plain": [
       "        Actual value  Predicted value\n",
       "109587        392.81       365.781957\n",
       "203583        710.00       286.699942\n",
       "104682        698.00      1176.530191\n",
       "201752       1130.00      1084.131017\n",
       "249071       1030.00      1148.861006"
      ]
     },
     "execution_count": 32,
     "metadata": {},
     "output_type": "execute_result"
    }
   ],
   "source": [
    "mlr_diff = pd.DataFrame({'Actual value': y2_test, 'Predicted value': y_pred_mlr})\n",
    "mlr_diff.head()"
   ]
  },
  {
   "cell_type": "code",
   "execution_count": 36,
   "metadata": {},
   "outputs": [
    {
     "name": "stdout",
     "output_type": "stream",
     "text": [
      "R squared: 69.31\n",
      "Mean Absolute Error: 195.73629144684992\n",
      "Root Mean Square Error: 307.54326135735874\n"
     ]
    }
   ],
   "source": [
    "from sklearn import metrics\n",
    "meanAbErr = metrics.mean_absolute_error(y2_test, y_pred_mlr)\n",
    "rootMeanSqErr = metrics.mean_squared_error(y2_test, y_pred_mlr, squared=False)\n",
    "print('R squared: {:.2f}'.format(mlr.score(X2,y2)*100))\n",
    "print('Mean Absolute Error:', meanAbErr)\n",
    "print('Root Mean Square Error:', rootMeanSqErr)\n",
    "# kitchen, district pop, picture count, popdensity, balcony, lift, living space"
   ]
  },
  {
   "cell_type": "markdown",
   "metadata": {},
   "source": [
    "## Living space, district population trend and district population"
   ]
  },
  {
   "cell_type": "code",
   "execution_count": 59,
   "metadata": {},
   "outputs": [],
   "source": [
    "X3 = reg_sub_trim[['livingSpace', 'districtPop', 'districtPopTrend']]\n",
    "y3 = reg_sub_trim['totalRent']"
   ]
  },
  {
   "cell_type": "code",
   "execution_count": 60,
   "metadata": {
    "scrolled": true
   },
   "outputs": [],
   "source": [
    "#Splitting the dataset\n",
    "from sklearn.model_selection import train_test_split\n",
    "x3_train, x3_test, y3_train, y3_test = train_test_split(X3, y3, test_size = 0.3, random_state = 100)"
   ]
  },
  {
   "cell_type": "code",
   "execution_count": 61,
   "metadata": {
    "scrolled": true
   },
   "outputs": [
    {
     "data": {
      "text/html": [
       "<style>#sk-container-id-6 {color: black;background-color: white;}#sk-container-id-6 pre{padding: 0;}#sk-container-id-6 div.sk-toggleable {background-color: white;}#sk-container-id-6 label.sk-toggleable__label {cursor: pointer;display: block;width: 100%;margin-bottom: 0;padding: 0.3em;box-sizing: border-box;text-align: center;}#sk-container-id-6 label.sk-toggleable__label-arrow:before {content: \"▸\";float: left;margin-right: 0.25em;color: #696969;}#sk-container-id-6 label.sk-toggleable__label-arrow:hover:before {color: black;}#sk-container-id-6 div.sk-estimator:hover label.sk-toggleable__label-arrow:before {color: black;}#sk-container-id-6 div.sk-toggleable__content {max-height: 0;max-width: 0;overflow: hidden;text-align: left;background-color: #f0f8ff;}#sk-container-id-6 div.sk-toggleable__content pre {margin: 0.2em;color: black;border-radius: 0.25em;background-color: #f0f8ff;}#sk-container-id-6 input.sk-toggleable__control:checked~div.sk-toggleable__content {max-height: 200px;max-width: 100%;overflow: auto;}#sk-container-id-6 input.sk-toggleable__control:checked~label.sk-toggleable__label-arrow:before {content: \"▾\";}#sk-container-id-6 div.sk-estimator input.sk-toggleable__control:checked~label.sk-toggleable__label {background-color: #d4ebff;}#sk-container-id-6 div.sk-label input.sk-toggleable__control:checked~label.sk-toggleable__label {background-color: #d4ebff;}#sk-container-id-6 input.sk-hidden--visually {border: 0;clip: rect(1px 1px 1px 1px);clip: rect(1px, 1px, 1px, 1px);height: 1px;margin: -1px;overflow: hidden;padding: 0;position: absolute;width: 1px;}#sk-container-id-6 div.sk-estimator {font-family: monospace;background-color: #f0f8ff;border: 1px dotted black;border-radius: 0.25em;box-sizing: border-box;margin-bottom: 0.5em;}#sk-container-id-6 div.sk-estimator:hover {background-color: #d4ebff;}#sk-container-id-6 div.sk-parallel-item::after {content: \"\";width: 100%;border-bottom: 1px solid gray;flex-grow: 1;}#sk-container-id-6 div.sk-label:hover label.sk-toggleable__label {background-color: #d4ebff;}#sk-container-id-6 div.sk-serial::before {content: \"\";position: absolute;border-left: 1px solid gray;box-sizing: border-box;top: 0;bottom: 0;left: 50%;z-index: 0;}#sk-container-id-6 div.sk-serial {display: flex;flex-direction: column;align-items: center;background-color: white;padding-right: 0.2em;padding-left: 0.2em;position: relative;}#sk-container-id-6 div.sk-item {position: relative;z-index: 1;}#sk-container-id-6 div.sk-parallel {display: flex;align-items: stretch;justify-content: center;background-color: white;position: relative;}#sk-container-id-6 div.sk-item::before, #sk-container-id-6 div.sk-parallel-item::before {content: \"\";position: absolute;border-left: 1px solid gray;box-sizing: border-box;top: 0;bottom: 0;left: 50%;z-index: -1;}#sk-container-id-6 div.sk-parallel-item {display: flex;flex-direction: column;z-index: 1;position: relative;background-color: white;}#sk-container-id-6 div.sk-parallel-item:first-child::after {align-self: flex-end;width: 50%;}#sk-container-id-6 div.sk-parallel-item:last-child::after {align-self: flex-start;width: 50%;}#sk-container-id-6 div.sk-parallel-item:only-child::after {width: 0;}#sk-container-id-6 div.sk-dashed-wrapped {border: 1px dashed gray;margin: 0 0.4em 0.5em 0.4em;box-sizing: border-box;padding-bottom: 0.4em;background-color: white;}#sk-container-id-6 div.sk-label label {font-family: monospace;font-weight: bold;display: inline-block;line-height: 1.2em;}#sk-container-id-6 div.sk-label-container {text-align: center;}#sk-container-id-6 div.sk-container {/* jupyter's `normalize.less` sets `[hidden] { display: none; }` but bootstrap.min.css set `[hidden] { display: none !important; }` so we also need the `!important` here to be able to override the default hidden behavior on the sphinx rendered scikit-learn.org. See: https://github.com/scikit-learn/scikit-learn/issues/21755 */display: inline-block !important;position: relative;}#sk-container-id-6 div.sk-text-repr-fallback {display: none;}</style><div id=\"sk-container-id-6\" class=\"sk-top-container\"><div class=\"sk-text-repr-fallback\"><pre>LinearRegression()</pre><b>In a Jupyter environment, please rerun this cell to show the HTML representation or trust the notebook. <br />On GitHub, the HTML representation is unable to render, please try loading this page with nbviewer.org.</b></div><div class=\"sk-container\" hidden><div class=\"sk-item\"><div class=\"sk-estimator sk-toggleable\"><input class=\"sk-toggleable__control sk-hidden--visually\" id=\"sk-estimator-id-6\" type=\"checkbox\" checked><label for=\"sk-estimator-id-6\" class=\"sk-toggleable__label sk-toggleable__label-arrow\">LinearRegression</label><div class=\"sk-toggleable__content\"><pre>LinearRegression()</pre></div></div></div></div></div>"
      ],
      "text/plain": [
       "LinearRegression()"
      ]
     },
     "execution_count": 61,
     "metadata": {},
     "output_type": "execute_result"
    }
   ],
   "source": [
    "mlr = LinearRegression()  \n",
    "mlr.fit(x3_train, y3_train)"
   ]
  },
  {
   "cell_type": "markdown",
   "metadata": {},
   "source": [
    "### Regression analysis"
   ]
  },
  {
   "cell_type": "code",
   "execution_count": 62,
   "metadata": {
    "scrolled": true
   },
   "outputs": [
    {
     "name": "stdout",
     "output_type": "stream",
     "text": [
      "Intercept: -259.6530514553625\n",
      "Coefficients:\n"
     ]
    },
    {
     "data": {
      "text/plain": [
       "[('livingSpace', 12.597134101716383),\n",
       " ('districtPop', 0.0001702190223418785),\n",
       " ('districtPopTrend', 160.7714486261447)]"
      ]
     },
     "execution_count": 62,
     "metadata": {},
     "output_type": "execute_result"
    }
   ],
   "source": [
    "print('Intercept:', mlr.intercept_)\n",
    "print('Coefficients:')\n",
    "list(zip(X3, mlr.coef_))"
   ]
  },
  {
   "cell_type": "code",
   "execution_count": 63,
   "metadata": {
    "scrolled": true
   },
   "outputs": [
    {
     "name": "stdout",
     "output_type": "stream",
     "text": [
      "Prediction for test set: [ 402.28161172  553.5131752  1152.85412752 ...  433.1362373   329.76127667\n",
      "  736.61465923]\n"
     ]
    }
   ],
   "source": [
    "# Prediction of test set\n",
    "y_pred_mlr= mlr.predict(x3_test)\n",
    "# Predicted values\n",
    "print('Prediction for test set: {}'.format(y_pred_mlr))"
   ]
  },
  {
   "cell_type": "code",
   "execution_count": 64,
   "metadata": {
    "scrolled": true
   },
   "outputs": [
    {
     "data": {
      "text/html": [
       "<div>\n",
       "<style scoped>\n",
       "    .dataframe tbody tr th:only-of-type {\n",
       "        vertical-align: middle;\n",
       "    }\n",
       "\n",
       "    .dataframe tbody tr th {\n",
       "        vertical-align: top;\n",
       "    }\n",
       "\n",
       "    .dataframe thead th {\n",
       "        text-align: right;\n",
       "    }\n",
       "</style>\n",
       "<table border=\"1\" class=\"dataframe\">\n",
       "  <thead>\n",
       "    <tr style=\"text-align: right;\">\n",
       "      <th></th>\n",
       "      <th>Actual value</th>\n",
       "      <th>Predicted value</th>\n",
       "    </tr>\n",
       "  </thead>\n",
       "  <tbody>\n",
       "    <tr>\n",
       "      <th>109587</th>\n",
       "      <td>392.81</td>\n",
       "      <td>402.281612</td>\n",
       "    </tr>\n",
       "    <tr>\n",
       "      <th>203583</th>\n",
       "      <td>710.00</td>\n",
       "      <td>553.513175</td>\n",
       "    </tr>\n",
       "    <tr>\n",
       "      <th>104682</th>\n",
       "      <td>698.00</td>\n",
       "      <td>1152.854128</td>\n",
       "    </tr>\n",
       "    <tr>\n",
       "      <th>201752</th>\n",
       "      <td>1130.00</td>\n",
       "      <td>1108.552320</td>\n",
       "    </tr>\n",
       "    <tr>\n",
       "      <th>249071</th>\n",
       "      <td>1030.00</td>\n",
       "      <td>1381.549780</td>\n",
       "    </tr>\n",
       "  </tbody>\n",
       "</table>\n",
       "</div>"
      ],
      "text/plain": [
       "        Actual value  Predicted value\n",
       "109587        392.81       402.281612\n",
       "203583        710.00       553.513175\n",
       "104682        698.00      1152.854128\n",
       "201752       1130.00      1108.552320\n",
       "249071       1030.00      1381.549780"
      ]
     },
     "execution_count": 64,
     "metadata": {},
     "output_type": "execute_result"
    }
   ],
   "source": [
    "mlr_diff = pd.DataFrame({'Actual value': y3_test, 'Predicted value': y_pred_mlr})\n",
    "mlr_diff.head()"
   ]
  },
  {
   "cell_type": "code",
   "execution_count": 65,
   "metadata": {},
   "outputs": [
    {
     "name": "stdout",
     "output_type": "stream",
     "text": [
      "R squared: 63.90\n",
      "Mean Absolute Error: 209.73663503785565\n",
      "Root Mean Square Error: 334.4886909663185\n"
     ]
    }
   ],
   "source": [
    "from sklearn import metrics\n",
    "meanAbErr = metrics.mean_absolute_error(y3_test, y_pred_mlr)\n",
    "rootMeanSqErr = metrics.mean_squared_error(y3_test, y_pred_mlr, squared=False)\n",
    "print('R squared: {:.2f}'.format(mlr.score(X3,y3)*100))\n",
    "print('Mean Absolute Error:', meanAbErr)\n",
    "print('Root Mean Square Error:', rootMeanSqErr)\n",
    "# livingSpace, district population trend and district population"
   ]
  }
 ],
 "metadata": {
  "kernelspec": {
   "display_name": "Python 3 (ipykernel)",
   "language": "python",
   "name": "python3"
  },
  "language_info": {
   "codemirror_mode": {
    "name": "ipython",
    "version": 3
   },
   "file_extension": ".py",
   "mimetype": "text/x-python",
   "name": "python",
   "nbconvert_exporter": "python",
   "pygments_lexer": "ipython3",
   "version": "3.10.9"
  }
 },
 "nbformat": 4,
 "nbformat_minor": 4
}

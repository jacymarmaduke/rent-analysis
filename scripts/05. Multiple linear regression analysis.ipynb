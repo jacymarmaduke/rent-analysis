{
 "cells": [
  {
   "cell_type": "markdown",
   "metadata": {},
   "source": [
    "## Multiple linear regression analysis"
   ]
  },
  {
   "cell_type": "markdown",
   "metadata": {},
   "source": [
    "### This script contains the following:\n",
    "\n",
    "#### 01. Import libraries and data\n",
    "#### 02. Clean data\n",
    "#### 03. Data prep for regression analysis\n",
    "#### 04. Regression analysis\n",
    "#### 05. Evaluate performance after removing outliers \n",
    "\n",
    "### Note: The top-performing model, seen below, incorporated kitchen, district pop, state pop, picture count, popdensity, balcony, lift and living space to predict total rent with an R-squared of 72 and mean absolute error of 182. \n",
    "### The persistence of the large error and relatively low r-squared score suggests that multiple linear regression isn't the best approach for this dataset."
   ]
  },
  {
   "cell_type": "markdown",
   "metadata": {},
   "source": [
    "### 1. Import libraries and data"
   ]
  },
  {
   "cell_type": "code",
   "execution_count": 1,
   "metadata": {},
   "outputs": [],
   "source": [
    "import pandas as pd\n",
    "import numpy as np\n",
    "import seaborn as sns\n",
    "import matplotlib\n",
    "import matplotlib.pyplot as plt\n",
    "import os\n",
    "import sklearn\n",
    "from sklearn.model_selection import train_test_split \n",
    "from sklearn.linear_model import LinearRegression\n",
    "from sklearn.metrics import mean_squared_error, r2_score"
   ]
  },
  {
   "cell_type": "code",
   "execution_count": 2,
   "metadata": {},
   "outputs": [],
   "source": [
    "# This option ensures that the graphs you create are displayed within the notebook without the need to \"call\" them specifically.\n",
    "\n",
    "%matplotlib inline"
   ]
  },
  {
   "cell_type": "code",
   "execution_count": 3,
   "metadata": {},
   "outputs": [],
   "source": [
    "path = r'C:\\Users\\jacym\\Desktop\\Career Foundry projects\\german rent\\02 data'"
   ]
  },
  {
   "cell_type": "code",
   "execution_count": 4,
   "metadata": {},
   "outputs": [],
   "source": [
    "df = pd.read_csv(os.path.join(path, 'cleaned data', 'rent_district_pop_merged.csv'))"
   ]
  },
  {
   "cell_type": "markdown",
   "metadata": {},
   "source": [
    "### 2. Data cleaning"
   ]
  },
  {
   "cell_type": "code",
   "execution_count": 5,
   "metadata": {
    "scrolled": true
   },
   "outputs": [
    {
     "data": {
      "text/plain": [
       "Index(['scoutId', 'regio1', 'baseRent', 'totalRent', 'pricetrend',\n",
       "       'livingSpace', 'plz', 'picturecount', 'newlyConst', 'yearConstructed',\n",
       "       'firingTypes', 'heatingType', 'hasKitchen', 'cellar', 'condition',\n",
       "       'street', 'lift', 'typeOfFlat', 'noRooms', 'floor', 'balcony', 'garden',\n",
       "       'baseRentRange', 'noRoomsRange', 'livingSpaceRange',\n",
       "       'yearConstructedRange', 'regio2', 'regio3', 'description', 'date',\n",
       "       'population', 'populationTrend', 'popTrendCat', 'surfaceArea',\n",
       "       'populationDensity', 'space/person', 'people/apt', 'districtPopTrend',\n",
       "       'districtPop'],\n",
       "      dtype='object')"
      ]
     },
     "execution_count": 5,
     "metadata": {},
     "output_type": "execute_result"
    }
   ],
   "source": [
    "df.columns"
   ]
  },
  {
   "cell_type": "code",
   "execution_count": 7,
   "metadata": {
    "scrolled": true
   },
   "outputs": [
    {
     "data": {
      "text/html": [
       "<div>\n",
       "<style scoped>\n",
       "    .dataframe tbody tr th:only-of-type {\n",
       "        vertical-align: middle;\n",
       "    }\n",
       "\n",
       "    .dataframe tbody tr th {\n",
       "        vertical-align: top;\n",
       "    }\n",
       "\n",
       "    .dataframe thead th {\n",
       "        text-align: right;\n",
       "    }\n",
       "</style>\n",
       "<table border=\"1\" class=\"dataframe\">\n",
       "  <thead>\n",
       "    <tr style=\"text-align: right;\">\n",
       "      <th></th>\n",
       "      <th>scoutId</th>\n",
       "      <th>regio1</th>\n",
       "      <th>baseRent</th>\n",
       "      <th>totalRent</th>\n",
       "      <th>pricetrend</th>\n",
       "      <th>livingSpace</th>\n",
       "      <th>plz</th>\n",
       "      <th>picturecount</th>\n",
       "      <th>newlyConst</th>\n",
       "      <th>yearConstructed</th>\n",
       "      <th>...</th>\n",
       "      <th>population</th>\n",
       "      <th>populationTrend</th>\n",
       "      <th>popTrendCat</th>\n",
       "      <th>surfaceArea</th>\n",
       "      <th>populationDensity</th>\n",
       "      <th>space/person</th>\n",
       "      <th>people/apt</th>\n",
       "      <th>districtPopTrend</th>\n",
       "      <th>districtPop</th>\n",
       "      <th>price/unit</th>\n",
       "    </tr>\n",
       "  </thead>\n",
       "  <tbody>\n",
       "    <tr>\n",
       "      <th>0</th>\n",
       "      <td>96107057</td>\n",
       "      <td>Nordrhein_Westfalen</td>\n",
       "      <td>595.00</td>\n",
       "      <td>840.00</td>\n",
       "      <td>4.62</td>\n",
       "      <td>86.00</td>\n",
       "      <td>44269</td>\n",
       "      <td>6</td>\n",
       "      <td>False</td>\n",
       "      <td>1965.0</td>\n",
       "      <td>...</td>\n",
       "      <td>17935147</td>\n",
       "      <td>-0.02</td>\n",
       "      <td>stable</td>\n",
       "      <td>34098</td>\n",
       "      <td>526</td>\n",
       "      <td>41.41</td>\n",
       "      <td>2.12</td>\n",
       "      <td>0.33</td>\n",
       "      <td>587010</td>\n",
       "      <td>9.767442</td>\n",
       "    </tr>\n",
       "    <tr>\n",
       "      <th>1</th>\n",
       "      <td>92798563</td>\n",
       "      <td>Nordrhein_Westfalen</td>\n",
       "      <td>972.60</td>\n",
       "      <td>1320.65</td>\n",
       "      <td>3.76</td>\n",
       "      <td>87.00</td>\n",
       "      <td>44229</td>\n",
       "      <td>12</td>\n",
       "      <td>True</td>\n",
       "      <td>2018.0</td>\n",
       "      <td>...</td>\n",
       "      <td>17935147</td>\n",
       "      <td>-0.02</td>\n",
       "      <td>stable</td>\n",
       "      <td>34098</td>\n",
       "      <td>526</td>\n",
       "      <td>41.41</td>\n",
       "      <td>2.12</td>\n",
       "      <td>0.33</td>\n",
       "      <td>587010</td>\n",
       "      <td>15.179885</td>\n",
       "    </tr>\n",
       "    <tr>\n",
       "      <th>2</th>\n",
       "      <td>114894763</td>\n",
       "      <td>Nordrhein_Westfalen</td>\n",
       "      <td>396.80</td>\n",
       "      <td>493.80</td>\n",
       "      <td>4.10</td>\n",
       "      <td>62.00</td>\n",
       "      <td>44137</td>\n",
       "      <td>0</td>\n",
       "      <td>False</td>\n",
       "      <td>1958.0</td>\n",
       "      <td>...</td>\n",
       "      <td>17935147</td>\n",
       "      <td>-0.02</td>\n",
       "      <td>stable</td>\n",
       "      <td>34098</td>\n",
       "      <td>526</td>\n",
       "      <td>41.41</td>\n",
       "      <td>2.12</td>\n",
       "      <td>0.33</td>\n",
       "      <td>587010</td>\n",
       "      <td>7.964516</td>\n",
       "    </tr>\n",
       "    <tr>\n",
       "      <th>3</th>\n",
       "      <td>90046012</td>\n",
       "      <td>Nordrhein_Westfalen</td>\n",
       "      <td>310.00</td>\n",
       "      <td>460.00</td>\n",
       "      <td>3.28</td>\n",
       "      <td>55.00</td>\n",
       "      <td>44329</td>\n",
       "      <td>14</td>\n",
       "      <td>False</td>\n",
       "      <td>1930.0</td>\n",
       "      <td>...</td>\n",
       "      <td>17935147</td>\n",
       "      <td>-0.02</td>\n",
       "      <td>stable</td>\n",
       "      <td>34098</td>\n",
       "      <td>526</td>\n",
       "      <td>41.41</td>\n",
       "      <td>2.12</td>\n",
       "      <td>0.33</td>\n",
       "      <td>587010</td>\n",
       "      <td>8.363636</td>\n",
       "    </tr>\n",
       "    <tr>\n",
       "      <th>4</th>\n",
       "      <td>87928570</td>\n",
       "      <td>Nordrhein_Westfalen</td>\n",
       "      <td>301.00</td>\n",
       "      <td>NaN</td>\n",
       "      <td>4.41</td>\n",
       "      <td>30.07</td>\n",
       "      <td>44137</td>\n",
       "      <td>31</td>\n",
       "      <td>False</td>\n",
       "      <td>1979.0</td>\n",
       "      <td>...</td>\n",
       "      <td>17935147</td>\n",
       "      <td>-0.02</td>\n",
       "      <td>stable</td>\n",
       "      <td>34098</td>\n",
       "      <td>526</td>\n",
       "      <td>41.41</td>\n",
       "      <td>2.12</td>\n",
       "      <td>0.33</td>\n",
       "      <td>587010</td>\n",
       "      <td>NaN</td>\n",
       "    </tr>\n",
       "    <tr>\n",
       "      <th>5</th>\n",
       "      <td>79343710</td>\n",
       "      <td>Nordrhein_Westfalen</td>\n",
       "      <td>1550.00</td>\n",
       "      <td>2205.00</td>\n",
       "      <td>3.85</td>\n",
       "      <td>148.00</td>\n",
       "      <td>44229</td>\n",
       "      <td>32</td>\n",
       "      <td>False</td>\n",
       "      <td>2015.0</td>\n",
       "      <td>...</td>\n",
       "      <td>17935147</td>\n",
       "      <td>-0.02</td>\n",
       "      <td>stable</td>\n",
       "      <td>34098</td>\n",
       "      <td>526</td>\n",
       "      <td>41.41</td>\n",
       "      <td>2.12</td>\n",
       "      <td>0.33</td>\n",
       "      <td>587010</td>\n",
       "      <td>14.898649</td>\n",
       "    </tr>\n",
       "    <tr>\n",
       "      <th>6</th>\n",
       "      <td>62267211</td>\n",
       "      <td>Nordrhein_Westfalen</td>\n",
       "      <td>440.00</td>\n",
       "      <td>525.00</td>\n",
       "      <td>4.41</td>\n",
       "      <td>67.00</td>\n",
       "      <td>44137</td>\n",
       "      <td>6</td>\n",
       "      <td>False</td>\n",
       "      <td>1965.0</td>\n",
       "      <td>...</td>\n",
       "      <td>17935147</td>\n",
       "      <td>-0.02</td>\n",
       "      <td>stable</td>\n",
       "      <td>34098</td>\n",
       "      <td>526</td>\n",
       "      <td>41.41</td>\n",
       "      <td>2.12</td>\n",
       "      <td>0.33</td>\n",
       "      <td>587010</td>\n",
       "      <td>7.835821</td>\n",
       "    </tr>\n",
       "    <tr>\n",
       "      <th>7</th>\n",
       "      <td>93403649</td>\n",
       "      <td>Nordrhein_Westfalen</td>\n",
       "      <td>370.00</td>\n",
       "      <td>500.00</td>\n",
       "      <td>4.55</td>\n",
       "      <td>50.00</td>\n",
       "      <td>44287</td>\n",
       "      <td>13</td>\n",
       "      <td>False</td>\n",
       "      <td>NaN</td>\n",
       "      <td>...</td>\n",
       "      <td>17935147</td>\n",
       "      <td>-0.02</td>\n",
       "      <td>stable</td>\n",
       "      <td>34098</td>\n",
       "      <td>526</td>\n",
       "      <td>41.41</td>\n",
       "      <td>2.12</td>\n",
       "      <td>0.33</td>\n",
       "      <td>587010</td>\n",
       "      <td>10.000000</td>\n",
       "    </tr>\n",
       "    <tr>\n",
       "      <th>8</th>\n",
       "      <td>113557346</td>\n",
       "      <td>Nordrhein_Westfalen</td>\n",
       "      <td>403.75</td>\n",
       "      <td>653.75</td>\n",
       "      <td>3.71</td>\n",
       "      <td>85.00</td>\n",
       "      <td>44143</td>\n",
       "      <td>8</td>\n",
       "      <td>False</td>\n",
       "      <td>1981.0</td>\n",
       "      <td>...</td>\n",
       "      <td>17935147</td>\n",
       "      <td>-0.02</td>\n",
       "      <td>stable</td>\n",
       "      <td>34098</td>\n",
       "      <td>526</td>\n",
       "      <td>41.41</td>\n",
       "      <td>2.12</td>\n",
       "      <td>0.33</td>\n",
       "      <td>587010</td>\n",
       "      <td>7.691176</td>\n",
       "    </tr>\n",
       "    <tr>\n",
       "      <th>9</th>\n",
       "      <td>111370962</td>\n",
       "      <td>Nordrhein_Westfalen</td>\n",
       "      <td>512.00</td>\n",
       "      <td>672.00</td>\n",
       "      <td>4.44</td>\n",
       "      <td>64.00</td>\n",
       "      <td>44225</td>\n",
       "      <td>5</td>\n",
       "      <td>False</td>\n",
       "      <td>1964.0</td>\n",
       "      <td>...</td>\n",
       "      <td>17935147</td>\n",
       "      <td>-0.02</td>\n",
       "      <td>stable</td>\n",
       "      <td>34098</td>\n",
       "      <td>526</td>\n",
       "      <td>41.41</td>\n",
       "      <td>2.12</td>\n",
       "      <td>0.33</td>\n",
       "      <td>587010</td>\n",
       "      <td>10.500000</td>\n",
       "    </tr>\n",
       "    <tr>\n",
       "      <th>10</th>\n",
       "      <td>107358285</td>\n",
       "      <td>Nordrhein_Westfalen</td>\n",
       "      <td>372.09</td>\n",
       "      <td>522.09</td>\n",
       "      <td>4.69</td>\n",
       "      <td>42.80</td>\n",
       "      <td>44339</td>\n",
       "      <td>7</td>\n",
       "      <td>False</td>\n",
       "      <td>1954.0</td>\n",
       "      <td>...</td>\n",
       "      <td>17935147</td>\n",
       "      <td>-0.02</td>\n",
       "      <td>stable</td>\n",
       "      <td>34098</td>\n",
       "      <td>526</td>\n",
       "      <td>41.41</td>\n",
       "      <td>2.12</td>\n",
       "      <td>0.33</td>\n",
       "      <td>587010</td>\n",
       "      <td>12.198364</td>\n",
       "    </tr>\n",
       "    <tr>\n",
       "      <th>11</th>\n",
       "      <td>115284222</td>\n",
       "      <td>Nordrhein_Westfalen</td>\n",
       "      <td>419.00</td>\n",
       "      <td>580.00</td>\n",
       "      <td>4.74</td>\n",
       "      <td>53.03</td>\n",
       "      <td>44369</td>\n",
       "      <td>2</td>\n",
       "      <td>False</td>\n",
       "      <td>1951.0</td>\n",
       "      <td>...</td>\n",
       "      <td>17935147</td>\n",
       "      <td>-0.02</td>\n",
       "      <td>stable</td>\n",
       "      <td>34098</td>\n",
       "      <td>526</td>\n",
       "      <td>41.41</td>\n",
       "      <td>2.12</td>\n",
       "      <td>0.33</td>\n",
       "      <td>587010</td>\n",
       "      <td>10.937205</td>\n",
       "    </tr>\n",
       "    <tr>\n",
       "      <th>12</th>\n",
       "      <td>99644451</td>\n",
       "      <td>Nordrhein_Westfalen</td>\n",
       "      <td>999.00</td>\n",
       "      <td>1199.00</td>\n",
       "      <td>3.44</td>\n",
       "      <td>80.00</td>\n",
       "      <td>44141</td>\n",
       "      <td>14</td>\n",
       "      <td>False</td>\n",
       "      <td>NaN</td>\n",
       "      <td>...</td>\n",
       "      <td>17935147</td>\n",
       "      <td>-0.02</td>\n",
       "      <td>stable</td>\n",
       "      <td>34098</td>\n",
       "      <td>526</td>\n",
       "      <td>41.41</td>\n",
       "      <td>2.12</td>\n",
       "      <td>0.33</td>\n",
       "      <td>587010</td>\n",
       "      <td>14.987500</td>\n",
       "    </tr>\n",
       "    <tr>\n",
       "      <th>13</th>\n",
       "      <td>111401006</td>\n",
       "      <td>Nordrhein_Westfalen</td>\n",
       "      <td>625.00</td>\n",
       "      <td>775.00</td>\n",
       "      <td>2.64</td>\n",
       "      <td>97.00</td>\n",
       "      <td>44289</td>\n",
       "      <td>18</td>\n",
       "      <td>False</td>\n",
       "      <td>NaN</td>\n",
       "      <td>...</td>\n",
       "      <td>17935147</td>\n",
       "      <td>-0.02</td>\n",
       "      <td>stable</td>\n",
       "      <td>34098</td>\n",
       "      <td>526</td>\n",
       "      <td>41.41</td>\n",
       "      <td>2.12</td>\n",
       "      <td>0.33</td>\n",
       "      <td>587010</td>\n",
       "      <td>7.989691</td>\n",
       "    </tr>\n",
       "    <tr>\n",
       "      <th>14</th>\n",
       "      <td>104869322</td>\n",
       "      <td>Nordrhein_Westfalen</td>\n",
       "      <td>397.93</td>\n",
       "      <td>NaN</td>\n",
       "      <td>4.62</td>\n",
       "      <td>81.56</td>\n",
       "      <td>44227</td>\n",
       "      <td>8</td>\n",
       "      <td>False</td>\n",
       "      <td>1983.0</td>\n",
       "      <td>...</td>\n",
       "      <td>17935147</td>\n",
       "      <td>-0.02</td>\n",
       "      <td>stable</td>\n",
       "      <td>34098</td>\n",
       "      <td>526</td>\n",
       "      <td>41.41</td>\n",
       "      <td>2.12</td>\n",
       "      <td>0.33</td>\n",
       "      <td>587010</td>\n",
       "      <td>NaN</td>\n",
       "    </tr>\n",
       "    <tr>\n",
       "      <th>15</th>\n",
       "      <td>115087406</td>\n",
       "      <td>Nordrhein_Westfalen</td>\n",
       "      <td>519.00</td>\n",
       "      <td>735.00</td>\n",
       "      <td>3.30</td>\n",
       "      <td>81.00</td>\n",
       "      <td>44319</td>\n",
       "      <td>4</td>\n",
       "      <td>False</td>\n",
       "      <td>1978.0</td>\n",
       "      <td>...</td>\n",
       "      <td>17935147</td>\n",
       "      <td>-0.02</td>\n",
       "      <td>stable</td>\n",
       "      <td>34098</td>\n",
       "      <td>526</td>\n",
       "      <td>41.41</td>\n",
       "      <td>2.12</td>\n",
       "      <td>0.33</td>\n",
       "      <td>587010</td>\n",
       "      <td>9.074074</td>\n",
       "    </tr>\n",
       "    <tr>\n",
       "      <th>16</th>\n",
       "      <td>88504105</td>\n",
       "      <td>Nordrhein_Westfalen</td>\n",
       "      <td>1040.00</td>\n",
       "      <td>1330.00</td>\n",
       "      <td>NaN</td>\n",
       "      <td>130.00</td>\n",
       "      <td>44139</td>\n",
       "      <td>12</td>\n",
       "      <td>False</td>\n",
       "      <td>NaN</td>\n",
       "      <td>...</td>\n",
       "      <td>17935147</td>\n",
       "      <td>-0.02</td>\n",
       "      <td>stable</td>\n",
       "      <td>34098</td>\n",
       "      <td>526</td>\n",
       "      <td>41.41</td>\n",
       "      <td>2.12</td>\n",
       "      <td>0.33</td>\n",
       "      <td>587010</td>\n",
       "      <td>10.230769</td>\n",
       "    </tr>\n",
       "    <tr>\n",
       "      <th>17</th>\n",
       "      <td>113861119</td>\n",
       "      <td>Nordrhein_Westfalen</td>\n",
       "      <td>497.00</td>\n",
       "      <td>640.00</td>\n",
       "      <td>3.28</td>\n",
       "      <td>74.17</td>\n",
       "      <td>44149</td>\n",
       "      <td>4</td>\n",
       "      <td>False</td>\n",
       "      <td>1960.0</td>\n",
       "      <td>...</td>\n",
       "      <td>17935147</td>\n",
       "      <td>-0.02</td>\n",
       "      <td>stable</td>\n",
       "      <td>34098</td>\n",
       "      <td>526</td>\n",
       "      <td>41.41</td>\n",
       "      <td>2.12</td>\n",
       "      <td>0.33</td>\n",
       "      <td>587010</td>\n",
       "      <td>8.628826</td>\n",
       "    </tr>\n",
       "    <tr>\n",
       "      <th>18</th>\n",
       "      <td>113497310</td>\n",
       "      <td>Nordrhein_Westfalen</td>\n",
       "      <td>320.00</td>\n",
       "      <td>480.00</td>\n",
       "      <td>3.85</td>\n",
       "      <td>46.15</td>\n",
       "      <td>44147</td>\n",
       "      <td>6</td>\n",
       "      <td>False</td>\n",
       "      <td>1937.0</td>\n",
       "      <td>...</td>\n",
       "      <td>17935147</td>\n",
       "      <td>-0.02</td>\n",
       "      <td>stable</td>\n",
       "      <td>34098</td>\n",
       "      <td>526</td>\n",
       "      <td>41.41</td>\n",
       "      <td>2.12</td>\n",
       "      <td>0.33</td>\n",
       "      <td>587010</td>\n",
       "      <td>10.400867</td>\n",
       "    </tr>\n",
       "    <tr>\n",
       "      <th>19</th>\n",
       "      <td>113554321</td>\n",
       "      <td>Nordrhein_Westfalen</td>\n",
       "      <td>298.00</td>\n",
       "      <td>502.00</td>\n",
       "      <td>4.66</td>\n",
       "      <td>48.42</td>\n",
       "      <td>44369</td>\n",
       "      <td>9</td>\n",
       "      <td>False</td>\n",
       "      <td>1938.0</td>\n",
       "      <td>...</td>\n",
       "      <td>17935147</td>\n",
       "      <td>-0.02</td>\n",
       "      <td>stable</td>\n",
       "      <td>34098</td>\n",
       "      <td>526</td>\n",
       "      <td>41.41</td>\n",
       "      <td>2.12</td>\n",
       "      <td>0.33</td>\n",
       "      <td>587010</td>\n",
       "      <td>10.367617</td>\n",
       "    </tr>\n",
       "  </tbody>\n",
       "</table>\n",
       "<p>20 rows × 40 columns</p>\n",
       "</div>"
      ],
      "text/plain": [
       "      scoutId               regio1  baseRent  totalRent  pricetrend  \\\n",
       "0    96107057  Nordrhein_Westfalen    595.00     840.00        4.62   \n",
       "1    92798563  Nordrhein_Westfalen    972.60    1320.65        3.76   \n",
       "2   114894763  Nordrhein_Westfalen    396.80     493.80        4.10   \n",
       "3    90046012  Nordrhein_Westfalen    310.00     460.00        3.28   \n",
       "4    87928570  Nordrhein_Westfalen    301.00        NaN        4.41   \n",
       "5    79343710  Nordrhein_Westfalen   1550.00    2205.00        3.85   \n",
       "6    62267211  Nordrhein_Westfalen    440.00     525.00        4.41   \n",
       "7    93403649  Nordrhein_Westfalen    370.00     500.00        4.55   \n",
       "8   113557346  Nordrhein_Westfalen    403.75     653.75        3.71   \n",
       "9   111370962  Nordrhein_Westfalen    512.00     672.00        4.44   \n",
       "10  107358285  Nordrhein_Westfalen    372.09     522.09        4.69   \n",
       "11  115284222  Nordrhein_Westfalen    419.00     580.00        4.74   \n",
       "12   99644451  Nordrhein_Westfalen    999.00    1199.00        3.44   \n",
       "13  111401006  Nordrhein_Westfalen    625.00     775.00        2.64   \n",
       "14  104869322  Nordrhein_Westfalen    397.93        NaN        4.62   \n",
       "15  115087406  Nordrhein_Westfalen    519.00     735.00        3.30   \n",
       "16   88504105  Nordrhein_Westfalen   1040.00    1330.00         NaN   \n",
       "17  113861119  Nordrhein_Westfalen    497.00     640.00        3.28   \n",
       "18  113497310  Nordrhein_Westfalen    320.00     480.00        3.85   \n",
       "19  113554321  Nordrhein_Westfalen    298.00     502.00        4.66   \n",
       "\n",
       "    livingSpace    plz  picturecount  newlyConst  yearConstructed  ...  \\\n",
       "0         86.00  44269             6       False           1965.0  ...   \n",
       "1         87.00  44229            12        True           2018.0  ...   \n",
       "2         62.00  44137             0       False           1958.0  ...   \n",
       "3         55.00  44329            14       False           1930.0  ...   \n",
       "4         30.07  44137            31       False           1979.0  ...   \n",
       "5        148.00  44229            32       False           2015.0  ...   \n",
       "6         67.00  44137             6       False           1965.0  ...   \n",
       "7         50.00  44287            13       False              NaN  ...   \n",
       "8         85.00  44143             8       False           1981.0  ...   \n",
       "9         64.00  44225             5       False           1964.0  ...   \n",
       "10        42.80  44339             7       False           1954.0  ...   \n",
       "11        53.03  44369             2       False           1951.0  ...   \n",
       "12        80.00  44141            14       False              NaN  ...   \n",
       "13        97.00  44289            18       False              NaN  ...   \n",
       "14        81.56  44227             8       False           1983.0  ...   \n",
       "15        81.00  44319             4       False           1978.0  ...   \n",
       "16       130.00  44139            12       False              NaN  ...   \n",
       "17        74.17  44149             4       False           1960.0  ...   \n",
       "18        46.15  44147             6       False           1937.0  ...   \n",
       "19        48.42  44369             9       False           1938.0  ...   \n",
       "\n",
       "   population populationTrend  popTrendCat  surfaceArea populationDensity  \\\n",
       "0    17935147           -0.02       stable        34098               526   \n",
       "1    17935147           -0.02       stable        34098               526   \n",
       "2    17935147           -0.02       stable        34098               526   \n",
       "3    17935147           -0.02       stable        34098               526   \n",
       "4    17935147           -0.02       stable        34098               526   \n",
       "5    17935147           -0.02       stable        34098               526   \n",
       "6    17935147           -0.02       stable        34098               526   \n",
       "7    17935147           -0.02       stable        34098               526   \n",
       "8    17935147           -0.02       stable        34098               526   \n",
       "9    17935147           -0.02       stable        34098               526   \n",
       "10   17935147           -0.02       stable        34098               526   \n",
       "11   17935147           -0.02       stable        34098               526   \n",
       "12   17935147           -0.02       stable        34098               526   \n",
       "13   17935147           -0.02       stable        34098               526   \n",
       "14   17935147           -0.02       stable        34098               526   \n",
       "15   17935147           -0.02       stable        34098               526   \n",
       "16   17935147           -0.02       stable        34098               526   \n",
       "17   17935147           -0.02       stable        34098               526   \n",
       "18   17935147           -0.02       stable        34098               526   \n",
       "19   17935147           -0.02       stable        34098               526   \n",
       "\n",
       "   space/person  people/apt districtPopTrend  districtPop  price/unit  \n",
       "0         41.41        2.12             0.33       587010    9.767442  \n",
       "1         41.41        2.12             0.33       587010   15.179885  \n",
       "2         41.41        2.12             0.33       587010    7.964516  \n",
       "3         41.41        2.12             0.33       587010    8.363636  \n",
       "4         41.41        2.12             0.33       587010         NaN  \n",
       "5         41.41        2.12             0.33       587010   14.898649  \n",
       "6         41.41        2.12             0.33       587010    7.835821  \n",
       "7         41.41        2.12             0.33       587010   10.000000  \n",
       "8         41.41        2.12             0.33       587010    7.691176  \n",
       "9         41.41        2.12             0.33       587010   10.500000  \n",
       "10        41.41        2.12             0.33       587010   12.198364  \n",
       "11        41.41        2.12             0.33       587010   10.937205  \n",
       "12        41.41        2.12             0.33       587010   14.987500  \n",
       "13        41.41        2.12             0.33       587010    7.989691  \n",
       "14        41.41        2.12             0.33       587010         NaN  \n",
       "15        41.41        2.12             0.33       587010    9.074074  \n",
       "16        41.41        2.12             0.33       587010   10.230769  \n",
       "17        41.41        2.12             0.33       587010    8.628826  \n",
       "18        41.41        2.12             0.33       587010   10.400867  \n",
       "19        41.41        2.12             0.33       587010   10.367617  \n",
       "\n",
       "[20 rows x 40 columns]"
      ]
     },
     "execution_count": 7,
     "metadata": {},
     "output_type": "execute_result"
    }
   ],
   "source": [
    "df.head(20)"
   ]
  },
  {
   "cell_type": "code",
   "execution_count": 8,
   "metadata": {
    "scrolled": true
   },
   "outputs": [
    {
     "data": {
      "text/plain": [
       "(257607, 40)"
      ]
     },
     "execution_count": 8,
     "metadata": {},
     "output_type": "execute_result"
    }
   ],
   "source": [
    "df.shape"
   ]
  },
  {
   "cell_type": "code",
   "execution_count": 9,
   "metadata": {},
   "outputs": [
    {
     "data": {
      "text/plain": [
       "Index(['scoutId', 'regio1', 'baseRent', 'totalRent', 'pricetrend',\n",
       "       'livingSpace', 'plz', 'picturecount', 'newlyConst', 'yearConstructed',\n",
       "       'firingTypes', 'heatingType', 'hasKitchen', 'cellar', 'condition',\n",
       "       'street', 'lift', 'typeOfFlat', 'noRooms', 'floor', 'balcony', 'garden',\n",
       "       'baseRentRange', 'noRoomsRange', 'livingSpaceRange',\n",
       "       'yearConstructedRange', 'regio2', 'regio3', 'description', 'date',\n",
       "       'population', 'populationTrend', 'popTrendCat', 'surfaceArea',\n",
       "       'populationDensity', 'space/person', 'people/apt', 'districtPopTrend',\n",
       "       'districtPop', 'price/unit'],\n",
       "      dtype='object')"
      ]
     },
     "execution_count": 9,
     "metadata": {},
     "output_type": "execute_result"
    }
   ],
   "source": [
    "df.columns"
   ]
  },
  {
   "cell_type": "code",
   "execution_count": 10,
   "metadata": {},
   "outputs": [],
   "source": [
    "df['hasKitchen'] = df['hasKitchen'].astype(int)"
   ]
  },
  {
   "cell_type": "code",
   "execution_count": 11,
   "metadata": {},
   "outputs": [],
   "source": [
    "df['balcony'] = df['balcony'].astype(int)"
   ]
  },
  {
   "cell_type": "code",
   "execution_count": 12,
   "metadata": {},
   "outputs": [],
   "source": [
    "df['lift'] = df['lift'].astype(int)"
   ]
  },
  {
   "cell_type": "code",
   "execution_count": 27,
   "metadata": {},
   "outputs": [],
   "source": [
    "# Create subset with just the factors that interest me for regression\n",
    "reg_sub = df[['livingSpace', 'totalRent', 'pricetrend', 'populationTrend', 'districtPopTrend', 'districtPop', 'hasKitchen', 'picturecount', 'populationDensity', 'balcony', 'lift']]"
   ]
  },
  {
   "cell_type": "markdown",
   "metadata": {},
   "source": [
    "##### Missing values"
   ]
  },
  {
   "cell_type": "code",
   "execution_count": 28,
   "metadata": {},
   "outputs": [
    {
     "data": {
      "text/plain": [
       "livingSpace             70\n",
       "totalRent            39303\n",
       "pricetrend            1708\n",
       "populationTrend          0\n",
       "districtPopTrend         0\n",
       "districtPop              0\n",
       "hasKitchen               0\n",
       "picturecount             0\n",
       "populationDensity        0\n",
       "balcony                  0\n",
       "lift                     0\n",
       "dtype: int64"
      ]
     },
     "execution_count": 28,
     "metadata": {},
     "output_type": "execute_result"
    }
   ],
   "source": [
    "# Check for missing values\n",
    "\n",
    "reg_sub.isnull().sum()\n"
   ]
  },
  {
   "cell_type": "code",
   "execution_count": 29,
   "metadata": {},
   "outputs": [],
   "source": [
    "# drop blank values \n",
    "reg_sub_trim = reg_sub.dropna(inplace=False)"
   ]
  },
  {
   "cell_type": "code",
   "execution_count": 30,
   "metadata": {},
   "outputs": [
    {
     "data": {
      "text/plain": [
       "livingSpace          0\n",
       "totalRent            0\n",
       "pricetrend           0\n",
       "populationTrend      0\n",
       "districtPopTrend     0\n",
       "districtPop          0\n",
       "hasKitchen           0\n",
       "picturecount         0\n",
       "populationDensity    0\n",
       "balcony              0\n",
       "lift                 0\n",
       "dtype: int64"
      ]
     },
     "execution_count": 30,
     "metadata": {},
     "output_type": "execute_result"
    }
   ],
   "source": [
    "reg_sub_trim.isnull().sum()"
   ]
  },
  {
   "cell_type": "markdown",
   "metadata": {},
   "source": [
    "##### Duplicates check"
   ]
  },
  {
   "cell_type": "code",
   "execution_count": 38,
   "metadata": {},
   "outputs": [],
   "source": [
    "dups = reg_sub_trim.duplicated()"
   ]
  },
  {
   "cell_type": "code",
   "execution_count": 39,
   "metadata": {},
   "outputs": [
    {
     "data": {
      "text/plain": [
       "(216760,)"
      ]
     },
     "execution_count": 39,
     "metadata": {},
     "output_type": "execute_result"
    }
   ],
   "source": [
    "dups.shape # No dups"
   ]
  },
  {
   "cell_type": "markdown",
   "metadata": {},
   "source": [
    "### 3. Data prep for regression analysis "
   ]
  },
  {
   "cell_type": "code",
   "execution_count": 18,
   "metadata": {},
   "outputs": [],
   "source": [
    "from sklearn import linear_model"
   ]
  },
  {
   "cell_type": "code",
   "execution_count": 31,
   "metadata": {},
   "outputs": [],
   "source": [
    "X = reg_sub_trim[['populationTrend', 'livingSpace', 'pricetrend', 'districtPopTrend', 'districtPop', 'hasKitchen', 'picturecount', 'populationDensity', 'balcony', 'lift']]\n",
    "y = reg_sub_trim['totalRent']"
   ]
  },
  {
   "cell_type": "code",
   "execution_count": 20,
   "metadata": {},
   "outputs": [
    {
     "data": {
      "text/plain": [
       "0          840.00\n",
       "1         1320.65\n",
       "2          493.80\n",
       "3          460.00\n",
       "5         2205.00\n",
       "           ...   \n",
       "257601     590.00\n",
       "257602    1000.00\n",
       "257604     700.00\n",
       "257605     300.00\n",
       "257606     840.00\n",
       "Name: totalRent, Length: 218251, dtype: float64"
      ]
     },
     "execution_count": 20,
     "metadata": {},
     "output_type": "execute_result"
    }
   ],
   "source": [
    "y"
   ]
  },
  {
   "cell_type": "code",
   "execution_count": 32,
   "metadata": {
    "scrolled": true
   },
   "outputs": [],
   "source": [
    "#Splitting the dataset\n",
    "from sklearn.model_selection import train_test_split\n",
    "x_train, x_test, y_train, y_test = train_test_split(X, y, test_size = 0.3, random_state = 100)"
   ]
  },
  {
   "cell_type": "code",
   "execution_count": 33,
   "metadata": {},
   "outputs": [
    {
     "data": {
      "text/html": [
       "<style>#sk-container-id-2 {color: black;background-color: white;}#sk-container-id-2 pre{padding: 0;}#sk-container-id-2 div.sk-toggleable {background-color: white;}#sk-container-id-2 label.sk-toggleable__label {cursor: pointer;display: block;width: 100%;margin-bottom: 0;padding: 0.3em;box-sizing: border-box;text-align: center;}#sk-container-id-2 label.sk-toggleable__label-arrow:before {content: \"▸\";float: left;margin-right: 0.25em;color: #696969;}#sk-container-id-2 label.sk-toggleable__label-arrow:hover:before {color: black;}#sk-container-id-2 div.sk-estimator:hover label.sk-toggleable__label-arrow:before {color: black;}#sk-container-id-2 div.sk-toggleable__content {max-height: 0;max-width: 0;overflow: hidden;text-align: left;background-color: #f0f8ff;}#sk-container-id-2 div.sk-toggleable__content pre {margin: 0.2em;color: black;border-radius: 0.25em;background-color: #f0f8ff;}#sk-container-id-2 input.sk-toggleable__control:checked~div.sk-toggleable__content {max-height: 200px;max-width: 100%;overflow: auto;}#sk-container-id-2 input.sk-toggleable__control:checked~label.sk-toggleable__label-arrow:before {content: \"▾\";}#sk-container-id-2 div.sk-estimator input.sk-toggleable__control:checked~label.sk-toggleable__label {background-color: #d4ebff;}#sk-container-id-2 div.sk-label input.sk-toggleable__control:checked~label.sk-toggleable__label {background-color: #d4ebff;}#sk-container-id-2 input.sk-hidden--visually {border: 0;clip: rect(1px 1px 1px 1px);clip: rect(1px, 1px, 1px, 1px);height: 1px;margin: -1px;overflow: hidden;padding: 0;position: absolute;width: 1px;}#sk-container-id-2 div.sk-estimator {font-family: monospace;background-color: #f0f8ff;border: 1px dotted black;border-radius: 0.25em;box-sizing: border-box;margin-bottom: 0.5em;}#sk-container-id-2 div.sk-estimator:hover {background-color: #d4ebff;}#sk-container-id-2 div.sk-parallel-item::after {content: \"\";width: 100%;border-bottom: 1px solid gray;flex-grow: 1;}#sk-container-id-2 div.sk-label:hover label.sk-toggleable__label {background-color: #d4ebff;}#sk-container-id-2 div.sk-serial::before {content: \"\";position: absolute;border-left: 1px solid gray;box-sizing: border-box;top: 0;bottom: 0;left: 50%;z-index: 0;}#sk-container-id-2 div.sk-serial {display: flex;flex-direction: column;align-items: center;background-color: white;padding-right: 0.2em;padding-left: 0.2em;position: relative;}#sk-container-id-2 div.sk-item {position: relative;z-index: 1;}#sk-container-id-2 div.sk-parallel {display: flex;align-items: stretch;justify-content: center;background-color: white;position: relative;}#sk-container-id-2 div.sk-item::before, #sk-container-id-2 div.sk-parallel-item::before {content: \"\";position: absolute;border-left: 1px solid gray;box-sizing: border-box;top: 0;bottom: 0;left: 50%;z-index: -1;}#sk-container-id-2 div.sk-parallel-item {display: flex;flex-direction: column;z-index: 1;position: relative;background-color: white;}#sk-container-id-2 div.sk-parallel-item:first-child::after {align-self: flex-end;width: 50%;}#sk-container-id-2 div.sk-parallel-item:last-child::after {align-self: flex-start;width: 50%;}#sk-container-id-2 div.sk-parallel-item:only-child::after {width: 0;}#sk-container-id-2 div.sk-dashed-wrapped {border: 1px dashed gray;margin: 0 0.4em 0.5em 0.4em;box-sizing: border-box;padding-bottom: 0.4em;background-color: white;}#sk-container-id-2 div.sk-label label {font-family: monospace;font-weight: bold;display: inline-block;line-height: 1.2em;}#sk-container-id-2 div.sk-label-container {text-align: center;}#sk-container-id-2 div.sk-container {/* jupyter's `normalize.less` sets `[hidden] { display: none; }` but bootstrap.min.css set `[hidden] { display: none !important; }` so we also need the `!important` here to be able to override the default hidden behavior on the sphinx rendered scikit-learn.org. See: https://github.com/scikit-learn/scikit-learn/issues/21755 */display: inline-block !important;position: relative;}#sk-container-id-2 div.sk-text-repr-fallback {display: none;}</style><div id=\"sk-container-id-2\" class=\"sk-top-container\"><div class=\"sk-text-repr-fallback\"><pre>LinearRegression()</pre><b>In a Jupyter environment, please rerun this cell to show the HTML representation or trust the notebook. <br />On GitHub, the HTML representation is unable to render, please try loading this page with nbviewer.org.</b></div><div class=\"sk-container\" hidden><div class=\"sk-item\"><div class=\"sk-estimator sk-toggleable\"><input class=\"sk-toggleable__control sk-hidden--visually\" id=\"sk-estimator-id-2\" type=\"checkbox\" checked><label for=\"sk-estimator-id-2\" class=\"sk-toggleable__label sk-toggleable__label-arrow\">LinearRegression</label><div class=\"sk-toggleable__content\"><pre>LinearRegression()</pre></div></div></div></div></div>"
      ],
      "text/plain": [
       "LinearRegression()"
      ]
     },
     "execution_count": 33,
     "metadata": {},
     "output_type": "execute_result"
    }
   ],
   "source": [
    "mlr = LinearRegression()  \n",
    "mlr.fit(x_train, y_train)"
   ]
  },
  {
   "cell_type": "markdown",
   "metadata": {},
   "source": [
    "### 4. Regression analysis"
   ]
  },
  {
   "cell_type": "code",
   "execution_count": 34,
   "metadata": {},
   "outputs": [
    {
     "name": "stdout",
     "output_type": "stream",
     "text": [
      "Intercept: -275.4105102805373\n",
      "Coefficients:\n"
     ]
    },
    {
     "data": {
      "text/plain": [
       "[('populationTrend', 236.16518128908652),\n",
       " ('livingSpace', 11.667524304827383),\n",
       " ('pricetrend', 24.978416951516532),\n",
       " ('districtPopTrend', -2.7801659552113875),\n",
       " ('districtPop', 0.0003991258900415823),\n",
       " ('hasKitchen', 100.59463407298603),\n",
       " ('picturecount', 3.636129686058994),\n",
       " ('populationDensity', -0.28343951714445265),\n",
       " ('balcony', 12.46540899543645),\n",
       " ('lift', 181.7351344668637)]"
      ]
     },
     "execution_count": 34,
     "metadata": {},
     "output_type": "execute_result"
    }
   ],
   "source": [
    "print('Intercept:', mlr.intercept_)\n",
    "print('Coefficients:')\n",
    "list(zip(X, mlr.coef_))"
   ]
  },
  {
   "cell_type": "code",
   "execution_count": 35,
   "metadata": {},
   "outputs": [
    {
     "name": "stdout",
     "output_type": "stream",
     "text": [
      "Prediction for test set: [ 282.12573586  422.59624585 1088.11806101 ...  500.7991107   164.14383556\n",
      "  899.02549286]\n"
     ]
    }
   ],
   "source": [
    "# Prediction of test set\n",
    "y_pred_mlr= mlr.predict(x_test)\n",
    "# Predicted values\n",
    "print('Prediction for test set: {}'.format(y_pred_mlr))"
   ]
  },
  {
   "cell_type": "code",
   "execution_count": 36,
   "metadata": {},
   "outputs": [
    {
     "data": {
      "text/html": [
       "<div>\n",
       "<style scoped>\n",
       "    .dataframe tbody tr th:only-of-type {\n",
       "        vertical-align: middle;\n",
       "    }\n",
       "\n",
       "    .dataframe tbody tr th {\n",
       "        vertical-align: top;\n",
       "    }\n",
       "\n",
       "    .dataframe thead th {\n",
       "        text-align: right;\n",
       "    }\n",
       "</style>\n",
       "<table border=\"1\" class=\"dataframe\">\n",
       "  <thead>\n",
       "    <tr style=\"text-align: right;\">\n",
       "      <th></th>\n",
       "      <th>Actual value</th>\n",
       "      <th>Predicted value</th>\n",
       "    </tr>\n",
       "  </thead>\n",
       "  <tbody>\n",
       "    <tr>\n",
       "      <th>109587</th>\n",
       "      <td>392.81</td>\n",
       "      <td>282.125736</td>\n",
       "    </tr>\n",
       "    <tr>\n",
       "      <th>203583</th>\n",
       "      <td>710.00</td>\n",
       "      <td>422.596246</td>\n",
       "    </tr>\n",
       "    <tr>\n",
       "      <th>104682</th>\n",
       "      <td>698.00</td>\n",
       "      <td>1088.118061</td>\n",
       "    </tr>\n",
       "    <tr>\n",
       "      <th>201752</th>\n",
       "      <td>1130.00</td>\n",
       "      <td>1231.008947</td>\n",
       "    </tr>\n",
       "    <tr>\n",
       "      <th>249071</th>\n",
       "      <td>1030.00</td>\n",
       "      <td>1144.704398</td>\n",
       "    </tr>\n",
       "  </tbody>\n",
       "</table>\n",
       "</div>"
      ],
      "text/plain": [
       "        Actual value  Predicted value\n",
       "109587        392.81       282.125736\n",
       "203583        710.00       422.596246\n",
       "104682        698.00      1088.118061\n",
       "201752       1130.00      1231.008947\n",
       "249071       1030.00      1144.704398"
      ]
     },
     "execution_count": 36,
     "metadata": {},
     "output_type": "execute_result"
    }
   ],
   "source": [
    "mlr_diff = pd.DataFrame({'Actual value': y_test, 'Predicted value': y_pred_mlr})\n",
    "mlr_diff.head()"
   ]
  },
  {
   "cell_type": "markdown",
   "metadata": {},
   "source": [
    "# This model performed the best"
   ]
  },
  {
   "cell_type": "code",
   "execution_count": 37,
   "metadata": {},
   "outputs": [
    {
     "name": "stdout",
     "output_type": "stream",
     "text": [
      "R squared: 72.47\n",
      "Mean Absolute Error: 178.57121047262856\n",
      "Mean Square Error: 84669.75586375213\n",
      "Root Mean Square Error: 290.9806795368932\n"
     ]
    }
   ],
   "source": [
    "from sklearn import metrics\n",
    "meanAbErr = metrics.mean_absolute_error(y_test, y_pred_mlr)\n",
    "meanSqErr = metrics.mean_squared_error(y_test, y_pred_mlr)\n",
    "rootMeanSqErr = np.sqrt(metrics.mean_squared_error(y_test, y_pred_mlr))\n",
    "print('R squared: {:.2f}'.format(mlr.score(X,y)*100))\n",
    "print('Mean Absolute Error:', meanAbErr)\n",
    "print('Mean Square Error:', meanSqErr)\n",
    "print('Root Mean Square Error:', rootMeanSqErr)\n",
    "# kitchen, district pop, state pop, picture count, popdensity, balcony, lift, living space, district pop, pricetrend"
   ]
  },
  {
   "cell_type": "markdown",
   "metadata": {},
   "source": [
    "# Other model results below"
   ]
  },
  {
   "cell_type": "code",
   "execution_count": 26,
   "metadata": {},
   "outputs": [
    {
     "name": "stdout",
     "output_type": "stream",
     "text": [
      "R squared: 72.02\n",
      "Mean Absolute Error: 182.53619731711117\n",
      "Mean Square Error: 87635.94427378477\n",
      "Root Mean Square Error: 296.03368773466434\n"
     ]
    }
   ],
   "source": [
    "from sklearn import metrics\n",
    "meanAbErr = metrics.mean_absolute_error(y_test, y_pred_mlr)\n",
    "meanSqErr = metrics.mean_squared_error(y_test, y_pred_mlr)\n",
    "rootMeanSqErr = np.sqrt(metrics.mean_squared_error(y_test, y_pred_mlr))\n",
    "print('R squared: {:.2f}'.format(mlr.score(X,y)*100))\n",
    "print('Mean Absolute Error:', meanAbErr)\n",
    "print('Mean Square Error:', meanSqErr)\n",
    "print('Root Mean Square Error:', rootMeanSqErr)\n",
    "# kitchen, district pop, state pop, picture count, popdensity, balcony, lift, living space, district pop"
   ]
  },
  {
   "cell_type": "code",
   "execution_count": 22,
   "metadata": {},
   "outputs": [
    {
     "name": "stdout",
     "output_type": "stream",
     "text": [
      "R squared: 68.22\n",
      "Mean Absolute Error: 192.66423514943415\n",
      "Mean Square Error: 100922.41120483697\n",
      "Root Mean Square Error: 317.6828783627424\n"
     ]
    }
   ],
   "source": [
    "from sklearn import metrics\n",
    "meanAbErr = metrics.mean_absolute_error(y_test, y_pred_mlr)\n",
    "meanSqErr = metrics.mean_squared_error(y_test, y_pred_mlr)\n",
    "rootMeanSqErr = np.sqrt(metrics.mean_squared_error(y_test, y_pred_mlr))\n",
    "print('R squared: {:.2f}'.format(mlr.score(X,y)*100))\n",
    "print('Mean Absolute Error:', meanAbErr)\n",
    "print('Mean Square Error:', meanSqErr)\n",
    "print('Root Mean Square Error:', rootMeanSqErr)\n",
    "# kitchen, district pop, state pop, picture count, popdensity, balcony, lift, living space"
   ]
  },
  {
   "cell_type": "code",
   "execution_count": 199,
   "metadata": {},
   "outputs": [
    {
     "name": "stdout",
     "output_type": "stream",
     "text": [
      "R squared: 30.06\n",
      "Mean Absolute Error: 2.7915192246075753\n",
      "Mean Square Error: 21.144783600099927\n",
      "Root Mean Square Error: 4.5983457460373645\n"
     ]
    }
   ],
   "source": [
    "from sklearn import metrics\n",
    "meanAbErr = metrics.mean_absolute_error(y_test, y_pred_mlr)\n",
    "meanSqErr = metrics.mean_squared_error(y_test, y_pred_mlr)\n",
    "rootMeanSqErr = np.sqrt(metrics.mean_squared_error(y_test, y_pred_mlr))\n",
    "print('R squared: {:.2f}'.format(mlr.score(X,y)*100))\n",
    "print('Mean Absolute Error:', meanAbErr)\n",
    "print('Mean Square Error:', meanSqErr)\n",
    "print('Root Mean Square Error:', rootMeanSqErr)\n",
    "# kitchen, district pop, state pop, picture count, popdensity, balcony with PRICEPERUNIT"
   ]
  },
  {
   "cell_type": "code",
   "execution_count": 176,
   "metadata": {},
   "outputs": [
    {
     "name": "stdout",
     "output_type": "stream",
     "text": [
      "R squared: 65.90\n",
      "Mean Absolute Error: 200.41431779783144\n",
      "Mean Square Error: 108240.0376943712\n",
      "Root Mean Square Error: 328.998537526189\n"
     ]
    }
   ],
   "source": [
    "from sklearn import metrics\n",
    "meanAbErr = metrics.mean_absolute_error(y_test, y_pred_mlr)\n",
    "meanSqErr = metrics.mean_squared_error(y_test, y_pred_mlr)\n",
    "rootMeanSqErr = np.sqrt(metrics.mean_squared_error(y_test, y_pred_mlr))\n",
    "print('R squared: {:.2f}'.format(mlr.score(X,y)*100))\n",
    "print('Mean Absolute Error:', meanAbErr)\n",
    "print('Mean Square Error:', meanSqErr)\n",
    "print('Root Mean Square Error:', rootMeanSqErr)\n",
    "# kitchen, district pop, state pop, livingspace, picture count, popdensity, balcony"
   ]
  },
  {
   "cell_type": "code",
   "execution_count": 187,
   "metadata": {},
   "outputs": [
    {
     "name": "stdout",
     "output_type": "stream",
     "text": [
      "R squared: 58.63\n",
      "Mean Absolute Error: 212.49381327641376\n",
      "Mean Square Error: 124941.64928145382\n",
      "Root Mean Square Error: 353.4708605832365\n"
     ]
    }
   ],
   "source": [
    "#note- worse with range\n",
    "from sklearn import metrics\n",
    "meanAbErr = metrics.mean_absolute_error(y_test, y_pred_mlr)\n",
    "meanSqErr = metrics.mean_squared_error(y_test, y_pred_mlr)\n",
    "rootMeanSqErr = np.sqrt(metrics.mean_squared_error(y_test, y_pred_mlr))\n",
    "print('R squared: {:.2f}'.format(mlr.score(X,y)*100))\n",
    "print('Mean Absolute Error:', meanAbErr)\n",
    "print('Mean Square Error:', meanSqErr)\n",
    "print('Root Mean Square Error:', rootMeanSqErr)\n",
    "# kitchen, district pop, state pop, livingspaceRange, picture count, popdensity, balcony"
   ]
  },
  {
   "cell_type": "code",
   "execution_count": 159,
   "metadata": {},
   "outputs": [
    {
     "name": "stdout",
     "output_type": "stream",
     "text": [
      "R squared: 65.11\n",
      "Mean Absolute Error: 204.27879864101092\n",
      "Mean Square Error: 110624.24597058757\n",
      "Root Mean Square Error: 332.6022338628945\n"
     ]
    }
   ],
   "source": [
    "from sklearn import metrics\n",
    "meanAbErr = metrics.mean_absolute_error(y_test, y_pred_mlr)\n",
    "meanSqErr = metrics.mean_squared_error(y_test, y_pred_mlr)\n",
    "rootMeanSqErr = np.sqrt(metrics.mean_squared_error(y_test, y_pred_mlr))\n",
    "print('R squared: {:.2f}'.format(mlr.score(X,y)*100))\n",
    "print('Mean Absolute Error:', meanAbErr)\n",
    "print('Mean Square Error:', meanSqErr)\n",
    "print('Root Mean Square Error:', rootMeanSqErr)\n",
    "# kitchen, district pop, state pop, livingspace, picturecount"
   ]
  }
 ],
 "metadata": {
  "kernelspec": {
   "display_name": "Python 3 (ipykernel)",
   "language": "python",
   "name": "python3"
  },
  "language_info": {
   "codemirror_mode": {
    "name": "ipython",
    "version": 3
   },
   "file_extension": ".py",
   "mimetype": "text/x-python",
   "name": "python",
   "nbconvert_exporter": "python",
   "pygments_lexer": "ipython3",
   "version": "3.10.9"
  }
 },
 "nbformat": 4,
 "nbformat_minor": 4
}

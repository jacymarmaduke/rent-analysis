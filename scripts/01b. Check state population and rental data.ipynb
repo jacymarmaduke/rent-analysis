{
 "cells": [
  {
   "cell_type": "markdown",
   "id": "02ce1848",
   "metadata": {},
   "source": [
    "## This notebook contains:\n",
    "### 01. Import libraries and data\n",
    "### 02. A note on umlauts\n",
    "### 03. Check data\n",
    "\n",
    "#### Note: The source of this data is a spreadsheet of my own design where I combined German state-level population and rental property data. The data came from the Federal Statistical Office of Germany. The population trend variables refer the average rate of population change in each state between 2018 and 2020, when the rental data was collected.\n"
   ]
  },
  {
   "cell_type": "markdown",
   "id": "91307b29",
   "metadata": {},
   "source": [
    "# 01. Import libraries and data"
   ]
  },
  {
   "cell_type": "code",
   "execution_count": 1,
   "id": "15c35d32",
   "metadata": {},
   "outputs": [],
   "source": [
    "# import libraries\n",
    "import pandas as pd\n",
    "import numpy as np\n",
    "import os"
   ]
  },
  {
   "cell_type": "code",
   "execution_count": 2,
   "id": "f25a0bcb",
   "metadata": {},
   "outputs": [],
   "source": [
    "# create shortcut for data imports\n",
    "path = r'C:\\Users\\jacym\\Desktop\\Career Foundry projects\\german rent'"
   ]
  },
  {
   "cell_type": "code",
   "execution_count": 3,
   "id": "b8047789",
   "metadata": {},
   "outputs": [],
   "source": [
    "df_pop = pd.read_csv(os.path.join(path, '02 data', 'original data', 'state_pop.csv'), index_col = False)"
   ]
  },
  {
   "cell_type": "markdown",
   "id": "49fe1c28",
   "metadata": {},
   "source": [
    "# 02. A note on umlauts\n",
    "\n",
    "Save any Excel files as CSV UTF-8, then import normally and the special characters should be preserved. When exporting, specify encoding = 'utf8' after path and before index (see data import and cleaning)"
   ]
  },
  {
   "cell_type": "markdown",
   "id": "85338cd1",
   "metadata": {},
   "source": [
    "# 03. Check data"
   ]
  },
  {
   "cell_type": "code",
   "execution_count": 4,
   "id": "938689e2",
   "metadata": {},
   "outputs": [
    {
     "data": {
      "text/html": [
       "<div>\n",
       "<style scoped>\n",
       "    .dataframe tbody tr th:only-of-type {\n",
       "        vertical-align: middle;\n",
       "    }\n",
       "\n",
       "    .dataframe tbody tr th {\n",
       "        vertical-align: top;\n",
       "    }\n",
       "\n",
       "    .dataframe thead th {\n",
       "        text-align: right;\n",
       "    }\n",
       "</style>\n",
       "<table border=\"1\" class=\"dataframe\">\n",
       "  <thead>\n",
       "    <tr style=\"text-align: right;\">\n",
       "      <th></th>\n",
       "      <th>state</th>\n",
       "      <th>population</th>\n",
       "      <th>surface area</th>\n",
       "      <th>population density</th>\n",
       "      <th>space/person</th>\n",
       "      <th>people/apt</th>\n",
       "      <th>population trend</th>\n",
       "      <th>pop trend cat</th>\n",
       "    </tr>\n",
       "  </thead>\n",
       "  <tbody>\n",
       "    <tr>\n",
       "      <th>0</th>\n",
       "      <td>Baden_Württemberg</td>\n",
       "      <td>11090990</td>\n",
       "      <td>35751</td>\n",
       "      <td>310</td>\n",
       "      <td>42.55</td>\n",
       "      <td>2.21</td>\n",
       "      <td>0.26</td>\n",
       "      <td>increase</td>\n",
       "    </tr>\n",
       "    <tr>\n",
       "      <th>1</th>\n",
       "      <td>Bayern</td>\n",
       "      <td>13113880</td>\n",
       "      <td>70552</td>\n",
       "      <td>186</td>\n",
       "      <td>44.28</td>\n",
       "      <td>2.15</td>\n",
       "      <td>0.35</td>\n",
       "      <td>increase</td>\n",
       "    </tr>\n",
       "    <tr>\n",
       "      <th>2</th>\n",
       "      <td>Berlin</td>\n",
       "      <td>3659468</td>\n",
       "      <td>892</td>\n",
       "      <td>4103</td>\n",
       "      <td>38.66</td>\n",
       "      <td>1.85</td>\n",
       "      <td>0.39</td>\n",
       "      <td>increase</td>\n",
       "    </tr>\n",
       "    <tr>\n",
       "      <th>3</th>\n",
       "      <td>Brandenburg</td>\n",
       "      <td>2521627</td>\n",
       "      <td>29486</td>\n",
       "      <td>86</td>\n",
       "      <td>40.76</td>\n",
       "      <td>2.00</td>\n",
       "      <td>-0.12</td>\n",
       "      <td>decrease</td>\n",
       "    </tr>\n",
       "    <tr>\n",
       "      <th>4</th>\n",
       "      <td>Bremen</td>\n",
       "      <td>681439</td>\n",
       "      <td>419</td>\n",
       "      <td>1626</td>\n",
       "      <td>40.81</td>\n",
       "      <td>1.92</td>\n",
       "      <td>0.11</td>\n",
       "      <td>increase</td>\n",
       "    </tr>\n",
       "  </tbody>\n",
       "</table>\n",
       "</div>"
      ],
      "text/plain": [
       "               state  population  surface area  population density  \\\n",
       "0  Baden_Württemberg    11090990         35751                 310   \n",
       "1             Bayern    13113880         70552                 186   \n",
       "2             Berlin     3659468           892                4103   \n",
       "3        Brandenburg     2521627         29486                  86   \n",
       "4             Bremen      681439           419                1626   \n",
       "\n",
       "   space/person  people/apt  population trend pop trend cat  \n",
       "0         42.55        2.21              0.26      increase  \n",
       "1         44.28        2.15              0.35      increase  \n",
       "2         38.66        1.85              0.39      increase  \n",
       "3         40.76        2.00             -0.12      decrease  \n",
       "4         40.81        1.92              0.11      increase  "
      ]
     },
     "execution_count": 4,
     "metadata": {},
     "output_type": "execute_result"
    }
   ],
   "source": [
    "df_pop.head()"
   ]
  },
  {
   "cell_type": "code",
   "execution_count": 5,
   "id": "420858e9",
   "metadata": {},
   "outputs": [
    {
     "data": {
      "text/plain": [
       "(16, 8)"
      ]
     },
     "execution_count": 5,
     "metadata": {},
     "output_type": "execute_result"
    }
   ],
   "source": [
    "df_pop.shape"
   ]
  },
  {
   "cell_type": "code",
   "execution_count": 6,
   "id": "56aba4ef",
   "metadata": {},
   "outputs": [
    {
     "data": {
      "text/plain": [
       "state                  object\n",
       "population              int64\n",
       "surface area            int64\n",
       "population density      int64\n",
       "space/person          float64\n",
       "people/apt            float64\n",
       "population trend      float64\n",
       "pop trend cat          object\n",
       "dtype: object"
      ]
     },
     "execution_count": 6,
     "metadata": {},
     "output_type": "execute_result"
    }
   ],
   "source": [
    "df_pop.dtypes\n",
    "# make sure none of the number columns have \"object\" for data type"
   ]
  }
 ],
 "metadata": {
  "kernelspec": {
   "display_name": "Python 3 (ipykernel)",
   "language": "python",
   "name": "python3"
  },
  "language_info": {
   "codemirror_mode": {
    "name": "ipython",
    "version": 3
   },
   "file_extension": ".py",
   "mimetype": "text/x-python",
   "name": "python",
   "nbconvert_exporter": "python",
   "pygments_lexer": "ipython3",
   "version": "3.10.9"
  }
 },
 "nbformat": 4,
 "nbformat_minor": 5
}
